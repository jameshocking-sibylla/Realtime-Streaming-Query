{
 "cells": [
  {
   "cell_type": "code",
   "execution_count": 0,
   "metadata": {
    "application/vnd.databricks.v1+cell": {
     "cellMetadata": {},
     "inputWidgets": {},
     "nuid": "9020c8a2-75f2-40d6-b5de-7cad1567d6de",
     "showTitle": false,
     "title": ""
    }
   },
   "outputs": [
    {
     "output_type": "display_data",
     "data": {
      "text/html": [
       "<style scoped>\n",
       "  .table-result-container {\n",
       "    max-height: 300px;\n",
       "    overflow: auto;\n",
       "  }\n",
       "  table, th, td {\n",
       "    border: 1px solid black;\n",
       "    border-collapse: collapse;\n",
       "  }\n",
       "  th, td {\n",
       "    padding: 5px;\n",
       "  }\n",
       "  th {\n",
       "    text-align: left;\n",
       "  }\n",
       "</style><div class='table-result-container'><table class='table-result'><thead style='background-color: white'><tr><th>path</th><th>name</th><th>size</th></tr></thead><tbody><tr><td>dbfs:/mnt/s3_hootsuite/Final/facebook_connections/_delta_log/</td><td>_delta_log/</td><td>0</td></tr><tr><td>dbfs:/mnt/s3_hootsuite/Final/facebook_connections/part-00000-45738476-6719-4936-a1b1-52cca629fe21-c000.snappy.parquet</td><td>part-00000-45738476-6719-4936-a1b1-52cca629fe21-c000.snappy.parquet</td><td>708</td></tr><tr><td>dbfs:/mnt/s3_hootsuite/Final/facebook_connections/part-00000-901e11d0-1606-4977-9fdf-8e92f41bd6f6-c000.snappy.parquet</td><td>part-00000-901e11d0-1606-4977-9fdf-8e92f41bd6f6-c000.snappy.parquet</td><td>711</td></tr><tr><td>dbfs:/mnt/s3_hootsuite/Final/facebook_connections/part-00000-967fcbb6-cb17-4c3f-bc27-9bf67852334e-c000.snappy.parquet</td><td>part-00000-967fcbb6-cb17-4c3f-bc27-9bf67852334e-c000.snappy.parquet</td><td>711</td></tr><tr><td>dbfs:/mnt/s3_hootsuite/Final/facebook_connections/part-00000-b0a7d7de-2d8a-44eb-a2e6-2aac8de05f28-c000.snappy.parquet</td><td>part-00000-b0a7d7de-2d8a-44eb-a2e6-2aac8de05f28-c000.snappy.parquet</td><td>708</td></tr><tr><td>dbfs:/mnt/s3_hootsuite/Final/facebook_connections/part-00000-b5fa8588-3380-4a18-84c1-909483cdb642-c000.snappy.parquet</td><td>part-00000-b5fa8588-3380-4a18-84c1-909483cdb642-c000.snappy.parquet</td><td>711</td></tr><tr><td>dbfs:/mnt/s3_hootsuite/Final/facebook_connections/part-00000-f65b5cd3-2985-4d1d-98c3-bfc41d1a9d1d-c000.snappy.parquet</td><td>part-00000-f65b5cd3-2985-4d1d-98c3-bfc41d1a9d1d-c000.snappy.parquet</td><td>2003</td></tr></tbody></table></div>"
      ]
     },
     "metadata": {
      "application/vnd.databricks.v1+output": {
       "addedWidgets": {},
       "aggData": [],
       "aggError": "",
       "aggOverflow": false,
       "aggSchema": [],
       "aggSeriesLimitReached": false,
       "aggType": "",
       "arguments": {},
       "columnCustomDisplayInfos": {},
       "data": [
        [
         "dbfs:/mnt/s3_hootsuite/Final/facebook_connections/_delta_log/",
         "_delta_log/",
         0
        ],
        [
         "dbfs:/mnt/s3_hootsuite/Final/facebook_connections/part-00000-45738476-6719-4936-a1b1-52cca629fe21-c000.snappy.parquet",
         "part-00000-45738476-6719-4936-a1b1-52cca629fe21-c000.snappy.parquet",
         708
        ],
        [
         "dbfs:/mnt/s3_hootsuite/Final/facebook_connections/part-00000-901e11d0-1606-4977-9fdf-8e92f41bd6f6-c000.snappy.parquet",
         "part-00000-901e11d0-1606-4977-9fdf-8e92f41bd6f6-c000.snappy.parquet",
         711
        ],
        [
         "dbfs:/mnt/s3_hootsuite/Final/facebook_connections/part-00000-967fcbb6-cb17-4c3f-bc27-9bf67852334e-c000.snappy.parquet",
         "part-00000-967fcbb6-cb17-4c3f-bc27-9bf67852334e-c000.snappy.parquet",
         711
        ],
        [
         "dbfs:/mnt/s3_hootsuite/Final/facebook_connections/part-00000-b0a7d7de-2d8a-44eb-a2e6-2aac8de05f28-c000.snappy.parquet",
         "part-00000-b0a7d7de-2d8a-44eb-a2e6-2aac8de05f28-c000.snappy.parquet",
         708
        ],
        [
         "dbfs:/mnt/s3_hootsuite/Final/facebook_connections/part-00000-b5fa8588-3380-4a18-84c1-909483cdb642-c000.snappy.parquet",
         "part-00000-b5fa8588-3380-4a18-84c1-909483cdb642-c000.snappy.parquet",
         711
        ],
        [
         "dbfs:/mnt/s3_hootsuite/Final/facebook_connections/part-00000-f65b5cd3-2985-4d1d-98c3-bfc41d1a9d1d-c000.snappy.parquet",
         "part-00000-f65b5cd3-2985-4d1d-98c3-bfc41d1a9d1d-c000.snappy.parquet",
         2003
        ]
       ],
       "datasetInfos": [],
       "dbfsResultPath": null,
       "isJsonSchema": true,
       "metadata": {},
       "overflow": false,
       "plotOptions": {
        "customPlotOptions": {},
        "displayType": "table",
        "pivotAggregation": null,
        "pivotColumns": null,
        "xColumns": null,
        "yColumns": null
       },
       "removedWidgets": [],
       "schema": [
        {
         "metadata": "{}",
         "name": "path",
         "type": "\"string\""
        },
        {
         "metadata": "{}",
         "name": "name",
         "type": "\"string\""
        },
        {
         "metadata": "{}",
         "name": "size",
         "type": "\"long\""
        }
       ],
       "type": "table"
      }
     },
     "output_type": "display_data"
    }
   ],
   "source": [
    "%fs ls /mnt/s3_hootsuite/Final/facebook_connections/"
   ]
  },
  {
   "cell_type": "code",
   "execution_count": 0,
   "metadata": {
    "application/vnd.databricks.v1+cell": {
     "cellMetadata": {},
     "inputWidgets": {},
     "nuid": "deedc07c-e289-480a-8db4-a66ecd99b64f",
     "showTitle": false,
     "title": ""
    }
   },
   "outputs": [
    {
     "output_type": "display_data",
     "data": {
      "text/html": [
       "<style scoped>\n",
       "  .table-result-container {\n",
       "    max-height: 300px;\n",
       "    overflow: auto;\n",
       "  }\n",
       "  table, th, td {\n",
       "    border: 1px solid black;\n",
       "    border-collapse: collapse;\n",
       "  }\n",
       "  th, td {\n",
       "    padding: 5px;\n",
       "  }\n",
       "  th {\n",
       "    text-align: left;\n",
       "  }\n",
       "</style><div class='table-result-container'><table class='table-result'><thead style='background-color: white'><tr><th>path</th><th>name</th><th>size</th></tr></thead><tbody><tr><td>dbfs:/databricks-datasets/structured-streaming/events/file-0.json</td><td>file-0.json</td><td>72530</td></tr><tr><td>dbfs:/databricks-datasets/structured-streaming/events/file-1.json</td><td>file-1.json</td><td>72961</td></tr><tr><td>dbfs:/databricks-datasets/structured-streaming/events/file-10.json</td><td>file-10.json</td><td>73025</td></tr><tr><td>dbfs:/databricks-datasets/structured-streaming/events/file-11.json</td><td>file-11.json</td><td>72999</td></tr><tr><td>dbfs:/databricks-datasets/structured-streaming/events/file-12.json</td><td>file-12.json</td><td>72987</td></tr><tr><td>dbfs:/databricks-datasets/structured-streaming/events/file-13.json</td><td>file-13.json</td><td>73006</td></tr><tr><td>dbfs:/databricks-datasets/structured-streaming/events/file-14.json</td><td>file-14.json</td><td>73003</td></tr><tr><td>dbfs:/databricks-datasets/structured-streaming/events/file-15.json</td><td>file-15.json</td><td>73007</td></tr><tr><td>dbfs:/databricks-datasets/structured-streaming/events/file-16.json</td><td>file-16.json</td><td>72978</td></tr><tr><td>dbfs:/databricks-datasets/structured-streaming/events/file-17.json</td><td>file-17.json</td><td>73008</td></tr><tr><td>dbfs:/databricks-datasets/structured-streaming/events/file-18.json</td><td>file-18.json</td><td>73002</td></tr><tr><td>dbfs:/databricks-datasets/structured-streaming/events/file-19.json</td><td>file-19.json</td><td>73014</td></tr><tr><td>dbfs:/databricks-datasets/structured-streaming/events/file-2.json</td><td>file-2.json</td><td>73007</td></tr><tr><td>dbfs:/databricks-datasets/structured-streaming/events/file-20.json</td><td>file-20.json</td><td>72987</td></tr><tr><td>dbfs:/databricks-datasets/structured-streaming/events/file-21.json</td><td>file-21.json</td><td>72983</td></tr><tr><td>dbfs:/databricks-datasets/structured-streaming/events/file-22.json</td><td>file-22.json</td><td>73009</td></tr><tr><td>dbfs:/databricks-datasets/structured-streaming/events/file-23.json</td><td>file-23.json</td><td>72985</td></tr><tr><td>dbfs:/databricks-datasets/structured-streaming/events/file-24.json</td><td>file-24.json</td><td>73020</td></tr><tr><td>dbfs:/databricks-datasets/structured-streaming/events/file-25.json</td><td>file-25.json</td><td>72980</td></tr><tr><td>dbfs:/databricks-datasets/structured-streaming/events/file-26.json</td><td>file-26.json</td><td>73002</td></tr><tr><td>dbfs:/databricks-datasets/structured-streaming/events/file-27.json</td><td>file-27.json</td><td>73013</td></tr><tr><td>dbfs:/databricks-datasets/structured-streaming/events/file-28.json</td><td>file-28.json</td><td>73005</td></tr><tr><td>dbfs:/databricks-datasets/structured-streaming/events/file-29.json</td><td>file-29.json</td><td>72977</td></tr><tr><td>dbfs:/databricks-datasets/structured-streaming/events/file-3.json</td><td>file-3.json</td><td>72996</td></tr><tr><td>dbfs:/databricks-datasets/structured-streaming/events/file-30.json</td><td>file-30.json</td><td>73009</td></tr><tr><td>dbfs:/databricks-datasets/structured-streaming/events/file-31.json</td><td>file-31.json</td><td>73008</td></tr><tr><td>dbfs:/databricks-datasets/structured-streaming/events/file-32.json</td><td>file-32.json</td><td>72982</td></tr><tr><td>dbfs:/databricks-datasets/structured-streaming/events/file-33.json</td><td>file-33.json</td><td>73033</td></tr><tr><td>dbfs:/databricks-datasets/structured-streaming/events/file-34.json</td><td>file-34.json</td><td>72985</td></tr><tr><td>dbfs:/databricks-datasets/structured-streaming/events/file-35.json</td><td>file-35.json</td><td>72974</td></tr><tr><td>dbfs:/databricks-datasets/structured-streaming/events/file-36.json</td><td>file-36.json</td><td>73013</td></tr><tr><td>dbfs:/databricks-datasets/structured-streaming/events/file-37.json</td><td>file-37.json</td><td>72989</td></tr><tr><td>dbfs:/databricks-datasets/structured-streaming/events/file-38.json</td><td>file-38.json</td><td>72999</td></tr><tr><td>dbfs:/databricks-datasets/structured-streaming/events/file-39.json</td><td>file-39.json</td><td>73013</td></tr><tr><td>dbfs:/databricks-datasets/structured-streaming/events/file-4.json</td><td>file-4.json</td><td>72992</td></tr><tr><td>dbfs:/databricks-datasets/structured-streaming/events/file-40.json</td><td>file-40.json</td><td>72986</td></tr><tr><td>dbfs:/databricks-datasets/structured-streaming/events/file-41.json</td><td>file-41.json</td><td>73019</td></tr><tr><td>dbfs:/databricks-datasets/structured-streaming/events/file-42.json</td><td>file-42.json</td><td>72986</td></tr><tr><td>dbfs:/databricks-datasets/structured-streaming/events/file-43.json</td><td>file-43.json</td><td>72990</td></tr><tr><td>dbfs:/databricks-datasets/structured-streaming/events/file-44.json</td><td>file-44.json</td><td>73018</td></tr><tr><td>dbfs:/databricks-datasets/structured-streaming/events/file-45.json</td><td>file-45.json</td><td>72997</td></tr><tr><td>dbfs:/databricks-datasets/structured-streaming/events/file-46.json</td><td>file-46.json</td><td>72991</td></tr><tr><td>dbfs:/databricks-datasets/structured-streaming/events/file-47.json</td><td>file-47.json</td><td>73009</td></tr><tr><td>dbfs:/databricks-datasets/structured-streaming/events/file-48.json</td><td>file-48.json</td><td>72993</td></tr><tr><td>dbfs:/databricks-datasets/structured-streaming/events/file-49.json</td><td>file-49.json</td><td>73496</td></tr><tr><td>dbfs:/databricks-datasets/structured-streaming/events/file-5.json</td><td>file-5.json</td><td>72998</td></tr><tr><td>dbfs:/databricks-datasets/structured-streaming/events/file-6.json</td><td>file-6.json</td><td>72997</td></tr><tr><td>dbfs:/databricks-datasets/structured-streaming/events/file-7.json</td><td>file-7.json</td><td>73022</td></tr><tr><td>dbfs:/databricks-datasets/structured-streaming/events/file-8.json</td><td>file-8.json</td><td>72997</td></tr><tr><td>dbfs:/databricks-datasets/structured-streaming/events/file-9.json</td><td>file-9.json</td><td>72970</td></tr></tbody></table></div>"
      ]
     },
     "metadata": {
      "application/vnd.databricks.v1+output": {
       "addedWidgets": {},
       "aggData": [],
       "aggError": "",
       "aggOverflow": false,
       "aggSchema": [],
       "aggSeriesLimitReached": false,
       "aggType": "",
       "arguments": {},
       "columnCustomDisplayInfos": {},
       "data": [
        [
         "dbfs:/databricks-datasets/structured-streaming/events/file-0.json",
         "file-0.json",
         72530
        ],
        [
         "dbfs:/databricks-datasets/structured-streaming/events/file-1.json",
         "file-1.json",
         72961
        ],
        [
         "dbfs:/databricks-datasets/structured-streaming/events/file-10.json",
         "file-10.json",
         73025
        ],
        [
         "dbfs:/databricks-datasets/structured-streaming/events/file-11.json",
         "file-11.json",
         72999
        ],
        [
         "dbfs:/databricks-datasets/structured-streaming/events/file-12.json",
         "file-12.json",
         72987
        ],
        [
         "dbfs:/databricks-datasets/structured-streaming/events/file-13.json",
         "file-13.json",
         73006
        ],
        [
         "dbfs:/databricks-datasets/structured-streaming/events/file-14.json",
         "file-14.json",
         73003
        ],
        [
         "dbfs:/databricks-datasets/structured-streaming/events/file-15.json",
         "file-15.json",
         73007
        ],
        [
         "dbfs:/databricks-datasets/structured-streaming/events/file-16.json",
         "file-16.json",
         72978
        ],
        [
         "dbfs:/databricks-datasets/structured-streaming/events/file-17.json",
         "file-17.json",
         73008
        ],
        [
         "dbfs:/databricks-datasets/structured-streaming/events/file-18.json",
         "file-18.json",
         73002
        ],
        [
         "dbfs:/databricks-datasets/structured-streaming/events/file-19.json",
         "file-19.json",
         73014
        ],
        [
         "dbfs:/databricks-datasets/structured-streaming/events/file-2.json",
         "file-2.json",
         73007
        ],
        [
         "dbfs:/databricks-datasets/structured-streaming/events/file-20.json",
         "file-20.json",
         72987
        ],
        [
         "dbfs:/databricks-datasets/structured-streaming/events/file-21.json",
         "file-21.json",
         72983
        ],
        [
         "dbfs:/databricks-datasets/structured-streaming/events/file-22.json",
         "file-22.json",
         73009
        ],
        [
         "dbfs:/databricks-datasets/structured-streaming/events/file-23.json",
         "file-23.json",
         72985
        ],
        [
         "dbfs:/databricks-datasets/structured-streaming/events/file-24.json",
         "file-24.json",
         73020
        ],
        [
         "dbfs:/databricks-datasets/structured-streaming/events/file-25.json",
         "file-25.json",
         72980
        ],
        [
         "dbfs:/databricks-datasets/structured-streaming/events/file-26.json",
         "file-26.json",
         73002
        ],
        [
         "dbfs:/databricks-datasets/structured-streaming/events/file-27.json",
         "file-27.json",
         73013
        ],
        [
         "dbfs:/databricks-datasets/structured-streaming/events/file-28.json",
         "file-28.json",
         73005
        ],
        [
         "dbfs:/databricks-datasets/structured-streaming/events/file-29.json",
         "file-29.json",
         72977
        ],
        [
         "dbfs:/databricks-datasets/structured-streaming/events/file-3.json",
         "file-3.json",
         72996
        ],
        [
         "dbfs:/databricks-datasets/structured-streaming/events/file-30.json",
         "file-30.json",
         73009
        ],
        [
         "dbfs:/databricks-datasets/structured-streaming/events/file-31.json",
         "file-31.json",
         73008
        ],
        [
         "dbfs:/databricks-datasets/structured-streaming/events/file-32.json",
         "file-32.json",
         72982
        ],
        [
         "dbfs:/databricks-datasets/structured-streaming/events/file-33.json",
         "file-33.json",
         73033
        ],
        [
         "dbfs:/databricks-datasets/structured-streaming/events/file-34.json",
         "file-34.json",
         72985
        ],
        [
         "dbfs:/databricks-datasets/structured-streaming/events/file-35.json",
         "file-35.json",
         72974
        ],
        [
         "dbfs:/databricks-datasets/structured-streaming/events/file-36.json",
         "file-36.json",
         73013
        ],
        [
         "dbfs:/databricks-datasets/structured-streaming/events/file-37.json",
         "file-37.json",
         72989
        ],
        [
         "dbfs:/databricks-datasets/structured-streaming/events/file-38.json",
         "file-38.json",
         72999
        ],
        [
         "dbfs:/databricks-datasets/structured-streaming/events/file-39.json",
         "file-39.json",
         73013
        ],
        [
         "dbfs:/databricks-datasets/structured-streaming/events/file-4.json",
         "file-4.json",
         72992
        ],
        [
         "dbfs:/databricks-datasets/structured-streaming/events/file-40.json",
         "file-40.json",
         72986
        ],
        [
         "dbfs:/databricks-datasets/structured-streaming/events/file-41.json",
         "file-41.json",
         73019
        ],
        [
         "dbfs:/databricks-datasets/structured-streaming/events/file-42.json",
         "file-42.json",
         72986
        ],
        [
         "dbfs:/databricks-datasets/structured-streaming/events/file-43.json",
         "file-43.json",
         72990
        ],
        [
         "dbfs:/databricks-datasets/structured-streaming/events/file-44.json",
         "file-44.json",
         73018
        ],
        [
         "dbfs:/databricks-datasets/structured-streaming/events/file-45.json",
         "file-45.json",
         72997
        ],
        [
         "dbfs:/databricks-datasets/structured-streaming/events/file-46.json",
         "file-46.json",
         72991
        ],
        [
         "dbfs:/databricks-datasets/structured-streaming/events/file-47.json",
         "file-47.json",
         73009
        ],
        [
         "dbfs:/databricks-datasets/structured-streaming/events/file-48.json",
         "file-48.json",
         72993
        ],
        [
         "dbfs:/databricks-datasets/structured-streaming/events/file-49.json",
         "file-49.json",
         73496
        ],
        [
         "dbfs:/databricks-datasets/structured-streaming/events/file-5.json",
         "file-5.json",
         72998
        ],
        [
         "dbfs:/databricks-datasets/structured-streaming/events/file-6.json",
         "file-6.json",
         72997
        ],
        [
         "dbfs:/databricks-datasets/structured-streaming/events/file-7.json",
         "file-7.json",
         73022
        ],
        [
         "dbfs:/databricks-datasets/structured-streaming/events/file-8.json",
         "file-8.json",
         72997
        ],
        [
         "dbfs:/databricks-datasets/structured-streaming/events/file-9.json",
         "file-9.json",
         72970
        ]
       ],
       "datasetInfos": [],
       "dbfsResultPath": null,
       "isJsonSchema": true,
       "metadata": {},
       "overflow": false,
       "plotOptions": {
        "customPlotOptions": {},
        "displayType": "table",
        "pivotAggregation": null,
        "pivotColumns": null,
        "xColumns": null,
        "yColumns": null
       },
       "removedWidgets": [],
       "schema": [
        {
         "metadata": "{}",
         "name": "path",
         "type": "\"string\""
        },
        {
         "metadata": "{}",
         "name": "name",
         "type": "\"string\""
        },
        {
         "metadata": "{}",
         "name": "size",
         "type": "\"long\""
        }
       ],
       "type": "table"
      }
     },
     "output_type": "display_data"
    }
   ],
   "source": [
    "%fs ls /databricks-datasets/structured-streaming/events/"
   ]
  },
  {
   "cell_type": "code",
   "execution_count": 0,
   "metadata": {
    "application/vnd.databricks.v1+cell": {
     "cellMetadata": {},
     "inputWidgets": {},
     "nuid": "42535ec8-09be-4489-8dbe-5b20372f8a76",
     "showTitle": false,
     "title": ""
    }
   },
   "outputs": [
    {
     "output_type": "display_data",
     "data": {
      "text/html": [
       "<style scoped>\n",
       "  .table-result-container {\n",
       "    max-height: 300px;\n",
       "    overflow: auto;\n",
       "  }\n",
       "  table, th, td {\n",
       "    border: 1px solid black;\n",
       "    border-collapse: collapse;\n",
       "  }\n",
       "  th, td {\n",
       "    padding: 5px;\n",
       "  }\n",
       "  th {\n",
       "    text-align: left;\n",
       "  }\n",
       "</style><div class='table-result-container'><table class='table-result'><thead style='background-color: white'><tr><th>time</th><th>action</th></tr></thead><tbody><tr><td>2016-07-28T04:19:28.000+0000</td><td>Close</td></tr><tr><td>2016-07-28T04:19:28.000+0000</td><td>Close</td></tr><tr><td>2016-07-28T04:19:29.000+0000</td><td>Open</td></tr><tr><td>2016-07-28T04:19:31.000+0000</td><td>Close</td></tr><tr><td>2016-07-28T04:19:31.000+0000</td><td>Open</td></tr><tr><td>2016-07-28T04:19:31.000+0000</td><td>Open</td></tr><tr><td>2016-07-28T04:19:32.000+0000</td><td>Close</td></tr><tr><td>2016-07-28T04:19:33.000+0000</td><td>Close</td></tr><tr><td>2016-07-28T04:19:35.000+0000</td><td>Close</td></tr><tr><td>2016-07-28T04:19:36.000+0000</td><td>Open</td></tr><tr><td>2016-07-28T04:19:38.000+0000</td><td>Close</td></tr><tr><td>2016-07-28T04:19:40.000+0000</td><td>Open</td></tr><tr><td>2016-07-28T04:19:41.000+0000</td><td>Close</td></tr><tr><td>2016-07-28T04:19:42.000+0000</td><td>Open</td></tr><tr><td>2016-07-28T04:19:45.000+0000</td><td>Open</td></tr><tr><td>2016-07-28T04:19:47.000+0000</td><td>Open</td></tr><tr><td>2016-07-28T04:19:48.000+0000</td><td>Open</td></tr><tr><td>2016-07-28T04:19:49.000+0000</td><td>Open</td></tr><tr><td>2016-07-28T04:19:55.000+0000</td><td>Open</td></tr><tr><td>2016-07-28T04:20:00.000+0000</td><td>Close</td></tr><tr><td>2016-07-28T04:20:00.000+0000</td><td>Open</td></tr><tr><td>2016-07-28T04:20:01.000+0000</td><td>Open</td></tr><tr><td>2016-07-28T04:20:03.000+0000</td><td>Close</td></tr><tr><td>2016-07-28T04:20:07.000+0000</td><td>Open</td></tr><tr><td>2016-07-28T04:20:11.000+0000</td><td>Open</td></tr><tr><td>2016-07-28T04:20:12.000+0000</td><td>Close</td></tr><tr><td>2016-07-28T04:20:12.000+0000</td><td>Open</td></tr><tr><td>2016-07-28T04:20:13.000+0000</td><td>Close</td></tr><tr><td>2016-07-28T04:20:16.000+0000</td><td>Open</td></tr><tr><td>2016-07-28T04:20:23.000+0000</td><td>Close</td></tr><tr><td>2016-07-28T04:20:23.000+0000</td><td>Close</td></tr><tr><td>2016-07-28T04:20:23.000+0000</td><td>Open</td></tr><tr><td>2016-07-28T04:20:26.000+0000</td><td>Close</td></tr><tr><td>2016-07-28T04:20:30.000+0000</td><td>Close</td></tr><tr><td>2016-07-28T04:20:32.000+0000</td><td>Open</td></tr><tr><td>2016-07-28T04:20:32.000+0000</td><td>Open</td></tr><tr><td>2016-07-28T04:20:34.000+0000</td><td>Close</td></tr><tr><td>2016-07-28T04:20:36.000+0000</td><td>Open</td></tr><tr><td>2016-07-28T04:20:42.000+0000</td><td>Close</td></tr><tr><td>2016-07-28T04:20:42.000+0000</td><td>Open</td></tr><tr><td>2016-07-28T04:20:42.000+0000</td><td>Open</td></tr><tr><td>2016-07-28T04:20:48.000+0000</td><td>Close</td></tr><tr><td>2016-07-28T04:20:48.000+0000</td><td>Close</td></tr><tr><td>2016-07-28T04:20:48.000+0000</td><td>Open</td></tr><tr><td>2016-07-28T04:20:50.000+0000</td><td>Open</td></tr><tr><td>2016-07-28T04:20:52.000+0000</td><td>Open</td></tr><tr><td>2016-07-28T04:20:55.000+0000</td><td>Open</td></tr><tr><td>2016-07-28T04:20:55.000+0000</td><td>Open</td></tr><tr><td>2016-07-28T04:20:56.000+0000</td><td>Close</td></tr><tr><td>2016-07-28T04:20:56.000+0000</td><td>Close</td></tr><tr><td>2016-07-28T04:20:56.000+0000</td><td>Open</td></tr><tr><td>2016-07-28T04:20:59.000+0000</td><td>Open</td></tr><tr><td>2016-07-28T04:20:59.000+0000</td><td>Open</td></tr><tr><td>2016-07-28T04:21:02.000+0000</td><td>Close</td></tr><tr><td>2016-07-28T04:21:04.000+0000</td><td>Open</td></tr><tr><td>2016-07-28T04:21:08.000+0000</td><td>Open</td></tr><tr><td>2016-07-28T04:21:11.000+0000</td><td>Close</td></tr><tr><td>2016-07-28T04:21:13.000+0000</td><td>Open</td></tr><tr><td>2016-07-28T04:21:18.000+0000</td><td>Open</td></tr><tr><td>2016-07-28T04:21:19.000+0000</td><td>Open</td></tr><tr><td>2016-07-28T04:21:20.000+0000</td><td>Close</td></tr><tr><td>2016-07-28T04:21:22.000+0000</td><td>Open</td></tr><tr><td>2016-07-28T04:21:23.000+0000</td><td>Open</td></tr><tr><td>2016-07-28T04:21:27.000+0000</td><td>Close</td></tr><tr><td>2016-07-28T04:21:28.000+0000</td><td>Open</td></tr><tr><td>2016-07-28T04:21:31.000+0000</td><td>Close</td></tr><tr><td>2016-07-28T04:21:32.000+0000</td><td>Open</td></tr><tr><td>2016-07-28T04:21:32.000+0000</td><td>Open</td></tr><tr><td>2016-07-28T04:21:33.000+0000</td><td>Open</td></tr><tr><td>2016-07-28T04:21:34.000+0000</td><td>Close</td></tr><tr><td>2016-07-28T04:21:34.000+0000</td><td>Open</td></tr><tr><td>2016-07-28T04:21:35.000+0000</td><td>Close</td></tr><tr><td>2016-07-28T04:21:37.000+0000</td><td>Open</td></tr><tr><td>2016-07-28T04:21:38.000+0000</td><td>Close</td></tr><tr><td>2016-07-28T04:21:44.000+0000</td><td>Open</td></tr><tr><td>2016-07-28T04:21:46.000+0000</td><td>Close</td></tr><tr><td>2016-07-28T04:21:46.000+0000</td><td>Open</td></tr><tr><td>2016-07-28T04:21:48.000+0000</td><td>Close</td></tr><tr><td>2016-07-28T04:21:49.000+0000</td><td>Open</td></tr><tr><td>2016-07-28T04:21:50.000+0000</td><td>Close</td></tr><tr><td>2016-07-28T04:21:52.000+0000</td><td>Close</td></tr><tr><td>2016-07-28T04:21:52.000+0000</td><td>Open</td></tr><tr><td>2016-07-28T04:21:52.000+0000</td><td>Open</td></tr><tr><td>2016-07-28T04:21:53.000+0000</td><td>Open</td></tr><tr><td>2016-07-28T04:21:53.000+0000</td><td>Open</td></tr><tr><td>2016-07-28T04:21:56.000+0000</td><td>Close</td></tr><tr><td>2016-07-28T04:21:56.000+0000</td><td>Close</td></tr><tr><td>2016-07-28T04:21:57.000+0000</td><td>Close</td></tr><tr><td>2016-07-28T04:21:58.000+0000</td><td>Open</td></tr><tr><td>2016-07-28T04:21:59.000+0000</td><td>Close</td></tr><tr><td>2016-07-28T04:22:01.000+0000</td><td>Open</td></tr><tr><td>2016-07-28T04:22:06.000+0000</td><td>Close</td></tr><tr><td>2016-07-28T04:22:10.000+0000</td><td>Open</td></tr><tr><td>2016-07-28T04:22:11.000+0000</td><td>Close</td></tr><tr><td>2016-07-28T04:22:12.000+0000</td><td>Open</td></tr><tr><td>2016-07-28T04:22:14.000+0000</td><td>Close</td></tr><tr><td>2016-07-28T04:22:15.000+0000</td><td>Close</td></tr><tr><td>2016-07-28T04:22:15.000+0000</td><td>Open</td></tr><tr><td>2016-07-28T04:22:19.000+0000</td><td>Close</td></tr><tr><td>2016-07-28T04:22:20.000+0000</td><td>Close</td></tr><tr><td>2016-07-28T04:22:24.000+0000</td><td>Close</td></tr><tr><td>2016-07-28T04:22:24.000+0000</td><td>Close</td></tr><tr><td>2016-07-28T04:22:24.000+0000</td><td>Open</td></tr><tr><td>2016-07-28T04:22:30.000+0000</td><td>Open</td></tr><tr><td>2016-07-28T04:22:31.000+0000</td><td>Close</td></tr><tr><td>2016-07-28T04:22:31.000+0000</td><td>Open</td></tr><tr><td>2016-07-28T04:22:33.000+0000</td><td>Close</td></tr><tr><td>2016-07-28T04:22:39.000+0000</td><td>Open</td></tr><tr><td>2016-07-28T04:22:40.000+0000</td><td>Close</td></tr><tr><td>2016-07-28T04:22:43.000+0000</td><td>Open</td></tr><tr><td>2016-07-28T04:22:44.000+0000</td><td>Open</td></tr><tr><td>2016-07-28T04:22:49.000+0000</td><td>Close</td></tr><tr><td>2016-07-28T04:22:50.000+0000</td><td>Open</td></tr><tr><td>2016-07-28T04:22:55.000+0000</td><td>Open</td></tr><tr><td>2016-07-28T04:22:56.000+0000</td><td>Open</td></tr><tr><td>2016-07-28T04:22:58.000+0000</td><td>Open</td></tr><tr><td>2016-07-28T04:23:00.000+0000</td><td>Close</td></tr><tr><td>2016-07-28T04:23:00.000+0000</td><td>Open</td></tr><tr><td>2016-07-28T04:23:06.000+0000</td><td>Close</td></tr><tr><td>2016-07-28T04:23:07.000+0000</td><td>Close</td></tr><tr><td>2016-07-28T04:23:07.000+0000</td><td>Open</td></tr><tr><td>2016-07-28T04:23:08.000+0000</td><td>Open</td></tr><tr><td>2016-07-28T04:23:10.000+0000</td><td>Open</td></tr><tr><td>2016-07-28T04:23:11.000+0000</td><td>Close</td></tr><tr><td>2016-07-28T04:23:12.000+0000</td><td>Open</td></tr><tr><td>2016-07-28T04:23:13.000+0000</td><td>Open</td></tr><tr><td>2016-07-28T04:23:17.000+0000</td><td>Close</td></tr><tr><td>2016-07-28T04:23:23.000+0000</td><td>Open</td></tr><tr><td>2016-07-28T04:23:28.000+0000</td><td>Open</td></tr><tr><td>2016-07-28T04:23:29.000+0000</td><td>Close</td></tr><tr><td>2016-07-28T04:23:29.000+0000</td><td>Open</td></tr><tr><td>2016-07-28T04:23:31.000+0000</td><td>Open</td></tr><tr><td>2016-07-28T04:23:32.000+0000</td><td>Open</td></tr><tr><td>2016-07-28T04:23:40.000+0000</td><td>Close</td></tr><tr><td>2016-07-28T04:23:40.000+0000</td><td>Close</td></tr><tr><td>2016-07-28T04:23:41.000+0000</td><td>Open</td></tr><tr><td>2016-07-28T04:23:42.000+0000</td><td>Close</td></tr><tr><td>2016-07-28T04:23:43.000+0000</td><td>Close</td></tr><tr><td>2016-07-28T04:23:43.000+0000</td><td>Open</td></tr><tr><td>2016-07-28T04:23:44.000+0000</td><td>Open</td></tr><tr><td>2016-07-28T04:23:46.000+0000</td><td>Close</td></tr><tr><td>2016-07-28T04:23:48.000+0000</td><td>Open</td></tr><tr><td>2016-07-28T04:23:49.000+0000</td><td>Open</td></tr><tr><td>2016-07-28T04:23:52.000+0000</td><td>Close</td></tr><tr><td>2016-07-28T04:23:53.000+0000</td><td>Close</td></tr><tr><td>2016-07-28T04:23:54.000+0000</td><td>Close</td></tr><tr><td>2016-07-28T04:23:55.000+0000</td><td>Close</td></tr><tr><td>2016-07-28T04:24:05.000+0000</td><td>Close</td></tr><tr><td>2016-07-28T04:24:07.000+0000</td><td>Close</td></tr><tr><td>2016-07-28T04:24:09.000+0000</td><td>Close</td></tr><tr><td>2016-07-28T04:24:14.000+0000</td><td>Close</td></tr><tr><td>2016-07-28T04:24:14.000+0000</td><td>Close</td></tr><tr><td>2016-07-28T04:24:14.000+0000</td><td>Open</td></tr><tr><td>2016-07-28T04:24:18.000+0000</td><td>Close</td></tr><tr><td>2016-07-28T04:24:18.000+0000</td><td>Open</td></tr><tr><td>2016-07-28T04:24:20.000+0000</td><td>Close</td></tr><tr><td>2016-07-28T04:24:21.000+0000</td><td>Close</td></tr><tr><td>2016-07-28T04:24:21.000+0000</td><td>Open</td></tr><tr><td>2016-07-28T04:24:22.000+0000</td><td>Open</td></tr><tr><td>2016-07-28T04:24:23.000+0000</td><td>Open</td></tr><tr><td>2016-07-28T04:24:24.000+0000</td><td>Close</td></tr><tr><td>2016-07-28T04:24:24.000+0000</td><td>Close</td></tr><tr><td>2016-07-28T04:24:24.000+0000</td><td>Open</td></tr><tr><td>2016-07-28T04:24:25.000+0000</td><td>Open</td></tr><tr><td>2016-07-28T04:24:30.000+0000</td><td>Close</td></tr><tr><td>2016-07-28T04:24:34.000+0000</td><td>Close</td></tr><tr><td>2016-07-28T04:24:35.000+0000</td><td>Open</td></tr><tr><td>2016-07-28T04:24:36.000+0000</td><td>Open</td></tr><tr><td>2016-07-28T04:24:39.000+0000</td><td>Close</td></tr><tr><td>2016-07-28T04:24:39.000+0000</td><td>Open</td></tr><tr><td>2016-07-28T04:24:41.000+0000</td><td>Open</td></tr><tr><td>2016-07-28T04:24:42.000+0000</td><td>Open</td></tr><tr><td>2016-07-28T04:24:43.000+0000</td><td>Close</td></tr><tr><td>2016-07-28T04:24:43.000+0000</td><td>Close</td></tr><tr><td>2016-07-28T04:24:44.000+0000</td><td>Open</td></tr><tr><td>2016-07-28T04:24:47.000+0000</td><td>Close</td></tr><tr><td>2016-07-28T04:24:47.000+0000</td><td>Close</td></tr><tr><td>2016-07-28T04:24:51.000+0000</td><td>Open</td></tr><tr><td>2016-07-28T04:24:52.000+0000</td><td>Close</td></tr><tr><td>2016-07-28T04:24:53.000+0000</td><td>Open</td></tr><tr><td>2016-07-28T04:24:54.000+0000</td><td>Open</td></tr><tr><td>2016-07-28T04:24:56.000+0000</td><td>Open</td></tr><tr><td>2016-07-28T04:24:56.000+0000</td><td>Open</td></tr><tr><td>2016-07-28T04:24:59.000+0000</td><td>Close</td></tr><tr><td>2016-07-28T04:24:59.000+0000</td><td>Open</td></tr><tr><td>2016-07-28T04:25:03.000+0000</td><td>Close</td></tr><tr><td>2016-07-28T04:25:03.000+0000</td><td>Open</td></tr><tr><td>2016-07-28T04:25:03.000+0000</td><td>Open</td></tr><tr><td>2016-07-28T04:25:04.000+0000</td><td>Close</td></tr><tr><td>2016-07-28T04:25:06.000+0000</td><td>Open</td></tr><tr><td>2016-07-28T04:25:08.000+0000</td><td>Open</td></tr><tr><td>2016-07-28T04:25:08.000+0000</td><td>Open</td></tr><tr><td>2016-07-28T04:25:09.000+0000</td><td>Close</td></tr><tr><td>2016-07-28T04:25:10.000+0000</td><td>Close</td></tr><tr><td>2016-07-28T04:25:10.000+0000</td><td>Close</td></tr><tr><td>2016-07-28T04:25:15.000+0000</td><td>Open</td></tr><tr><td>2016-07-28T04:25:16.000+0000</td><td>Close</td></tr><tr><td>2016-07-28T04:25:20.000+0000</td><td>Close</td></tr><tr><td>2016-07-28T04:25:21.000+0000</td><td>Close</td></tr><tr><td>2016-07-28T04:25:21.000+0000</td><td>Close</td></tr><tr><td>2016-07-28T04:25:21.000+0000</td><td>Open</td></tr><tr><td>2016-07-28T04:25:22.000+0000</td><td>Close</td></tr><tr><td>2016-07-28T04:25:22.000+0000</td><td>Open</td></tr><tr><td>2016-07-28T04:25:23.000+0000</td><td>Close</td></tr><tr><td>2016-07-28T04:25:23.000+0000</td><td>Close</td></tr><tr><td>2016-07-28T04:25:23.000+0000</td><td>Open</td></tr><tr><td>2016-07-28T04:25:25.000+0000</td><td>Close</td></tr><tr><td>2016-07-28T04:25:25.000+0000</td><td>Close</td></tr><tr><td>2016-07-28T04:25:27.000+0000</td><td>Close</td></tr><tr><td>2016-07-28T04:25:27.000+0000</td><td>Open</td></tr><tr><td>2016-07-28T04:25:29.000+0000</td><td>Open</td></tr><tr><td>2016-07-28T04:25:30.000+0000</td><td>Close</td></tr><tr><td>2016-07-28T04:25:42.000+0000</td><td>Close</td></tr><tr><td>2016-07-28T04:25:43.000+0000</td><td>Close</td></tr><tr><td>2016-07-28T04:25:44.000+0000</td><td>Open</td></tr><tr><td>2016-07-28T04:25:49.000+0000</td><td>Close</td></tr><tr><td>2016-07-28T04:25:49.000+0000</td><td>Close</td></tr><tr><td>2016-07-28T04:25:52.000+0000</td><td>Open</td></tr><tr><td>2016-07-28T04:25:55.000+0000</td><td>Open</td></tr><tr><td>2016-07-28T04:25:56.000+0000</td><td>Close</td></tr><tr><td>2016-07-28T04:25:57.000+0000</td><td>Close</td></tr><tr><td>2016-07-28T04:25:57.000+0000</td><td>Open</td></tr><tr><td>2016-07-28T04:25:58.000+0000</td><td>Open</td></tr><tr><td>2016-07-28T04:26:04.000+0000</td><td>Open</td></tr><tr><td>2016-07-28T04:26:05.000+0000</td><td>Close</td></tr><tr><td>2016-07-28T04:26:08.000+0000</td><td>Close</td></tr><tr><td>2016-07-28T04:26:15.000+0000</td><td>Close</td></tr><tr><td>2016-07-28T04:26:16.000+0000</td><td>Close</td></tr><tr><td>2016-07-28T04:26:18.000+0000</td><td>Open</td></tr><tr><td>2016-07-28T04:26:20.000+0000</td><td>Close</td></tr><tr><td>2016-07-28T04:26:22.000+0000</td><td>Close</td></tr><tr><td>2016-07-28T04:26:22.000+0000</td><td>Close</td></tr><tr><td>2016-07-28T04:26:22.000+0000</td><td>Close</td></tr><tr><td>2016-07-28T04:26:24.000+0000</td><td>Open</td></tr><tr><td>2016-07-28T04:26:24.000+0000</td><td>Open</td></tr><tr><td>2016-07-28T04:26:26.000+0000</td><td>Open</td></tr><tr><td>2016-07-28T04:26:30.000+0000</td><td>Close</td></tr><tr><td>2016-07-28T04:26:30.000+0000</td><td>Open</td></tr><tr><td>2016-07-28T04:26:31.000+0000</td><td>Close</td></tr><tr><td>2016-07-28T04:26:32.000+0000</td><td>Close</td></tr><tr><td>2016-07-28T04:26:32.000+0000</td><td>Close</td></tr><tr><td>2016-07-28T04:26:32.000+0000</td><td>Open</td></tr><tr><td>2016-07-28T04:26:34.000+0000</td><td>Close</td></tr><tr><td>2016-07-28T04:26:35.000+0000</td><td>Open</td></tr><tr><td>2016-07-28T04:26:36.000+0000</td><td>Close</td></tr><tr><td>2016-07-28T04:26:36.000+0000</td><td>Open</td></tr><tr><td>2016-07-28T04:26:45.000+0000</td><td>Close</td></tr><tr><td>2016-07-28T04:26:45.000+0000</td><td>Close</td></tr><tr><td>2016-07-28T04:26:46.000+0000</td><td>Open</td></tr><tr><td>2016-07-28T04:26:47.000+0000</td><td>Close</td></tr><tr><td>2016-07-28T04:26:50.000+0000</td><td>Close</td></tr><tr><td>2016-07-28T04:26:50.000+0000</td><td>Open</td></tr><tr><td>2016-07-28T04:26:54.000+0000</td><td>Close</td></tr><tr><td>2016-07-28T04:26:54.000+0000</td><td>Open</td></tr><tr><td>2016-07-28T04:26:57.000+0000</td><td>Open</td></tr><tr><td>2016-07-28T04:26:58.000+0000</td><td>Close</td></tr><tr><td>2016-07-28T04:26:58.000+0000</td><td>Open</td></tr><tr><td>2016-07-28T04:26:59.000+0000</td><td>Close</td></tr><tr><td>2016-07-28T04:27:05.000+0000</td><td>Close</td></tr><tr><td>2016-07-28T04:27:06.000+0000</td><td>Open</td></tr><tr><td>2016-07-28T04:27:15.000+0000</td><td>Close</td></tr><tr><td>2016-07-28T04:27:18.000+0000</td><td>Close</td></tr><tr><td>2016-07-28T04:27:18.000+0000</td><td>Open</td></tr><tr><td>2016-07-28T04:27:19.000+0000</td><td>Open</td></tr><tr><td>2016-07-28T04:27:20.000+0000</td><td>Close</td></tr><tr><td>2016-07-28T04:27:21.000+0000</td><td>Open</td></tr><tr><td>2016-07-28T04:27:24.000+0000</td><td>Close</td></tr><tr><td>2016-07-28T04:27:30.000+0000</td><td>Close</td></tr><tr><td>2016-07-28T04:27:31.000+0000</td><td>Close</td></tr><tr><td>2016-07-28T04:27:31.000+0000</td><td>Open</td></tr><tr><td>2016-07-28T04:27:34.000+0000</td><td>Open</td></tr><tr><td>2016-07-28T04:27:34.000+0000</td><td>Open</td></tr><tr><td>2016-07-28T04:27:35.000+0000</td><td>Close</td></tr><tr><td>2016-07-28T04:27:36.000+0000</td><td>Close</td></tr><tr><td>2016-07-28T04:27:36.000+0000</td><td>Close</td></tr><tr><td>2016-07-28T04:27:41.000+0000</td><td>Close</td></tr><tr><td>2016-07-28T04:27:42.000+0000</td><td>Close</td></tr><tr><td>2016-07-28T04:27:44.000+0000</td><td>Close</td></tr><tr><td>2016-07-28T04:27:45.000+0000</td><td>Open</td></tr><tr><td>2016-07-28T04:27:45.000+0000</td><td>Open</td></tr><tr><td>2016-07-28T04:27:55.000+0000</td><td>Open</td></tr><tr><td>2016-07-28T04:27:58.000+0000</td><td>Open</td></tr><tr><td>2016-07-28T04:28:03.000+0000</td><td>Close</td></tr><tr><td>2016-07-28T04:28:04.000+0000</td><td>Close</td></tr><tr><td>2016-07-28T04:28:04.000+0000</td><td>Open</td></tr><tr><td>2016-07-28T04:28:05.000+0000</td><td>Close</td></tr><tr><td>2016-07-28T04:28:09.000+0000</td><td>Open</td></tr><tr><td>2016-07-28T04:28:11.000+0000</td><td>Close</td></tr><tr><td>2016-07-28T04:28:11.000+0000</td><td>Open</td></tr><tr><td>2016-07-28T04:28:12.000+0000</td><td>Open</td></tr><tr><td>2016-07-28T04:28:15.000+0000</td><td>Close</td></tr><tr><td>2016-07-28T04:28:15.000+0000</td><td>Open</td></tr><tr><td>2016-07-28T04:28:15.000+0000</td><td>Open</td></tr><tr><td>2016-07-28T04:28:18.000+0000</td><td>Close</td></tr><tr><td>2016-07-28T04:28:19.000+0000</td><td>Open</td></tr><tr><td>2016-07-28T04:28:20.000+0000</td><td>Open</td></tr><tr><td>2016-07-28T04:28:28.000+0000</td><td>Open</td></tr><tr><td>2016-07-28T04:28:31.000+0000</td><td>Close</td></tr><tr><td>2016-07-28T04:28:31.000+0000</td><td>Open</td></tr><tr><td>2016-07-28T04:28:32.000+0000</td><td>Open</td></tr><tr><td>2016-07-28T04:28:33.000+0000</td><td>Open</td></tr><tr><td>2016-07-28T04:28:37.000+0000</td><td>Close</td></tr><tr><td>2016-07-28T04:28:40.000+0000</td><td>Close</td></tr><tr><td>2016-07-28T04:28:40.000+0000</td><td>Open</td></tr><tr><td>2016-07-28T04:28:42.000+0000</td><td>Open</td></tr><tr><td>2016-07-28T04:28:47.000+0000</td><td>Close</td></tr><tr><td>2016-07-28T04:28:50.000+0000</td><td>Close</td></tr><tr><td>2016-07-28T04:28:50.000+0000</td><td>Open</td></tr><tr><td>2016-07-28T04:28:55.000+0000</td><td>Close</td></tr><tr><td>2016-07-28T04:28:56.000+0000</td><td>Open</td></tr><tr><td>2016-07-28T04:28:58.000+0000</td><td>Open</td></tr><tr><td>2016-07-28T04:28:59.000+0000</td><td>Close</td></tr><tr><td>2016-07-28T04:29:02.000+0000</td><td>Close</td></tr><tr><td>2016-07-28T04:29:02.000+0000</td><td>Open</td></tr><tr><td>2016-07-28T04:29:03.000+0000</td><td>Close</td></tr><tr><td>2016-07-28T04:29:03.000+0000</td><td>Close</td></tr><tr><td>2016-07-28T04:29:10.000+0000</td><td>Close</td></tr><tr><td>2016-07-28T04:29:10.000+0000</td><td>Close</td></tr><tr><td>2016-07-28T04:29:10.000+0000</td><td>Close</td></tr><tr><td>2016-07-28T04:29:12.000+0000</td><td>Close</td></tr><tr><td>2016-07-28T04:29:14.000+0000</td><td>Close</td></tr><tr><td>2016-07-28T04:29:15.000+0000</td><td>Close</td></tr><tr><td>2016-07-28T04:29:16.000+0000</td><td>Close</td></tr><tr><td>2016-07-28T04:29:17.000+0000</td><td>Close</td></tr><tr><td>2016-07-28T04:29:20.000+0000</td><td>Close</td></tr><tr><td>2016-07-28T04:29:22.000+0000</td><td>Close</td></tr><tr><td>2016-07-28T04:29:23.000+0000</td><td>Open</td></tr><tr><td>2016-07-28T04:29:28.000+0000</td><td>Close</td></tr><tr><td>2016-07-28T04:29:31.000+0000</td><td>Close</td></tr><tr><td>2016-07-28T04:29:31.000+0000</td><td>Open</td></tr><tr><td>2016-07-28T04:29:31.000+0000</td><td>Open</td></tr><tr><td>2016-07-28T04:29:33.000+0000</td><td>Close</td></tr><tr><td>2016-07-28T04:29:35.000+0000</td><td>Close</td></tr><tr><td>2016-07-28T04:29:39.000+0000</td><td>Open</td></tr><tr><td>2016-07-28T04:29:41.000+0000</td><td>Open</td></tr><tr><td>2016-07-28T04:29:42.000+0000</td><td>Close</td></tr><tr><td>2016-07-28T04:29:43.000+0000</td><td>Close</td></tr><tr><td>2016-07-28T04:29:46.000+0000</td><td>Close</td></tr><tr><td>2016-07-28T04:29:49.000+0000</td><td>Close</td></tr><tr><td>2016-07-28T04:29:49.000+0000</td><td>Close</td></tr><tr><td>2016-07-28T04:29:50.000+0000</td><td>Open</td></tr><tr><td>2016-07-28T04:29:54.000+0000</td><td>Close</td></tr><tr><td>2016-07-28T04:29:54.000+0000</td><td>Open</td></tr><tr><td>2016-07-28T04:29:57.000+0000</td><td>Open</td></tr><tr><td>2016-07-28T04:29:57.000+0000</td><td>Open</td></tr><tr><td>2016-07-28T04:29:58.000+0000</td><td>Close</td></tr><tr><td>2016-07-28T04:29:59.000+0000</td><td>Close</td></tr><tr><td>2016-07-28T04:29:59.000+0000</td><td>Open</td></tr><tr><td>2016-07-28T04:30:00.000+0000</td><td>Open</td></tr><tr><td>2016-07-28T04:30:05.000+0000</td><td>Open</td></tr><tr><td>2016-07-28T04:30:06.000+0000</td><td>Close</td></tr><tr><td>2016-07-28T04:30:06.000+0000</td><td>Open</td></tr><tr><td>2016-07-28T04:30:07.000+0000</td><td>Close</td></tr><tr><td>2016-07-28T04:30:07.000+0000</td><td>Open</td></tr><tr><td>2016-07-28T04:30:08.000+0000</td><td>Close</td></tr><tr><td>2016-07-28T04:30:09.000+0000</td><td>Open</td></tr><tr><td>2016-07-28T04:30:11.000+0000</td><td>Open</td></tr><tr><td>2016-07-28T04:30:13.000+0000</td><td>Open</td></tr><tr><td>2016-07-28T04:30:14.000+0000</td><td>Close</td></tr><tr><td>2016-07-28T04:30:14.000+0000</td><td>Open</td></tr><tr><td>2016-07-28T04:30:15.000+0000</td><td>Open</td></tr><tr><td>2016-07-28T04:30:17.000+0000</td><td>Open</td></tr><tr><td>2016-07-28T04:30:20.000+0000</td><td>Open</td></tr><tr><td>2016-07-28T04:30:21.000+0000</td><td>Open</td></tr><tr><td>2016-07-28T04:30:22.000+0000</td><td>Close</td></tr><tr><td>2016-07-28T04:30:22.000+0000</td><td>Open</td></tr><tr><td>2016-07-28T04:30:24.000+0000</td><td>Open</td></tr><tr><td>2016-07-28T04:30:27.000+0000</td><td>Close</td></tr><tr><td>2016-07-28T04:30:28.000+0000</td><td>Close</td></tr><tr><td>2016-07-28T04:30:32.000+0000</td><td>Open</td></tr><tr><td>2016-07-28T04:30:38.000+0000</td><td>Close</td></tr><tr><td>2016-07-28T04:30:42.000+0000</td><td>Close</td></tr><tr><td>2016-07-28T04:30:43.000+0000</td><td>Open</td></tr><tr><td>2016-07-28T04:30:46.000+0000</td><td>Open</td></tr><tr><td>2016-07-28T04:30:47.000+0000</td><td>Open</td></tr><tr><td>2016-07-28T04:30:48.000+0000</td><td>Close</td></tr><tr><td>2016-07-28T04:30:53.000+0000</td><td>Open</td></tr><tr><td>2016-07-28T04:30:54.000+0000</td><td>Close</td></tr><tr><td>2016-07-28T04:30:56.000+0000</td><td>Open</td></tr><tr><td>2016-07-28T04:30:56.000+0000</td><td>Open</td></tr><tr><td>2016-07-28T04:30:57.000+0000</td><td>Close</td></tr><tr><td>2016-07-28T04:30:57.000+0000</td><td>Close</td></tr><tr><td>2016-07-28T04:31:00.000+0000</td><td>Open</td></tr><tr><td>2016-07-28T04:31:02.000+0000</td><td>Open</td></tr><tr><td>2016-07-28T04:31:03.000+0000</td><td>Close</td></tr><tr><td>2016-07-28T04:31:03.000+0000</td><td>Open</td></tr><tr><td>2016-07-28T04:31:05.000+0000</td><td>Open</td></tr><tr><td>2016-07-28T04:31:06.000+0000</td><td>Open</td></tr><tr><td>2016-07-28T04:31:09.000+0000</td><td>Close</td></tr><tr><td>2016-07-28T04:31:11.000+0000</td><td>Open</td></tr><tr><td>2016-07-28T04:31:15.000+0000</td><td>Open</td></tr><tr><td>2016-07-28T04:31:19.000+0000</td><td>Close</td></tr><tr><td>2016-07-28T04:31:21.000+0000</td><td>Close</td></tr><tr><td>2016-07-28T04:31:23.000+0000</td><td>Open</td></tr><tr><td>2016-07-28T04:31:26.000+0000</td><td>Open</td></tr><tr><td>2016-07-28T04:31:30.000+0000</td><td>Close</td></tr><tr><td>2016-07-28T04:31:31.000+0000</td><td>Open</td></tr><tr><td>2016-07-28T04:31:37.000+0000</td><td>Close</td></tr><tr><td>2016-07-28T04:31:38.000+0000</td><td>Close</td></tr><tr><td>2016-07-28T04:31:39.000+0000</td><td>Close</td></tr><tr><td>2016-07-28T04:31:39.000+0000</td><td>Open</td></tr><tr><td>2016-07-28T04:31:40.000+0000</td><td>Close</td></tr><tr><td>2016-07-28T04:31:40.000+0000</td><td>Close</td></tr><tr><td>2016-07-28T04:31:40.000+0000</td><td>Open</td></tr><tr><td>2016-07-28T04:31:42.000+0000</td><td>Close</td></tr><tr><td>2016-07-28T04:31:42.000+0000</td><td>Close</td></tr><tr><td>2016-07-28T04:31:43.000+0000</td><td>Close</td></tr><tr><td>2016-07-28T04:31:45.000+0000</td><td>Close</td></tr><tr><td>2016-07-28T04:31:45.000+0000</td><td>Open</td></tr><tr><td>2016-07-28T04:31:49.000+0000</td><td>Close</td></tr><tr><td>2016-07-28T04:31:49.000+0000</td><td>Open</td></tr><tr><td>2016-07-28T04:31:53.000+0000</td><td>Close</td></tr><tr><td>2016-07-28T04:31:53.000+0000</td><td>Open</td></tr><tr><td>2016-07-28T04:32:00.000+0000</td><td>Open</td></tr><tr><td>2016-07-28T04:32:01.000+0000</td><td>Close</td></tr><tr><td>2016-07-28T04:32:02.000+0000</td><td>Close</td></tr><tr><td>2016-07-28T04:32:06.000+0000</td><td>Open</td></tr><tr><td>2016-07-28T04:32:07.000+0000</td><td>Close</td></tr><tr><td>2016-07-28T04:32:08.000+0000</td><td>Close</td></tr><tr><td>2016-07-28T04:32:08.000+0000</td><td>Open</td></tr><tr><td>2016-07-28T04:32:11.000+0000</td><td>Open</td></tr><tr><td>2016-07-28T04:32:11.000+0000</td><td>Open</td></tr><tr><td>2016-07-28T04:32:13.000+0000</td><td>Open</td></tr><tr><td>2016-07-28T04:32:14.000+0000</td><td>Close</td></tr><tr><td>2016-07-28T04:32:15.000+0000</td><td>Close</td></tr><tr><td>2016-07-28T04:32:15.000+0000</td><td>Open</td></tr><tr><td>2016-07-28T04:32:16.000+0000</td><td>Close</td></tr><tr><td>2016-07-28T04:32:16.000+0000</td><td>Close</td></tr><tr><td>2016-07-28T04:32:22.000+0000</td><td>Close</td></tr><tr><td>2016-07-28T04:32:22.000+0000</td><td>Open</td></tr><tr><td>2016-07-28T04:32:25.000+0000</td><td>Open</td></tr><tr><td>2016-07-28T04:32:26.000+0000</td><td>Close</td></tr><tr><td>2016-07-28T04:32:26.000+0000</td><td>Open</td></tr><tr><td>2016-07-28T04:32:26.000+0000</td><td>Open</td></tr><tr><td>2016-07-28T04:32:28.000+0000</td><td>Open</td></tr><tr><td>2016-07-28T04:32:30.000+0000</td><td>Close</td></tr><tr><td>2016-07-28T04:32:34.000+0000</td><td>Open</td></tr><tr><td>2016-07-28T04:32:41.000+0000</td><td>Close</td></tr><tr><td>2016-07-28T04:32:44.000+0000</td><td>Open</td></tr><tr><td>2016-07-28T04:32:45.000+0000</td><td>Open</td></tr><tr><td>2016-07-28T04:32:46.000+0000</td><td>Open</td></tr><tr><td>2016-07-28T04:32:47.000+0000</td><td>Open</td></tr><tr><td>2016-07-28T04:32:49.000+0000</td><td>Close</td></tr><tr><td>2016-07-28T04:32:50.000+0000</td><td>Open</td></tr><tr><td>2016-07-28T04:32:52.000+0000</td><td>Close</td></tr><tr><td>2016-07-28T04:32:55.000+0000</td><td>Open</td></tr><tr><td>2016-07-28T04:32:56.000+0000</td><td>Open</td></tr><tr><td>2016-07-28T04:32:57.000+0000</td><td>Open</td></tr><tr><td>2016-07-28T04:32:59.000+0000</td><td>Close</td></tr><tr><td>2016-07-28T04:32:59.000+0000</td><td>Open</td></tr><tr><td>2016-07-28T04:33:00.000+0000</td><td>Close</td></tr><tr><td>2016-07-28T04:33:01.000+0000</td><td>Close</td></tr><tr><td>2016-07-28T04:33:02.000+0000</td><td>Close</td></tr><tr><td>2016-07-28T04:33:02.000+0000</td><td>Open</td></tr><tr><td>2016-07-28T04:33:07.000+0000</td><td>Close</td></tr><tr><td>2016-07-28T04:33:07.000+0000</td><td>Close</td></tr><tr><td>2016-07-28T04:33:07.000+0000</td><td>Open</td></tr><tr><td>2016-07-28T04:33:07.000+0000</td><td>Open</td></tr><tr><td>2016-07-28T04:33:08.000+0000</td><td>Open</td></tr><tr><td>2016-07-28T04:33:09.000+0000</td><td>Open</td></tr><tr><td>2016-07-28T04:33:11.000+0000</td><td>Close</td></tr><tr><td>2016-07-28T04:33:11.000+0000</td><td>Open</td></tr><tr><td>2016-07-28T04:33:13.000+0000</td><td>Close</td></tr><tr><td>2016-07-28T04:33:13.000+0000</td><td>Close</td></tr><tr><td>2016-07-28T04:33:14.000+0000</td><td>Close</td></tr><tr><td>2016-07-28T04:33:19.000+0000</td><td>Open</td></tr><tr><td>2016-07-28T04:33:19.000+0000</td><td>Open</td></tr><tr><td>2016-07-28T04:33:23.000+0000</td><td>Close</td></tr><tr><td>2016-07-28T04:33:25.000+0000</td><td>Close</td></tr><tr><td>2016-07-28T04:33:26.000+0000</td><td>Close</td></tr><tr><td>2016-07-28T04:33:28.000+0000</td><td>Open</td></tr><tr><td>2016-07-28T04:33:29.000+0000</td><td>Open</td></tr><tr><td>2016-07-28T04:33:31.000+0000</td><td>Close</td></tr><tr><td>2016-07-28T04:33:32.000+0000</td><td>Open</td></tr><tr><td>2016-07-28T04:33:34.000+0000</td><td>Open</td></tr><tr><td>2016-07-28T04:33:37.000+0000</td><td>Close</td></tr><tr><td>2016-07-28T04:33:39.000+0000</td><td>Open</td></tr><tr><td>2016-07-28T04:33:40.000+0000</td><td>Open</td></tr><tr><td>2016-07-28T04:33:41.000+0000</td><td>Open</td></tr><tr><td>2016-07-28T04:33:42.000+0000</td><td>Open</td></tr><tr><td>2016-07-28T04:33:45.000+0000</td><td>Open</td></tr><tr><td>2016-07-28T04:33:50.000+0000</td><td>Open</td></tr><tr><td>2016-07-28T04:34:00.000+0000</td><td>Close</td></tr><tr><td>2016-07-28T04:34:05.000+0000</td><td>Close</td></tr><tr><td>2016-07-28T04:34:05.000+0000</td><td>Open</td></tr><tr><td>2016-07-28T04:34:06.000+0000</td><td>Close</td></tr><tr><td>2016-07-28T04:34:08.000+0000</td><td>Open</td></tr><tr><td>2016-07-28T04:34:14.000+0000</td><td>Open</td></tr><tr><td>2016-07-28T04:34:15.000+0000</td><td>Close</td></tr><tr><td>2016-07-28T04:34:17.000+0000</td><td>Close</td></tr><tr><td>2016-07-28T04:34:18.000+0000</td><td>Close</td></tr><tr><td>2016-07-28T04:34:19.000+0000</td><td>Close</td></tr><tr><td>2016-07-28T04:34:20.000+0000</td><td>Open</td></tr><tr><td>2016-07-28T04:34:21.000+0000</td><td>Close</td></tr><tr><td>2016-07-28T04:34:21.000+0000</td><td>Close</td></tr><tr><td>2016-07-28T04:34:28.000+0000</td><td>Close</td></tr><tr><td>2016-07-28T04:34:28.000+0000</td><td>Close</td></tr><tr><td>2016-07-28T04:34:29.000+0000</td><td>Close</td></tr><tr><td>2016-07-28T04:34:29.000+0000</td><td>Open</td></tr><tr><td>2016-07-28T04:34:41.000+0000</td><td>Open</td></tr><tr><td>2016-07-28T04:34:44.000+0000</td><td>Open</td></tr><tr><td>2016-07-28T04:34:46.000+0000</td><td>Open</td></tr><tr><td>2016-07-28T04:34:48.000+0000</td><td>Close</td></tr><tr><td>2016-07-28T04:34:49.000+0000</td><td>Open</td></tr><tr><td>2016-07-28T04:34:51.000+0000</td><td>Open</td></tr><tr><td>2016-07-28T04:34:54.000+0000</td><td>Close</td></tr><tr><td>2016-07-28T04:34:55.000+0000</td><td>Open</td></tr><tr><td>2016-07-28T04:34:56.000+0000</td><td>Close</td></tr><tr><td>2016-07-28T04:35:00.000+0000</td><td>Open</td></tr><tr><td>2016-07-28T04:35:04.000+0000</td><td>Open</td></tr><tr><td>2016-07-28T04:35:07.000+0000</td><td>Close</td></tr><tr><td>2016-07-28T04:35:08.000+0000</td><td>Open</td></tr><tr><td>2016-07-28T04:35:09.000+0000</td><td>Close</td></tr><tr><td>2016-07-28T04:35:15.000+0000</td><td>Close</td></tr><tr><td>2016-07-28T04:35:16.000+0000</td><td>Open</td></tr><tr><td>2016-07-28T04:35:19.000+0000</td><td>Close</td></tr><tr><td>2016-07-28T04:35:20.000+0000</td><td>Open</td></tr><tr><td>2016-07-28T04:35:22.000+0000</td><td>Open</td></tr><tr><td>2016-07-28T04:35:26.000+0000</td><td>Open</td></tr><tr><td>2016-07-28T04:35:28.000+0000</td><td>Open</td></tr><tr><td>2016-07-28T04:35:31.000+0000</td><td>Close</td></tr><tr><td>2016-07-28T04:35:31.000+0000</td><td>Close</td></tr><tr><td>2016-07-28T04:35:31.000+0000</td><td>Open</td></tr><tr><td>2016-07-28T04:35:36.000+0000</td><td>Open</td></tr><tr><td>2016-07-28T04:35:36.000+0000</td><td>Open</td></tr><tr><td>2016-07-28T04:35:37.000+0000</td><td>Open</td></tr><tr><td>2016-07-28T04:35:38.000+0000</td><td>Close</td></tr><tr><td>2016-07-28T04:35:39.000+0000</td><td>Close</td></tr><tr><td>2016-07-28T04:35:45.000+0000</td><td>Open</td></tr><tr><td>2016-07-28T04:35:51.000+0000</td><td>Close</td></tr><tr><td>2016-07-28T04:35:55.000+0000</td><td>Open</td></tr><tr><td>2016-07-28T04:35:59.000+0000</td><td>Open</td></tr><tr><td>2016-07-28T04:36:00.000+0000</td><td>Close</td></tr><tr><td>2016-07-28T04:36:00.000+0000</td><td>Open</td></tr><tr><td>2016-07-28T04:36:02.000+0000</td><td>Close</td></tr><tr><td>2016-07-28T04:36:03.000+0000</td><td>Close</td></tr><tr><td>2016-07-28T04:36:05.000+0000</td><td>Close</td></tr><tr><td>2016-07-28T04:36:05.000+0000</td><td>Open</td></tr><tr><td>2016-07-28T04:36:14.000+0000</td><td>Open</td></tr><tr><td>2016-07-28T04:36:15.000+0000</td><td>Open</td></tr><tr><td>2016-07-28T04:36:16.000+0000</td><td>Open</td></tr><tr><td>2016-07-28T04:36:17.000+0000</td><td>Open</td></tr><tr><td>2016-07-28T04:36:18.000+0000</td><td>Open</td></tr><tr><td>2016-07-28T04:36:23.000+0000</td><td>Close</td></tr><tr><td>2016-07-28T04:36:23.000+0000</td><td>Open</td></tr><tr><td>2016-07-28T04:36:25.000+0000</td><td>Open</td></tr><tr><td>2016-07-28T04:36:29.000+0000</td><td>Close</td></tr><tr><td>2016-07-28T04:36:29.000+0000</td><td>Open</td></tr><tr><td>2016-07-28T04:36:32.000+0000</td><td>Close</td></tr><tr><td>2016-07-28T04:36:33.000+0000</td><td>Open</td></tr><tr><td>2016-07-28T04:36:34.000+0000</td><td>Open</td></tr><tr><td>2016-07-28T04:36:36.000+0000</td><td>Close</td></tr><tr><td>2016-07-28T04:36:36.000+0000</td><td>Open</td></tr><tr><td>2016-07-28T04:36:36.000+0000</td><td>Open</td></tr><tr><td>2016-07-28T04:36:50.000+0000</td><td>Open</td></tr><tr><td>2016-07-28T04:36:50.000+0000</td><td>Open</td></tr><tr><td>2016-07-28T04:36:51.000+0000</td><td>Close</td></tr><tr><td>2016-07-28T04:36:51.000+0000</td><td>Open</td></tr><tr><td>2016-07-28T04:36:53.000+0000</td><td>Open</td></tr><tr><td>2016-07-28T04:36:58.000+0000</td><td>Close</td></tr><tr><td>2016-07-28T04:37:00.000+0000</td><td>Open</td></tr><tr><td>2016-07-28T04:37:01.000+0000</td><td>Open</td></tr><tr><td>2016-07-28T04:37:04.000+0000</td><td>Close</td></tr><tr><td>2016-07-28T04:37:04.000+0000</td><td>Open</td></tr><tr><td>2016-07-28T04:37:06.000+0000</td><td>Open</td></tr><tr><td>2016-07-28T04:37:09.000+0000</td><td>Close</td></tr><tr><td>2016-07-28T04:37:09.000+0000</td><td>Open</td></tr><tr><td>2016-07-28T04:37:11.000+0000</td><td>Close</td></tr><tr><td>2016-07-28T04:37:11.000+0000</td><td>Close</td></tr><tr><td>2016-07-28T04:37:12.000+0000</td><td>Open</td></tr><tr><td>2016-07-28T04:37:16.000+0000</td><td>Close</td></tr><tr><td>2016-07-28T04:37:18.000+0000</td><td>Close</td></tr><tr><td>2016-07-28T04:37:18.000+0000</td><td>Open</td></tr><tr><td>2016-07-28T04:37:19.000+0000</td><td>Open</td></tr><tr><td>2016-07-28T04:37:22.000+0000</td><td>Close</td></tr><tr><td>2016-07-28T04:37:22.000+0000</td><td>Open</td></tr><tr><td>2016-07-28T04:37:24.000+0000</td><td>Close</td></tr><tr><td>2016-07-28T04:37:27.000+0000</td><td>Close</td></tr><tr><td>2016-07-28T04:37:28.000+0000</td><td>Open</td></tr><tr><td>2016-07-28T04:37:32.000+0000</td><td>Open</td></tr><tr><td>2016-07-28T04:37:33.000+0000</td><td>Close</td></tr><tr><td>2016-07-28T04:37:34.000+0000</td><td>Open</td></tr><tr><td>2016-07-28T04:37:34.000+0000</td><td>Open</td></tr><tr><td>2016-07-28T04:37:38.000+0000</td><td>Close</td></tr><tr><td>2016-07-28T04:37:38.000+0000</td><td>Open</td></tr><tr><td>2016-07-28T04:37:41.000+0000</td><td>Close</td></tr><tr><td>2016-07-28T04:37:42.000+0000</td><td>Close</td></tr><tr><td>2016-07-28T04:37:42.000+0000</td><td>Close</td></tr><tr><td>2016-07-28T04:37:42.000+0000</td><td>Close</td></tr><tr><td>2016-07-28T04:37:43.000+0000</td><td>Open</td></tr><tr><td>2016-07-28T04:37:43.000+0000</td><td>Open</td></tr><tr><td>2016-07-28T04:37:44.000+0000</td><td>Close</td></tr><tr><td>2016-07-28T04:37:44.000+0000</td><td>Close</td></tr><tr><td>2016-07-28T04:37:44.000+0000</td><td>Open</td></tr><tr><td>2016-07-28T04:37:47.000+0000</td><td>Close</td></tr><tr><td>2016-07-28T04:37:47.000+0000</td><td>Close</td></tr><tr><td>2016-07-28T04:37:50.000+0000</td><td>Open</td></tr><tr><td>2016-07-28T04:37:54.000+0000</td><td>Close</td></tr><tr><td>2016-07-28T04:37:54.000+0000</td><td>Open</td></tr><tr><td>2016-07-28T04:37:55.000+0000</td><td>Open</td></tr><tr><td>2016-07-28T04:37:56.000+0000</td><td>Open</td></tr><tr><td>2016-07-28T04:37:57.000+0000</td><td>Close</td></tr><tr><td>2016-07-28T04:37:58.000+0000</td><td>Close</td></tr><tr><td>2016-07-28T04:38:04.000+0000</td><td>Open</td></tr><tr><td>2016-07-28T04:38:05.000+0000</td><td>Close</td></tr><tr><td>2016-07-28T04:38:06.000+0000</td><td>Open</td></tr><tr><td>2016-07-28T04:38:07.000+0000</td><td>Close</td></tr><tr><td>2016-07-28T04:38:07.000+0000</td><td>Open</td></tr><tr><td>2016-07-28T04:38:08.000+0000</td><td>Close</td></tr><tr><td>2016-07-28T04:38:11.000+0000</td><td>Open</td></tr><tr><td>2016-07-28T04:38:15.000+0000</td><td>Close</td></tr><tr><td>2016-07-28T04:38:18.000+0000</td><td>Close</td></tr><tr><td>2016-07-28T04:38:19.000+0000</td><td>Open</td></tr><tr><td>2016-07-28T04:38:23.000+0000</td><td>Open</td></tr><tr><td>2016-07-28T04:38:28.000+0000</td><td>Close</td></tr><tr><td>2016-07-28T04:38:28.000+0000</td><td>Open</td></tr><tr><td>2016-07-28T04:38:29.000+0000</td><td>Close</td></tr><tr><td>2016-07-28T04:38:29.000+0000</td><td>Close</td></tr><tr><td>2016-07-28T04:38:31.000+0000</td><td>Open</td></tr><tr><td>2016-07-28T04:38:32.000+0000</td><td>Open</td></tr><tr><td>2016-07-28T04:38:33.000+0000</td><td>Open</td></tr><tr><td>2016-07-28T04:38:34.000+0000</td><td>Open</td></tr><tr><td>2016-07-28T04:38:37.000+0000</td><td>Open</td></tr><tr><td>2016-07-28T04:38:43.000+0000</td><td>Open</td></tr><tr><td>2016-07-28T04:38:47.000+0000</td><td>Close</td></tr><tr><td>2016-07-28T04:38:50.000+0000</td><td>Close</td></tr><tr><td>2016-07-28T04:38:53.000+0000</td><td>Close</td></tr><tr><td>2016-07-28T04:38:53.000+0000</td><td>Open</td></tr><tr><td>2016-07-28T04:38:54.000+0000</td><td>Close</td></tr><tr><td>2016-07-28T04:38:56.000+0000</td><td>Close</td></tr><tr><td>2016-07-28T04:38:57.000+0000</td><td>Close</td></tr><tr><td>2016-07-28T04:38:59.000+0000</td><td>Open</td></tr><tr><td>2016-07-28T04:39:01.000+0000</td><td>Close</td></tr><tr><td>2016-07-28T04:39:02.000+0000</td><td>Close</td></tr><tr><td>2016-07-28T04:39:02.000+0000</td><td>Close</td></tr><tr><td>2016-07-28T04:39:03.000+0000</td><td>Open</td></tr><tr><td>2016-07-28T04:39:05.000+0000</td><td>Close</td></tr><tr><td>2016-07-28T04:39:09.000+0000</td><td>Open</td></tr><tr><td>2016-07-28T04:39:10.000+0000</td><td>Open</td></tr><tr><td>2016-07-28T04:39:11.000+0000</td><td>Close</td></tr><tr><td>2016-07-28T04:39:12.000+0000</td><td>Close</td></tr><tr><td>2016-07-28T04:39:12.000+0000</td><td>Open</td></tr><tr><td>2016-07-28T04:39:14.000+0000</td><td>Close</td></tr><tr><td>2016-07-28T04:39:15.000+0000</td><td>Close</td></tr><tr><td>2016-07-28T04:39:15.000+0000</td><td>Close</td></tr><tr><td>2016-07-28T04:39:17.000+0000</td><td>Open</td></tr><tr><td>2016-07-28T04:39:19.000+0000</td><td>Close</td></tr><tr><td>2016-07-28T04:39:19.000+0000</td><td>Close</td></tr><tr><td>2016-07-28T04:39:21.000+0000</td><td>Close</td></tr><tr><td>2016-07-28T04:39:25.000+0000</td><td>Close</td></tr><tr><td>2016-07-28T04:39:25.000+0000</td><td>Open</td></tr><tr><td>2016-07-28T04:39:26.000+0000</td><td>Close</td></tr><tr><td>2016-07-28T04:39:26.000+0000</td><td>Close</td></tr><tr><td>2016-07-28T04:39:27.000+0000</td><td>Close</td></tr><tr><td>2016-07-28T04:39:28.000+0000</td><td>Open</td></tr><tr><td>2016-07-28T04:39:28.000+0000</td><td>Open</td></tr><tr><td>2016-07-28T04:39:28.000+0000</td><td>Open</td></tr><tr><td>2016-07-28T04:39:31.000+0000</td><td>Close</td></tr><tr><td>2016-07-28T04:39:33.000+0000</td><td>Open</td></tr><tr><td>2016-07-28T04:39:33.000+0000</td><td>Open</td></tr><tr><td>2016-07-28T04:39:38.000+0000</td><td>Open</td></tr><tr><td>2016-07-28T04:39:38.000+0000</td><td>Open</td></tr><tr><td>2016-07-28T04:39:41.000+0000</td><td>Open</td></tr><tr><td>2016-07-28T04:39:41.000+0000</td><td>Open</td></tr><tr><td>2016-07-28T04:39:46.000+0000</td><td>Close</td></tr><tr><td>2016-07-28T04:39:48.000+0000</td><td>Close</td></tr><tr><td>2016-07-28T04:39:51.000+0000</td><td>Close</td></tr><tr><td>2016-07-28T04:39:54.000+0000</td><td>Open</td></tr><tr><td>2016-07-28T04:39:58.000+0000</td><td>Close</td></tr><tr><td>2016-07-28T04:40:03.000+0000</td><td>Open</td></tr><tr><td>2016-07-28T04:40:07.000+0000</td><td>Close</td></tr><tr><td>2016-07-28T04:40:07.000+0000</td><td>Close</td></tr><tr><td>2016-07-28T04:40:07.000+0000</td><td>Close</td></tr><tr><td>2016-07-28T04:40:09.000+0000</td><td>Close</td></tr><tr><td>2016-07-28T04:40:09.000+0000</td><td>Open</td></tr><tr><td>2016-07-28T04:40:11.000+0000</td><td>Close</td></tr><tr><td>2016-07-28T04:40:11.000+0000</td><td>Close</td></tr><tr><td>2016-07-28T04:40:12.000+0000</td><td>Open</td></tr><tr><td>2016-07-28T04:40:12.000+0000</td><td>Open</td></tr><tr><td>2016-07-28T04:40:13.000+0000</td><td>Open</td></tr><tr><td>2016-07-28T04:40:19.000+0000</td><td>Close</td></tr><tr><td>2016-07-28T04:40:22.000+0000</td><td>Open</td></tr><tr><td>2016-07-28T04:40:23.000+0000</td><td>Close</td></tr><tr><td>2016-07-28T04:40:24.000+0000</td><td>Open</td></tr><tr><td>2016-07-28T04:40:25.000+0000</td><td>Open</td></tr><tr><td>2016-07-28T04:40:28.000+0000</td><td>Close</td></tr><tr><td>2016-07-28T04:40:30.000+0000</td><td>Open</td></tr><tr><td>2016-07-28T04:40:36.000+0000</td><td>Close</td></tr><tr><td>2016-07-28T04:40:43.000+0000</td><td>Close</td></tr><tr><td>2016-07-28T04:40:44.000+0000</td><td>Open</td></tr><tr><td>2016-07-28T04:40:46.000+0000</td><td>Close</td></tr><tr><td>2016-07-28T04:40:46.000+0000</td><td>Close</td></tr><tr><td>2016-07-28T04:40:48.000+0000</td><td>Close</td></tr><tr><td>2016-07-28T04:40:50.000+0000</td><td>Open</td></tr><tr><td>2016-07-28T04:40:51.000+0000</td><td>Open</td></tr><tr><td>2016-07-28T04:40:51.000+0000</td><td>Open</td></tr><tr><td>2016-07-28T04:40:52.000+0000</td><td>Close</td></tr><tr><td>2016-07-28T04:40:54.000+0000</td><td>Open</td></tr><tr><td>2016-07-28T04:40:55.000+0000</td><td>Close</td></tr><tr><td>2016-07-28T04:40:57.000+0000</td><td>Close</td></tr><tr><td>2016-07-28T04:40:57.000+0000</td><td>Close</td></tr><tr><td>2016-07-28T04:40:59.000+0000</td><td>Open</td></tr><tr><td>2016-07-28T04:41:01.000+0000</td><td>Open</td></tr><tr><td>2016-07-28T04:41:07.000+0000</td><td>Open</td></tr><tr><td>2016-07-28T04:41:11.000+0000</td><td>Close</td></tr><tr><td>2016-07-28T04:41:11.000+0000</td><td>Open</td></tr><tr><td>2016-07-28T04:41:12.000+0000</td><td>Open</td></tr><tr><td>2016-07-28T04:41:14.000+0000</td><td>Close</td></tr><tr><td>2016-07-28T04:41:15.000+0000</td><td>Open</td></tr><tr><td>2016-07-28T04:41:17.000+0000</td><td>Close</td></tr><tr><td>2016-07-28T04:41:17.000+0000</td><td>Close</td></tr><tr><td>2016-07-28T04:41:18.000+0000</td><td>Open</td></tr><tr><td>2016-07-28T04:41:19.000+0000</td><td>Open</td></tr><tr><td>2016-07-28T04:41:20.000+0000</td><td>Close</td></tr><tr><td>2016-07-28T04:41:21.000+0000</td><td>Close</td></tr><tr><td>2016-07-28T04:41:24.000+0000</td><td>Close</td></tr><tr><td>2016-07-28T04:41:25.000+0000</td><td>Open</td></tr><tr><td>2016-07-28T04:41:26.000+0000</td><td>Close</td></tr><tr><td>2016-07-28T04:41:26.000+0000</td><td>Open</td></tr><tr><td>2016-07-28T04:41:29.000+0000</td><td>Close</td></tr><tr><td>2016-07-28T04:41:29.000+0000</td><td>Open</td></tr><tr><td>2016-07-28T04:41:35.000+0000</td><td>Close</td></tr><tr><td>2016-07-28T04:41:36.000+0000</td><td>Close</td></tr><tr><td>2016-07-28T04:41:37.000+0000</td><td>Close</td></tr><tr><td>2016-07-28T04:41:38.000+0000</td><td>Open</td></tr><tr><td>2016-07-28T04:41:40.000+0000</td><td>Close</td></tr><tr><td>2016-07-28T04:41:40.000+0000</td><td>Close</td></tr><tr><td>2016-07-28T04:41:41.000+0000</td><td>Open</td></tr><tr><td>2016-07-28T04:41:43.000+0000</td><td>Close</td></tr><tr><td>2016-07-28T04:41:44.000+0000</td><td>Open</td></tr><tr><td>2016-07-28T04:41:48.000+0000</td><td>Open</td></tr><tr><td>2016-07-28T04:41:50.000+0000</td><td>Open</td></tr><tr><td>2016-07-28T04:41:50.000+0000</td><td>Open</td></tr><tr><td>2016-07-28T04:41:51.000+0000</td><td>Open</td></tr><tr><td>2016-07-28T04:41:52.000+0000</td><td>Close</td></tr><tr><td>2016-07-28T04:41:52.000+0000</td><td>Open</td></tr><tr><td>2016-07-28T04:41:54.000+0000</td><td>Open</td></tr><tr><td>2016-07-28T04:42:01.000+0000</td><td>Close</td></tr><tr><td>2016-07-28T04:42:05.000+0000</td><td>Close</td></tr><tr><td>2016-07-28T04:42:07.000+0000</td><td>Open</td></tr><tr><td>2016-07-28T04:42:10.000+0000</td><td>Close</td></tr><tr><td>2016-07-28T04:42:11.000+0000</td><td>Open</td></tr><tr><td>2016-07-28T04:42:11.000+0000</td><td>Open</td></tr><tr><td>2016-07-28T04:42:19.000+0000</td><td>Open</td></tr><tr><td>2016-07-28T04:42:21.000+0000</td><td>Open</td></tr><tr><td>2016-07-28T04:42:23.000+0000</td><td>Close</td></tr><tr><td>2016-07-28T04:42:23.000+0000</td><td>Close</td></tr><tr><td>2016-07-28T04:42:23.000+0000</td><td>Close</td></tr><tr><td>2016-07-28T04:42:23.000+0000</td><td>Open</td></tr><tr><td>2016-07-28T04:42:25.000+0000</td><td>Close</td></tr><tr><td>2016-07-28T04:42:27.000+0000</td><td>Close</td></tr><tr><td>2016-07-28T04:42:30.000+0000</td><td>Open</td></tr><tr><td>2016-07-28T04:42:31.000+0000</td><td>Open</td></tr><tr><td>2016-07-28T04:42:33.000+0000</td><td>Close</td></tr><tr><td>2016-07-28T04:42:34.000+0000</td><td>Close</td></tr><tr><td>2016-07-28T04:42:35.000+0000</td><td>Close</td></tr><tr><td>2016-07-28T04:42:38.000+0000</td><td>Close</td></tr><tr><td>2016-07-28T04:42:38.000+0000</td><td>Open</td></tr><tr><td>2016-07-28T04:42:44.000+0000</td><td>Close</td></tr><tr><td>2016-07-28T04:42:44.000+0000</td><td>Close</td></tr><tr><td>2016-07-28T04:42:44.000+0000</td><td>Open</td></tr><tr><td>2016-07-28T04:42:44.000+0000</td><td>Open</td></tr><tr><td>2016-07-28T04:42:48.000+0000</td><td>Close</td></tr><tr><td>2016-07-28T04:42:49.000+0000</td><td>Open</td></tr><tr><td>2016-07-28T04:42:49.000+0000</td><td>Open</td></tr><tr><td>2016-07-28T04:42:49.000+0000</td><td>Open</td></tr><tr><td>2016-07-28T04:42:50.000+0000</td><td>Open</td></tr><tr><td>2016-07-28T04:42:52.000+0000</td><td>Open</td></tr><tr><td>2016-07-28T04:42:53.000+0000</td><td>Open</td></tr><tr><td>2016-07-28T04:42:54.000+0000</td><td>Close</td></tr><tr><td>2016-07-28T04:42:55.000+0000</td><td>Open</td></tr><tr><td>2016-07-28T04:42:56.000+0000</td><td>Close</td></tr><tr><td>2016-07-28T04:42:57.000+0000</td><td>Close</td></tr><tr><td>2016-07-28T04:43:03.000+0000</td><td>Open</td></tr><tr><td>2016-07-28T04:43:05.000+0000</td><td>Close</td></tr><tr><td>2016-07-28T04:43:07.000+0000</td><td>Open</td></tr><tr><td>2016-07-28T04:43:09.000+0000</td><td>Close</td></tr><tr><td>2016-07-28T04:43:11.000+0000</td><td>Close</td></tr><tr><td>2016-07-28T04:43:12.000+0000</td><td>Open</td></tr><tr><td>2016-07-28T04:43:14.000+0000</td><td>Open</td></tr><tr><td>2016-07-28T04:43:15.000+0000</td><td>Close</td></tr><tr><td>2016-07-28T04:43:15.000+0000</td><td>Open</td></tr><tr><td>2016-07-28T04:43:18.000+0000</td><td>Close</td></tr><tr><td>2016-07-28T04:43:21.000+0000</td><td>Open</td></tr><tr><td>2016-07-28T04:43:25.000+0000</td><td>Close</td></tr><tr><td>2016-07-28T04:43:26.000+0000</td><td>Open</td></tr><tr><td>2016-07-28T04:43:31.000+0000</td><td>Close</td></tr><tr><td>2016-07-28T04:43:33.000+0000</td><td>Open</td></tr><tr><td>2016-07-28T04:43:38.000+0000</td><td>Open</td></tr><tr><td>2016-07-28T04:43:39.000+0000</td><td>Open</td></tr><tr><td>2016-07-28T04:43:41.000+0000</td><td>Close</td></tr><tr><td>2016-07-28T04:43:43.000+0000</td><td>Open</td></tr><tr><td>2016-07-28T04:43:43.000+0000</td><td>Open</td></tr><tr><td>2016-07-28T04:43:45.000+0000</td><td>Open</td></tr><tr><td>2016-07-28T04:43:46.000+0000</td><td>Close</td></tr><tr><td>2016-07-28T04:43:46.000+0000</td><td>Open</td></tr><tr><td>2016-07-28T04:43:47.000+0000</td><td>Close</td></tr><tr><td>2016-07-28T04:43:49.000+0000</td><td>Open</td></tr><tr><td>2016-07-28T04:43:50.000+0000</td><td>Open</td></tr><tr><td>2016-07-28T04:43:52.000+0000</td><td>Open</td></tr><tr><td>2016-07-28T04:43:59.000+0000</td><td>Open</td></tr><tr><td>2016-07-28T04:44:00.000+0000</td><td>Close</td></tr><tr><td>2016-07-28T04:44:05.000+0000</td><td>Close</td></tr><tr><td>2016-07-28T04:44:06.000+0000</td><td>Close</td></tr><tr><td>2016-07-28T04:44:12.000+0000</td><td>Close</td></tr><tr><td>2016-07-28T04:44:14.000+0000</td><td>Open</td></tr><tr><td>2016-07-28T04:44:15.000+0000</td><td>Close</td></tr><tr><td>2016-07-28T04:44:16.000+0000</td><td>Open</td></tr><tr><td>2016-07-28T04:44:19.000+0000</td><td>Close</td></tr><tr><td>2016-07-28T04:44:20.000+0000</td><td>Open</td></tr><tr><td>2016-07-28T04:44:22.000+0000</td><td>Open</td></tr><tr><td>2016-07-28T04:44:23.000+0000</td><td>Open</td></tr><tr><td>2016-07-28T04:44:30.000+0000</td><td>Open</td></tr><tr><td>2016-07-28T04:44:30.000+0000</td><td>Open</td></tr><tr><td>2016-07-28T04:44:31.000+0000</td><td>Close</td></tr><tr><td>2016-07-28T04:44:32.000+0000</td><td>Close</td></tr><tr><td>2016-07-28T04:44:34.000+0000</td><td>Open</td></tr><tr><td>2016-07-28T04:44:36.000+0000</td><td>Close</td></tr><tr><td>2016-07-28T04:44:36.000+0000</td><td>Open</td></tr><tr><td>2016-07-28T04:44:38.000+0000</td><td>Open</td></tr><tr><td>2016-07-28T04:44:42.000+0000</td><td>Close</td></tr><tr><td>2016-07-28T04:44:47.000+0000</td><td>Close</td></tr><tr><td>2016-07-28T04:44:48.000+0000</td><td>Close</td></tr><tr><td>2016-07-28T04:44:51.000+0000</td><td>Open</td></tr><tr><td>2016-07-28T04:44:52.000+0000</td><td>Open</td></tr><tr><td>2016-07-28T04:44:53.000+0000</td><td>Close</td></tr><tr><td>2016-07-28T04:44:54.000+0000</td><td>Open</td></tr><tr><td>2016-07-28T04:44:57.000+0000</td><td>Close</td></tr><tr><td>2016-07-28T04:45:03.000+0000</td><td>Open</td></tr><tr><td>2016-07-28T04:45:04.000+0000</td><td>Open</td></tr><tr><td>2016-07-28T04:45:09.000+0000</td><td>Open</td></tr><tr><td>2016-07-28T04:45:10.000+0000</td><td>Open</td></tr><tr><td>2016-07-28T04:45:18.000+0000</td><td>Close</td></tr><tr><td>2016-07-28T04:45:18.000+0000</td><td>Open</td></tr><tr><td>2016-07-28T04:45:18.000+0000</td><td>Open</td></tr><tr><td>2016-07-28T04:45:19.000+0000</td><td>Close</td></tr><tr><td>2016-07-28T04:45:20.000+0000</td><td>Open</td></tr><tr><td>2016-07-28T04:45:21.000+0000</td><td>Open</td></tr><tr><td>2016-07-28T04:45:22.000+0000</td><td>Close</td></tr><tr><td>2016-07-28T04:45:22.000+0000</td><td>Close</td></tr><tr><td>2016-07-28T04:45:31.000+0000</td><td>Close</td></tr><tr><td>2016-07-28T04:45:32.000+0000</td><td>Open</td></tr><tr><td>2016-07-28T04:45:38.000+0000</td><td>Open</td></tr><tr><td>2016-07-28T04:45:39.000+0000</td><td>Open</td></tr><tr><td>2016-07-28T04:45:41.000+0000</td><td>Close</td></tr><tr><td>2016-07-28T04:45:41.000+0000</td><td>Open</td></tr><tr><td>2016-07-28T04:45:44.000+0000</td><td>Close</td></tr><tr><td>2016-07-28T04:45:46.000+0000</td><td>Close</td></tr><tr><td>2016-07-28T04:45:46.000+0000</td><td>Open</td></tr><tr><td>2016-07-28T04:45:52.000+0000</td><td>Open</td></tr><tr><td>2016-07-28T04:46:01.000+0000</td><td>Close</td></tr><tr><td>2016-07-28T04:46:01.000+0000</td><td>Close</td></tr><tr><td>2016-07-28T04:46:01.000+0000</td><td>Open</td></tr><tr><td>2016-07-28T04:46:11.000+0000</td><td>Close</td></tr><tr><td>2016-07-28T04:46:11.000+0000</td><td>Close</td></tr><tr><td>2016-07-28T04:46:15.000+0000</td><td>Open</td></tr><tr><td>2016-07-28T04:46:18.000+0000</td><td>Close</td></tr><tr><td>2016-07-28T04:46:18.000+0000</td><td>Close</td></tr><tr><td>2016-07-28T04:46:24.000+0000</td><td>Open</td></tr><tr><td>2016-07-28T04:46:27.000+0000</td><td>Close</td></tr><tr><td>2016-07-28T04:46:27.000+0000</td><td>Close</td></tr><tr><td>2016-07-28T04:46:30.000+0000</td><td>Open</td></tr><tr><td>2016-07-28T04:46:31.000+0000</td><td>Open</td></tr><tr><td>2016-07-28T04:46:31.000+0000</td><td>Open</td></tr><tr><td>2016-07-28T04:46:33.000+0000</td><td>Open</td></tr><tr><td>2016-07-28T04:46:34.000+0000</td><td>Close</td></tr><tr><td>2016-07-28T04:46:35.000+0000</td><td>Open</td></tr><tr><td>2016-07-28T04:46:37.000+0000</td><td>Close</td></tr><tr><td>2016-07-28T04:46:37.000+0000</td><td>Close</td></tr><tr><td>2016-07-28T04:46:37.000+0000</td><td>Close</td></tr><tr><td>2016-07-28T04:46:39.000+0000</td><td>Close</td></tr><tr><td>2016-07-28T04:46:41.000+0000</td><td>Open</td></tr><tr><td>2016-07-28T04:46:45.000+0000</td><td>Close</td></tr><tr><td>2016-07-28T04:46:48.000+0000</td><td>Close</td></tr><tr><td>2016-07-28T04:46:48.000+0000</td><td>Open</td></tr><tr><td>2016-07-28T04:46:49.000+0000</td><td>Close</td></tr><tr><td>2016-07-28T04:46:51.000+0000</td><td>Close</td></tr><tr><td>2016-07-28T04:46:51.000+0000</td><td>Open</td></tr><tr><td>2016-07-28T04:46:52.000+0000</td><td>Open</td></tr><tr><td>2016-07-28T04:46:53.000+0000</td><td>Open</td></tr><tr><td>2016-07-28T04:46:55.000+0000</td><td>Open</td></tr><tr><td>2016-07-28T04:46:56.000+0000</td><td>Close</td></tr><tr><td>2016-07-28T04:46:57.000+0000</td><td>Close</td></tr><tr><td>2016-07-28T04:47:03.000+0000</td><td>Close</td></tr><tr><td>2016-07-28T04:47:06.000+0000</td><td>Open</td></tr><tr><td>2016-07-28T04:47:09.000+0000</td><td>Open</td></tr><tr><td>2016-07-28T04:47:09.000+0000</td><td>Open</td></tr><tr><td>2016-07-28T04:47:09.000+0000</td><td>Open</td></tr><tr><td>2016-07-28T04:47:11.000+0000</td><td>Close</td></tr><tr><td>2016-07-28T04:47:11.000+0000</td><td>Close</td></tr><tr><td>2016-07-28T04:47:11.000+0000</td><td>Close</td></tr><tr><td>2016-07-28T04:47:22.000+0000</td><td>Close</td></tr><tr><td>2016-07-28T04:47:24.000+0000</td><td>Close</td></tr><tr><td>2016-07-28T04:47:26.000+0000</td><td>Close</td></tr><tr><td>2016-07-28T04:47:26.000+0000</td><td>Open</td></tr><tr><td>2016-07-28T04:47:32.000+0000</td><td>Close</td></tr><tr><td>2016-07-28T04:47:38.000+0000</td><td>Open</td></tr><tr><td>2016-07-28T04:47:40.000+0000</td><td>Open</td></tr><tr><td>2016-07-28T04:47:42.000+0000</td><td>Close</td></tr><tr><td>2016-07-28T04:47:46.000+0000</td><td>Close</td></tr><tr><td>2016-07-28T04:47:47.000+0000</td><td>Open</td></tr><tr><td>2016-07-28T04:47:50.000+0000</td><td>Close</td></tr><tr><td>2016-07-28T04:47:51.000+0000</td><td>Open</td></tr><tr><td>2016-07-28T04:47:55.000+0000</td><td>Close</td></tr><tr><td>2016-07-28T04:47:56.000+0000</td><td>Open</td></tr><tr><td>2016-07-28T04:47:56.000+0000</td><td>Open</td></tr><tr><td>2016-07-28T04:47:58.000+0000</td><td>Open</td></tr><tr><td>2016-07-28T04:48:02.000+0000</td><td>Close</td></tr><tr><td>2016-07-28T04:48:02.000+0000</td><td>Close</td></tr><tr><td>2016-07-28T04:48:05.000+0000</td><td>Close</td></tr><tr><td>2016-07-28T04:48:06.000+0000</td><td>Close</td></tr><tr><td>2016-07-28T04:48:09.000+0000</td><td>Close</td></tr><tr><td>2016-07-28T04:48:09.000+0000</td><td>Open</td></tr><tr><td>2016-07-28T04:48:09.000+0000</td><td>Open</td></tr><tr><td>2016-07-28T04:48:12.000+0000</td><td>Open</td></tr><tr><td>2016-07-28T04:48:16.000+0000</td><td>Close</td></tr><tr><td>2016-07-28T04:48:19.000+0000</td><td>Close</td></tr><tr><td>2016-07-28T04:48:19.000+0000</td><td>Open</td></tr><tr><td>2016-07-28T04:48:21.000+0000</td><td>Open</td></tr><tr><td>2016-07-28T04:48:33.000+0000</td><td>Close</td></tr><tr><td>2016-07-28T04:48:35.000+0000</td><td>Close</td></tr><tr><td>2016-07-28T04:48:35.000+0000</td><td>Open</td></tr><tr><td>2016-07-28T04:48:35.000+0000</td><td>Open</td></tr><tr><td>2016-07-28T04:48:37.000+0000</td><td>Open</td></tr><tr><td>2016-07-28T04:48:38.000+0000</td><td>Close</td></tr><tr><td>2016-07-28T04:48:42.000+0000</td><td>Close</td></tr><tr><td>2016-07-28T04:48:44.000+0000</td><td>Open</td></tr><tr><td>2016-07-28T04:48:45.000+0000</td><td>Open</td></tr><tr><td>2016-07-28T04:48:49.000+0000</td><td>Close</td></tr><tr><td>2016-07-28T04:48:53.000+0000</td><td>Close</td></tr><tr><td>2016-07-28T04:48:56.000+0000</td><td>Close</td></tr><tr><td>2016-07-28T04:48:56.000+0000</td><td>Close</td></tr><tr><td>2016-07-28T04:48:59.000+0000</td><td>Close</td></tr><tr><td>2016-07-28T04:49:00.000+0000</td><td>Open</td></tr><tr><td>2016-07-28T04:49:01.000+0000</td><td>Open</td></tr><tr><td>2016-07-28T04:49:05.000+0000</td><td>Close</td></tr><tr><td>2016-07-28T04:49:08.000+0000</td><td>Open</td></tr><tr><td>2016-07-28T04:49:12.000+0000</td><td>Close</td></tr><tr><td>2016-07-28T04:49:12.000+0000</td><td>Close</td></tr><tr><td>2016-07-28T04:49:16.000+0000</td><td>Close</td></tr><tr><td>2016-07-28T04:49:16.000+0000</td><td>Close</td></tr><tr><td>2016-07-28T04:49:22.000+0000</td><td>Open</td></tr><tr><td>2016-07-28T04:49:24.000+0000</td><td>Close</td></tr><tr><td>2016-07-28T04:49:25.000+0000</td><td>Open</td></tr><tr><td>2016-07-28T04:49:26.000+0000</td><td>Close</td></tr><tr><td>2016-07-28T04:49:30.000+0000</td><td>Open</td></tr><tr><td>2016-07-28T04:49:30.000+0000</td><td>Open</td></tr><tr><td>2016-07-28T04:49:36.000+0000</td><td>Close</td></tr><tr><td>2016-07-28T04:49:36.000+0000</td><td>Open</td></tr><tr><td>2016-07-28T04:49:41.000+0000</td><td>Close</td></tr><tr><td>2016-07-28T04:49:41.000+0000</td><td>Open</td></tr><tr><td>2016-07-28T04:49:44.000+0000</td><td>Close</td></tr><tr><td>2016-07-28T04:49:44.000+0000</td><td>Close</td></tr><tr><td>2016-07-28T04:49:51.000+0000</td><td>Close</td></tr><tr><td>2016-07-28T04:49:52.000+0000</td><td>Close</td></tr><tr><td>2016-07-28T04:49:57.000+0000</td><td>Close</td></tr><tr><td>2016-07-28T04:50:02.000+0000</td><td>Open</td></tr><tr><td>2016-07-28T04:50:13.000+0000</td><td>Open</td></tr><tr><td>2016-07-28T04:50:16.000+0000</td><td>Open</td></tr><tr><td>2016-07-28T04:50:18.000+0000</td><td>Open</td></tr><tr><td>2016-07-28T04:50:21.000+0000</td><td>Close</td></tr><tr><td>2016-07-28T04:50:23.000+0000</td><td>Close</td></tr><tr><td>2016-07-28T04:50:23.000+0000</td><td>Close</td></tr><tr><td>2016-07-28T04:50:23.000+0000</td><td>Close</td></tr><tr><td>2016-07-28T04:50:24.000+0000</td><td>Open</td></tr><tr><td>2016-07-28T04:50:25.000+0000</td><td>Close</td></tr><tr><td>2016-07-28T04:50:28.000+0000</td><td>Close</td></tr><tr><td>2016-07-28T04:50:30.000+0000</td><td>Close</td></tr><tr><td>2016-07-28T04:50:34.000+0000</td><td>Close</td></tr><tr><td>2016-07-28T04:50:34.000+0000</td><td>Close</td></tr><tr><td>2016-07-28T04:50:34.000+0000</td><td>Open</td></tr><tr><td>2016-07-28T04:50:39.000+0000</td><td>Close</td></tr><tr><td>2016-07-28T04:50:39.000+0000</td><td>Close</td></tr><tr><td>2016-07-28T04:50:47.000+0000</td><td>Close</td></tr><tr><td>2016-07-28T04:50:47.000+0000</td><td>Close</td></tr><tr><td>2016-07-28T04:50:49.000+0000</td><td>Close</td></tr><tr><td>2016-07-28T04:50:52.000+0000</td><td>Open</td></tr><tr><td>2016-07-28T04:50:52.000+0000</td><td>Open</td></tr><tr><td>2016-07-28T04:51:03.000+0000</td><td>Open</td></tr><tr><td>2016-07-28T04:51:09.000+0000</td><td>Close</td></tr><tr><td>2016-07-28T04:51:09.000+0000</td><td>Close</td></tr><tr><td>2016-07-28T04:51:11.000+0000</td><td>Close</td></tr><tr><td>2016-07-28T04:51:13.000+0000</td><td>Open</td></tr><tr><td>2016-07-28T04:51:16.000+0000</td><td>Close</td></tr><tr><td>2016-07-28T04:51:19.000+0000</td><td>Close</td></tr><tr><td>2016-07-28T04:51:22.000+0000</td><td>Close</td></tr><tr><td>2016-07-28T04:51:26.000+0000</td><td>Close</td></tr><tr><td>2016-07-28T04:51:29.000+0000</td><td>Close</td></tr><tr><td>2016-07-28T04:51:29.000+0000</td><td>Close</td></tr><tr><td>2016-07-28T04:51:34.000+0000</td><td>Open</td></tr><tr><td>2016-07-28T04:51:39.000+0000</td><td>Close</td></tr><tr><td>2016-07-28T04:51:39.000+0000</td><td>Close</td></tr><tr><td>2016-07-28T04:51:41.000+0000</td><td>Close</td></tr><tr><td>2016-07-28T04:51:41.000+0000</td><td>Open</td></tr><tr><td>2016-07-28T04:51:42.000+0000</td><td>Open</td></tr><tr><td>2016-07-28T04:51:44.000+0000</td><td>Close</td></tr><tr><td>2016-07-28T04:51:50.000+0000</td><td>Close</td></tr><tr><td>2016-07-28T04:51:54.000+0000</td><td>Close</td></tr><tr><td>2016-07-28T04:51:54.000+0000</td><td>Open</td></tr><tr><td>2016-07-28T04:51:57.000+0000</td><td>Close</td></tr></tbody></table>Showing the first 1000 rows.</div>"
      ]
     },
     "metadata": {
      "application/vnd.databricks.v1+output": {
       "addedWidgets": {},
       "aggData": [],
       "aggError": "",
       "aggOverflow": false,
       "aggSchema": [],
       "aggSeriesLimitReached": false,
       "aggType": "",
       "arguments": {},
       "columnCustomDisplayInfos": {},
       "data": [
        [
         "2016-07-28T04:19:28.000+0000",
         "Close"
        ],
        [
         "2016-07-28T04:19:28.000+0000",
         "Close"
        ],
        [
         "2016-07-28T04:19:29.000+0000",
         "Open"
        ],
        [
         "2016-07-28T04:19:31.000+0000",
         "Close"
        ],
        [
         "2016-07-28T04:19:31.000+0000",
         "Open"
        ],
        [
         "2016-07-28T04:19:31.000+0000",
         "Open"
        ],
        [
         "2016-07-28T04:19:32.000+0000",
         "Close"
        ],
        [
         "2016-07-28T04:19:33.000+0000",
         "Close"
        ],
        [
         "2016-07-28T04:19:35.000+0000",
         "Close"
        ],
        [
         "2016-07-28T04:19:36.000+0000",
         "Open"
        ],
        [
         "2016-07-28T04:19:38.000+0000",
         "Close"
        ],
        [
         "2016-07-28T04:19:40.000+0000",
         "Open"
        ],
        [
         "2016-07-28T04:19:41.000+0000",
         "Close"
        ],
        [
         "2016-07-28T04:19:42.000+0000",
         "Open"
        ],
        [
         "2016-07-28T04:19:45.000+0000",
         "Open"
        ],
        [
         "2016-07-28T04:19:47.000+0000",
         "Open"
        ],
        [
         "2016-07-28T04:19:48.000+0000",
         "Open"
        ],
        [
         "2016-07-28T04:19:49.000+0000",
         "Open"
        ],
        [
         "2016-07-28T04:19:55.000+0000",
         "Open"
        ],
        [
         "2016-07-28T04:20:00.000+0000",
         "Close"
        ],
        [
         "2016-07-28T04:20:00.000+0000",
         "Open"
        ],
        [
         "2016-07-28T04:20:01.000+0000",
         "Open"
        ],
        [
         "2016-07-28T04:20:03.000+0000",
         "Close"
        ],
        [
         "2016-07-28T04:20:07.000+0000",
         "Open"
        ],
        [
         "2016-07-28T04:20:11.000+0000",
         "Open"
        ],
        [
         "2016-07-28T04:20:12.000+0000",
         "Close"
        ],
        [
         "2016-07-28T04:20:12.000+0000",
         "Open"
        ],
        [
         "2016-07-28T04:20:13.000+0000",
         "Close"
        ],
        [
         "2016-07-28T04:20:16.000+0000",
         "Open"
        ],
        [
         "2016-07-28T04:20:23.000+0000",
         "Close"
        ],
        [
         "2016-07-28T04:20:23.000+0000",
         "Close"
        ],
        [
         "2016-07-28T04:20:23.000+0000",
         "Open"
        ],
        [
         "2016-07-28T04:20:26.000+0000",
         "Close"
        ],
        [
         "2016-07-28T04:20:30.000+0000",
         "Close"
        ],
        [
         "2016-07-28T04:20:32.000+0000",
         "Open"
        ],
        [
         "2016-07-28T04:20:32.000+0000",
         "Open"
        ],
        [
         "2016-07-28T04:20:34.000+0000",
         "Close"
        ],
        [
         "2016-07-28T04:20:36.000+0000",
         "Open"
        ],
        [
         "2016-07-28T04:20:42.000+0000",
         "Close"
        ],
        [
         "2016-07-28T04:20:42.000+0000",
         "Open"
        ],
        [
         "2016-07-28T04:20:42.000+0000",
         "Open"
        ],
        [
         "2016-07-28T04:20:48.000+0000",
         "Close"
        ],
        [
         "2016-07-28T04:20:48.000+0000",
         "Close"
        ],
        [
         "2016-07-28T04:20:48.000+0000",
         "Open"
        ],
        [
         "2016-07-28T04:20:50.000+0000",
         "Open"
        ],
        [
         "2016-07-28T04:20:52.000+0000",
         "Open"
        ],
        [
         "2016-07-28T04:20:55.000+0000",
         "Open"
        ],
        [
         "2016-07-28T04:20:55.000+0000",
         "Open"
        ],
        [
         "2016-07-28T04:20:56.000+0000",
         "Close"
        ],
        [
         "2016-07-28T04:20:56.000+0000",
         "Close"
        ],
        [
         "2016-07-28T04:20:56.000+0000",
         "Open"
        ],
        [
         "2016-07-28T04:20:59.000+0000",
         "Open"
        ],
        [
         "2016-07-28T04:20:59.000+0000",
         "Open"
        ],
        [
         "2016-07-28T04:21:02.000+0000",
         "Close"
        ],
        [
         "2016-07-28T04:21:04.000+0000",
         "Open"
        ],
        [
         "2016-07-28T04:21:08.000+0000",
         "Open"
        ],
        [
         "2016-07-28T04:21:11.000+0000",
         "Close"
        ],
        [
         "2016-07-28T04:21:13.000+0000",
         "Open"
        ],
        [
         "2016-07-28T04:21:18.000+0000",
         "Open"
        ],
        [
         "2016-07-28T04:21:19.000+0000",
         "Open"
        ],
        [
         "2016-07-28T04:21:20.000+0000",
         "Close"
        ],
        [
         "2016-07-28T04:21:22.000+0000",
         "Open"
        ],
        [
         "2016-07-28T04:21:23.000+0000",
         "Open"
        ],
        [
         "2016-07-28T04:21:27.000+0000",
         "Close"
        ],
        [
         "2016-07-28T04:21:28.000+0000",
         "Open"
        ],
        [
         "2016-07-28T04:21:31.000+0000",
         "Close"
        ],
        [
         "2016-07-28T04:21:32.000+0000",
         "Open"
        ],
        [
         "2016-07-28T04:21:32.000+0000",
         "Open"
        ],
        [
         "2016-07-28T04:21:33.000+0000",
         "Open"
        ],
        [
         "2016-07-28T04:21:34.000+0000",
         "Close"
        ],
        [
         "2016-07-28T04:21:34.000+0000",
         "Open"
        ],
        [
         "2016-07-28T04:21:35.000+0000",
         "Close"
        ],
        [
         "2016-07-28T04:21:37.000+0000",
         "Open"
        ],
        [
         "2016-07-28T04:21:38.000+0000",
         "Close"
        ],
        [
         "2016-07-28T04:21:44.000+0000",
         "Open"
        ],
        [
         "2016-07-28T04:21:46.000+0000",
         "Close"
        ],
        [
         "2016-07-28T04:21:46.000+0000",
         "Open"
        ],
        [
         "2016-07-28T04:21:48.000+0000",
         "Close"
        ],
        [
         "2016-07-28T04:21:49.000+0000",
         "Open"
        ],
        [
         "2016-07-28T04:21:50.000+0000",
         "Close"
        ],
        [
         "2016-07-28T04:21:52.000+0000",
         "Close"
        ],
        [
         "2016-07-28T04:21:52.000+0000",
         "Open"
        ],
        [
         "2016-07-28T04:21:52.000+0000",
         "Open"
        ],
        [
         "2016-07-28T04:21:53.000+0000",
         "Open"
        ],
        [
         "2016-07-28T04:21:53.000+0000",
         "Open"
        ],
        [
         "2016-07-28T04:21:56.000+0000",
         "Close"
        ],
        [
         "2016-07-28T04:21:56.000+0000",
         "Close"
        ],
        [
         "2016-07-28T04:21:57.000+0000",
         "Close"
        ],
        [
         "2016-07-28T04:21:58.000+0000",
         "Open"
        ],
        [
         "2016-07-28T04:21:59.000+0000",
         "Close"
        ],
        [
         "2016-07-28T04:22:01.000+0000",
         "Open"
        ],
        [
         "2016-07-28T04:22:06.000+0000",
         "Close"
        ],
        [
         "2016-07-28T04:22:10.000+0000",
         "Open"
        ],
        [
         "2016-07-28T04:22:11.000+0000",
         "Close"
        ],
        [
         "2016-07-28T04:22:12.000+0000",
         "Open"
        ],
        [
         "2016-07-28T04:22:14.000+0000",
         "Close"
        ],
        [
         "2016-07-28T04:22:15.000+0000",
         "Close"
        ],
        [
         "2016-07-28T04:22:15.000+0000",
         "Open"
        ],
        [
         "2016-07-28T04:22:19.000+0000",
         "Close"
        ],
        [
         "2016-07-28T04:22:20.000+0000",
         "Close"
        ],
        [
         "2016-07-28T04:22:24.000+0000",
         "Close"
        ],
        [
         "2016-07-28T04:22:24.000+0000",
         "Close"
        ],
        [
         "2016-07-28T04:22:24.000+0000",
         "Open"
        ],
        [
         "2016-07-28T04:22:30.000+0000",
         "Open"
        ],
        [
         "2016-07-28T04:22:31.000+0000",
         "Close"
        ],
        [
         "2016-07-28T04:22:31.000+0000",
         "Open"
        ],
        [
         "2016-07-28T04:22:33.000+0000",
         "Close"
        ],
        [
         "2016-07-28T04:22:39.000+0000",
         "Open"
        ],
        [
         "2016-07-28T04:22:40.000+0000",
         "Close"
        ],
        [
         "2016-07-28T04:22:43.000+0000",
         "Open"
        ],
        [
         "2016-07-28T04:22:44.000+0000",
         "Open"
        ],
        [
         "2016-07-28T04:22:49.000+0000",
         "Close"
        ],
        [
         "2016-07-28T04:22:50.000+0000",
         "Open"
        ],
        [
         "2016-07-28T04:22:55.000+0000",
         "Open"
        ],
        [
         "2016-07-28T04:22:56.000+0000",
         "Open"
        ],
        [
         "2016-07-28T04:22:58.000+0000",
         "Open"
        ],
        [
         "2016-07-28T04:23:00.000+0000",
         "Close"
        ],
        [
         "2016-07-28T04:23:00.000+0000",
         "Open"
        ],
        [
         "2016-07-28T04:23:06.000+0000",
         "Close"
        ],
        [
         "2016-07-28T04:23:07.000+0000",
         "Close"
        ],
        [
         "2016-07-28T04:23:07.000+0000",
         "Open"
        ],
        [
         "2016-07-28T04:23:08.000+0000",
         "Open"
        ],
        [
         "2016-07-28T04:23:10.000+0000",
         "Open"
        ],
        [
         "2016-07-28T04:23:11.000+0000",
         "Close"
        ],
        [
         "2016-07-28T04:23:12.000+0000",
         "Open"
        ],
        [
         "2016-07-28T04:23:13.000+0000",
         "Open"
        ],
        [
         "2016-07-28T04:23:17.000+0000",
         "Close"
        ],
        [
         "2016-07-28T04:23:23.000+0000",
         "Open"
        ],
        [
         "2016-07-28T04:23:28.000+0000",
         "Open"
        ],
        [
         "2016-07-28T04:23:29.000+0000",
         "Close"
        ],
        [
         "2016-07-28T04:23:29.000+0000",
         "Open"
        ],
        [
         "2016-07-28T04:23:31.000+0000",
         "Open"
        ],
        [
         "2016-07-28T04:23:32.000+0000",
         "Open"
        ],
        [
         "2016-07-28T04:23:40.000+0000",
         "Close"
        ],
        [
         "2016-07-28T04:23:40.000+0000",
         "Close"
        ],
        [
         "2016-07-28T04:23:41.000+0000",
         "Open"
        ],
        [
         "2016-07-28T04:23:42.000+0000",
         "Close"
        ],
        [
         "2016-07-28T04:23:43.000+0000",
         "Close"
        ],
        [
         "2016-07-28T04:23:43.000+0000",
         "Open"
        ],
        [
         "2016-07-28T04:23:44.000+0000",
         "Open"
        ],
        [
         "2016-07-28T04:23:46.000+0000",
         "Close"
        ],
        [
         "2016-07-28T04:23:48.000+0000",
         "Open"
        ],
        [
         "2016-07-28T04:23:49.000+0000",
         "Open"
        ],
        [
         "2016-07-28T04:23:52.000+0000",
         "Close"
        ],
        [
         "2016-07-28T04:23:53.000+0000",
         "Close"
        ],
        [
         "2016-07-28T04:23:54.000+0000",
         "Close"
        ],
        [
         "2016-07-28T04:23:55.000+0000",
         "Close"
        ],
        [
         "2016-07-28T04:24:05.000+0000",
         "Close"
        ],
        [
         "2016-07-28T04:24:07.000+0000",
         "Close"
        ],
        [
         "2016-07-28T04:24:09.000+0000",
         "Close"
        ],
        [
         "2016-07-28T04:24:14.000+0000",
         "Close"
        ],
        [
         "2016-07-28T04:24:14.000+0000",
         "Close"
        ],
        [
         "2016-07-28T04:24:14.000+0000",
         "Open"
        ],
        [
         "2016-07-28T04:24:18.000+0000",
         "Close"
        ],
        [
         "2016-07-28T04:24:18.000+0000",
         "Open"
        ],
        [
         "2016-07-28T04:24:20.000+0000",
         "Close"
        ],
        [
         "2016-07-28T04:24:21.000+0000",
         "Close"
        ],
        [
         "2016-07-28T04:24:21.000+0000",
         "Open"
        ],
        [
         "2016-07-28T04:24:22.000+0000",
         "Open"
        ],
        [
         "2016-07-28T04:24:23.000+0000",
         "Open"
        ],
        [
         "2016-07-28T04:24:24.000+0000",
         "Close"
        ],
        [
         "2016-07-28T04:24:24.000+0000",
         "Close"
        ],
        [
         "2016-07-28T04:24:24.000+0000",
         "Open"
        ],
        [
         "2016-07-28T04:24:25.000+0000",
         "Open"
        ],
        [
         "2016-07-28T04:24:30.000+0000",
         "Close"
        ],
        [
         "2016-07-28T04:24:34.000+0000",
         "Close"
        ],
        [
         "2016-07-28T04:24:35.000+0000",
         "Open"
        ],
        [
         "2016-07-28T04:24:36.000+0000",
         "Open"
        ],
        [
         "2016-07-28T04:24:39.000+0000",
         "Close"
        ],
        [
         "2016-07-28T04:24:39.000+0000",
         "Open"
        ],
        [
         "2016-07-28T04:24:41.000+0000",
         "Open"
        ],
        [
         "2016-07-28T04:24:42.000+0000",
         "Open"
        ],
        [
         "2016-07-28T04:24:43.000+0000",
         "Close"
        ],
        [
         "2016-07-28T04:24:43.000+0000",
         "Close"
        ],
        [
         "2016-07-28T04:24:44.000+0000",
         "Open"
        ],
        [
         "2016-07-28T04:24:47.000+0000",
         "Close"
        ],
        [
         "2016-07-28T04:24:47.000+0000",
         "Close"
        ],
        [
         "2016-07-28T04:24:51.000+0000",
         "Open"
        ],
        [
         "2016-07-28T04:24:52.000+0000",
         "Close"
        ],
        [
         "2016-07-28T04:24:53.000+0000",
         "Open"
        ],
        [
         "2016-07-28T04:24:54.000+0000",
         "Open"
        ],
        [
         "2016-07-28T04:24:56.000+0000",
         "Open"
        ],
        [
         "2016-07-28T04:24:56.000+0000",
         "Open"
        ],
        [
         "2016-07-28T04:24:59.000+0000",
         "Close"
        ],
        [
         "2016-07-28T04:24:59.000+0000",
         "Open"
        ],
        [
         "2016-07-28T04:25:03.000+0000",
         "Close"
        ],
        [
         "2016-07-28T04:25:03.000+0000",
         "Open"
        ],
        [
         "2016-07-28T04:25:03.000+0000",
         "Open"
        ],
        [
         "2016-07-28T04:25:04.000+0000",
         "Close"
        ],
        [
         "2016-07-28T04:25:06.000+0000",
         "Open"
        ],
        [
         "2016-07-28T04:25:08.000+0000",
         "Open"
        ],
        [
         "2016-07-28T04:25:08.000+0000",
         "Open"
        ],
        [
         "2016-07-28T04:25:09.000+0000",
         "Close"
        ],
        [
         "2016-07-28T04:25:10.000+0000",
         "Close"
        ],
        [
         "2016-07-28T04:25:10.000+0000",
         "Close"
        ],
        [
         "2016-07-28T04:25:15.000+0000",
         "Open"
        ],
        [
         "2016-07-28T04:25:16.000+0000",
         "Close"
        ],
        [
         "2016-07-28T04:25:20.000+0000",
         "Close"
        ],
        [
         "2016-07-28T04:25:21.000+0000",
         "Close"
        ],
        [
         "2016-07-28T04:25:21.000+0000",
         "Close"
        ],
        [
         "2016-07-28T04:25:21.000+0000",
         "Open"
        ],
        [
         "2016-07-28T04:25:22.000+0000",
         "Close"
        ],
        [
         "2016-07-28T04:25:22.000+0000",
         "Open"
        ],
        [
         "2016-07-28T04:25:23.000+0000",
         "Close"
        ],
        [
         "2016-07-28T04:25:23.000+0000",
         "Close"
        ],
        [
         "2016-07-28T04:25:23.000+0000",
         "Open"
        ],
        [
         "2016-07-28T04:25:25.000+0000",
         "Close"
        ],
        [
         "2016-07-28T04:25:25.000+0000",
         "Close"
        ],
        [
         "2016-07-28T04:25:27.000+0000",
         "Close"
        ],
        [
         "2016-07-28T04:25:27.000+0000",
         "Open"
        ],
        [
         "2016-07-28T04:25:29.000+0000",
         "Open"
        ],
        [
         "2016-07-28T04:25:30.000+0000",
         "Close"
        ],
        [
         "2016-07-28T04:25:42.000+0000",
         "Close"
        ],
        [
         "2016-07-28T04:25:43.000+0000",
         "Close"
        ],
        [
         "2016-07-28T04:25:44.000+0000",
         "Open"
        ],
        [
         "2016-07-28T04:25:49.000+0000",
         "Close"
        ],
        [
         "2016-07-28T04:25:49.000+0000",
         "Close"
        ],
        [
         "2016-07-28T04:25:52.000+0000",
         "Open"
        ],
        [
         "2016-07-28T04:25:55.000+0000",
         "Open"
        ],
        [
         "2016-07-28T04:25:56.000+0000",
         "Close"
        ],
        [
         "2016-07-28T04:25:57.000+0000",
         "Close"
        ],
        [
         "2016-07-28T04:25:57.000+0000",
         "Open"
        ],
        [
         "2016-07-28T04:25:58.000+0000",
         "Open"
        ],
        [
         "2016-07-28T04:26:04.000+0000",
         "Open"
        ],
        [
         "2016-07-28T04:26:05.000+0000",
         "Close"
        ],
        [
         "2016-07-28T04:26:08.000+0000",
         "Close"
        ],
        [
         "2016-07-28T04:26:15.000+0000",
         "Close"
        ],
        [
         "2016-07-28T04:26:16.000+0000",
         "Close"
        ],
        [
         "2016-07-28T04:26:18.000+0000",
         "Open"
        ],
        [
         "2016-07-28T04:26:20.000+0000",
         "Close"
        ],
        [
         "2016-07-28T04:26:22.000+0000",
         "Close"
        ],
        [
         "2016-07-28T04:26:22.000+0000",
         "Close"
        ],
        [
         "2016-07-28T04:26:22.000+0000",
         "Close"
        ],
        [
         "2016-07-28T04:26:24.000+0000",
         "Open"
        ],
        [
         "2016-07-28T04:26:24.000+0000",
         "Open"
        ],
        [
         "2016-07-28T04:26:26.000+0000",
         "Open"
        ],
        [
         "2016-07-28T04:26:30.000+0000",
         "Close"
        ],
        [
         "2016-07-28T04:26:30.000+0000",
         "Open"
        ],
        [
         "2016-07-28T04:26:31.000+0000",
         "Close"
        ],
        [
         "2016-07-28T04:26:32.000+0000",
         "Close"
        ],
        [
         "2016-07-28T04:26:32.000+0000",
         "Close"
        ],
        [
         "2016-07-28T04:26:32.000+0000",
         "Open"
        ],
        [
         "2016-07-28T04:26:34.000+0000",
         "Close"
        ],
        [
         "2016-07-28T04:26:35.000+0000",
         "Open"
        ],
        [
         "2016-07-28T04:26:36.000+0000",
         "Close"
        ],
        [
         "2016-07-28T04:26:36.000+0000",
         "Open"
        ],
        [
         "2016-07-28T04:26:45.000+0000",
         "Close"
        ],
        [
         "2016-07-28T04:26:45.000+0000",
         "Close"
        ],
        [
         "2016-07-28T04:26:46.000+0000",
         "Open"
        ],
        [
         "2016-07-28T04:26:47.000+0000",
         "Close"
        ],
        [
         "2016-07-28T04:26:50.000+0000",
         "Close"
        ],
        [
         "2016-07-28T04:26:50.000+0000",
         "Open"
        ],
        [
         "2016-07-28T04:26:54.000+0000",
         "Close"
        ],
        [
         "2016-07-28T04:26:54.000+0000",
         "Open"
        ],
        [
         "2016-07-28T04:26:57.000+0000",
         "Open"
        ],
        [
         "2016-07-28T04:26:58.000+0000",
         "Close"
        ],
        [
         "2016-07-28T04:26:58.000+0000",
         "Open"
        ],
        [
         "2016-07-28T04:26:59.000+0000",
         "Close"
        ],
        [
         "2016-07-28T04:27:05.000+0000",
         "Close"
        ],
        [
         "2016-07-28T04:27:06.000+0000",
         "Open"
        ],
        [
         "2016-07-28T04:27:15.000+0000",
         "Close"
        ],
        [
         "2016-07-28T04:27:18.000+0000",
         "Close"
        ],
        [
         "2016-07-28T04:27:18.000+0000",
         "Open"
        ],
        [
         "2016-07-28T04:27:19.000+0000",
         "Open"
        ],
        [
         "2016-07-28T04:27:20.000+0000",
         "Close"
        ],
        [
         "2016-07-28T04:27:21.000+0000",
         "Open"
        ],
        [
         "2016-07-28T04:27:24.000+0000",
         "Close"
        ],
        [
         "2016-07-28T04:27:30.000+0000",
         "Close"
        ],
        [
         "2016-07-28T04:27:31.000+0000",
         "Close"
        ],
        [
         "2016-07-28T04:27:31.000+0000",
         "Open"
        ],
        [
         "2016-07-28T04:27:34.000+0000",
         "Open"
        ],
        [
         "2016-07-28T04:27:34.000+0000",
         "Open"
        ],
        [
         "2016-07-28T04:27:35.000+0000",
         "Close"
        ],
        [
         "2016-07-28T04:27:36.000+0000",
         "Close"
        ],
        [
         "2016-07-28T04:27:36.000+0000",
         "Close"
        ],
        [
         "2016-07-28T04:27:41.000+0000",
         "Close"
        ],
        [
         "2016-07-28T04:27:42.000+0000",
         "Close"
        ],
        [
         "2016-07-28T04:27:44.000+0000",
         "Close"
        ],
        [
         "2016-07-28T04:27:45.000+0000",
         "Open"
        ],
        [
         "2016-07-28T04:27:45.000+0000",
         "Open"
        ],
        [
         "2016-07-28T04:27:55.000+0000",
         "Open"
        ],
        [
         "2016-07-28T04:27:58.000+0000",
         "Open"
        ],
        [
         "2016-07-28T04:28:03.000+0000",
         "Close"
        ],
        [
         "2016-07-28T04:28:04.000+0000",
         "Close"
        ],
        [
         "2016-07-28T04:28:04.000+0000",
         "Open"
        ],
        [
         "2016-07-28T04:28:05.000+0000",
         "Close"
        ],
        [
         "2016-07-28T04:28:09.000+0000",
         "Open"
        ],
        [
         "2016-07-28T04:28:11.000+0000",
         "Close"
        ],
        [
         "2016-07-28T04:28:11.000+0000",
         "Open"
        ],
        [
         "2016-07-28T04:28:12.000+0000",
         "Open"
        ],
        [
         "2016-07-28T04:28:15.000+0000",
         "Close"
        ],
        [
         "2016-07-28T04:28:15.000+0000",
         "Open"
        ],
        [
         "2016-07-28T04:28:15.000+0000",
         "Open"
        ],
        [
         "2016-07-28T04:28:18.000+0000",
         "Close"
        ],
        [
         "2016-07-28T04:28:19.000+0000",
         "Open"
        ],
        [
         "2016-07-28T04:28:20.000+0000",
         "Open"
        ],
        [
         "2016-07-28T04:28:28.000+0000",
         "Open"
        ],
        [
         "2016-07-28T04:28:31.000+0000",
         "Close"
        ],
        [
         "2016-07-28T04:28:31.000+0000",
         "Open"
        ],
        [
         "2016-07-28T04:28:32.000+0000",
         "Open"
        ],
        [
         "2016-07-28T04:28:33.000+0000",
         "Open"
        ],
        [
         "2016-07-28T04:28:37.000+0000",
         "Close"
        ],
        [
         "2016-07-28T04:28:40.000+0000",
         "Close"
        ],
        [
         "2016-07-28T04:28:40.000+0000",
         "Open"
        ],
        [
         "2016-07-28T04:28:42.000+0000",
         "Open"
        ],
        [
         "2016-07-28T04:28:47.000+0000",
         "Close"
        ],
        [
         "2016-07-28T04:28:50.000+0000",
         "Close"
        ],
        [
         "2016-07-28T04:28:50.000+0000",
         "Open"
        ],
        [
         "2016-07-28T04:28:55.000+0000",
         "Close"
        ],
        [
         "2016-07-28T04:28:56.000+0000",
         "Open"
        ],
        [
         "2016-07-28T04:28:58.000+0000",
         "Open"
        ],
        [
         "2016-07-28T04:28:59.000+0000",
         "Close"
        ],
        [
         "2016-07-28T04:29:02.000+0000",
         "Close"
        ],
        [
         "2016-07-28T04:29:02.000+0000",
         "Open"
        ],
        [
         "2016-07-28T04:29:03.000+0000",
         "Close"
        ],
        [
         "2016-07-28T04:29:03.000+0000",
         "Close"
        ],
        [
         "2016-07-28T04:29:10.000+0000",
         "Close"
        ],
        [
         "2016-07-28T04:29:10.000+0000",
         "Close"
        ],
        [
         "2016-07-28T04:29:10.000+0000",
         "Close"
        ],
        [
         "2016-07-28T04:29:12.000+0000",
         "Close"
        ],
        [
         "2016-07-28T04:29:14.000+0000",
         "Close"
        ],
        [
         "2016-07-28T04:29:15.000+0000",
         "Close"
        ],
        [
         "2016-07-28T04:29:16.000+0000",
         "Close"
        ],
        [
         "2016-07-28T04:29:17.000+0000",
         "Close"
        ],
        [
         "2016-07-28T04:29:20.000+0000",
         "Close"
        ],
        [
         "2016-07-28T04:29:22.000+0000",
         "Close"
        ],
        [
         "2016-07-28T04:29:23.000+0000",
         "Open"
        ],
        [
         "2016-07-28T04:29:28.000+0000",
         "Close"
        ],
        [
         "2016-07-28T04:29:31.000+0000",
         "Close"
        ],
        [
         "2016-07-28T04:29:31.000+0000",
         "Open"
        ],
        [
         "2016-07-28T04:29:31.000+0000",
         "Open"
        ],
        [
         "2016-07-28T04:29:33.000+0000",
         "Close"
        ],
        [
         "2016-07-28T04:29:35.000+0000",
         "Close"
        ],
        [
         "2016-07-28T04:29:39.000+0000",
         "Open"
        ],
        [
         "2016-07-28T04:29:41.000+0000",
         "Open"
        ],
        [
         "2016-07-28T04:29:42.000+0000",
         "Close"
        ],
        [
         "2016-07-28T04:29:43.000+0000",
         "Close"
        ],
        [
         "2016-07-28T04:29:46.000+0000",
         "Close"
        ],
        [
         "2016-07-28T04:29:49.000+0000",
         "Close"
        ],
        [
         "2016-07-28T04:29:49.000+0000",
         "Close"
        ],
        [
         "2016-07-28T04:29:50.000+0000",
         "Open"
        ],
        [
         "2016-07-28T04:29:54.000+0000",
         "Close"
        ],
        [
         "2016-07-28T04:29:54.000+0000",
         "Open"
        ],
        [
         "2016-07-28T04:29:57.000+0000",
         "Open"
        ],
        [
         "2016-07-28T04:29:57.000+0000",
         "Open"
        ],
        [
         "2016-07-28T04:29:58.000+0000",
         "Close"
        ],
        [
         "2016-07-28T04:29:59.000+0000",
         "Close"
        ],
        [
         "2016-07-28T04:29:59.000+0000",
         "Open"
        ],
        [
         "2016-07-28T04:30:00.000+0000",
         "Open"
        ],
        [
         "2016-07-28T04:30:05.000+0000",
         "Open"
        ],
        [
         "2016-07-28T04:30:06.000+0000",
         "Close"
        ],
        [
         "2016-07-28T04:30:06.000+0000",
         "Open"
        ],
        [
         "2016-07-28T04:30:07.000+0000",
         "Close"
        ],
        [
         "2016-07-28T04:30:07.000+0000",
         "Open"
        ],
        [
         "2016-07-28T04:30:08.000+0000",
         "Close"
        ],
        [
         "2016-07-28T04:30:09.000+0000",
         "Open"
        ],
        [
         "2016-07-28T04:30:11.000+0000",
         "Open"
        ],
        [
         "2016-07-28T04:30:13.000+0000",
         "Open"
        ],
        [
         "2016-07-28T04:30:14.000+0000",
         "Close"
        ],
        [
         "2016-07-28T04:30:14.000+0000",
         "Open"
        ],
        [
         "2016-07-28T04:30:15.000+0000",
         "Open"
        ],
        [
         "2016-07-28T04:30:17.000+0000",
         "Open"
        ],
        [
         "2016-07-28T04:30:20.000+0000",
         "Open"
        ],
        [
         "2016-07-28T04:30:21.000+0000",
         "Open"
        ],
        [
         "2016-07-28T04:30:22.000+0000",
         "Close"
        ],
        [
         "2016-07-28T04:30:22.000+0000",
         "Open"
        ],
        [
         "2016-07-28T04:30:24.000+0000",
         "Open"
        ],
        [
         "2016-07-28T04:30:27.000+0000",
         "Close"
        ],
        [
         "2016-07-28T04:30:28.000+0000",
         "Close"
        ],
        [
         "2016-07-28T04:30:32.000+0000",
         "Open"
        ],
        [
         "2016-07-28T04:30:38.000+0000",
         "Close"
        ],
        [
         "2016-07-28T04:30:42.000+0000",
         "Close"
        ],
        [
         "2016-07-28T04:30:43.000+0000",
         "Open"
        ],
        [
         "2016-07-28T04:30:46.000+0000",
         "Open"
        ],
        [
         "2016-07-28T04:30:47.000+0000",
         "Open"
        ],
        [
         "2016-07-28T04:30:48.000+0000",
         "Close"
        ],
        [
         "2016-07-28T04:30:53.000+0000",
         "Open"
        ],
        [
         "2016-07-28T04:30:54.000+0000",
         "Close"
        ],
        [
         "2016-07-28T04:30:56.000+0000",
         "Open"
        ],
        [
         "2016-07-28T04:30:56.000+0000",
         "Open"
        ],
        [
         "2016-07-28T04:30:57.000+0000",
         "Close"
        ],
        [
         "2016-07-28T04:30:57.000+0000",
         "Close"
        ],
        [
         "2016-07-28T04:31:00.000+0000",
         "Open"
        ],
        [
         "2016-07-28T04:31:02.000+0000",
         "Open"
        ],
        [
         "2016-07-28T04:31:03.000+0000",
         "Close"
        ],
        [
         "2016-07-28T04:31:03.000+0000",
         "Open"
        ],
        [
         "2016-07-28T04:31:05.000+0000",
         "Open"
        ],
        [
         "2016-07-28T04:31:06.000+0000",
         "Open"
        ],
        [
         "2016-07-28T04:31:09.000+0000",
         "Close"
        ],
        [
         "2016-07-28T04:31:11.000+0000",
         "Open"
        ],
        [
         "2016-07-28T04:31:15.000+0000",
         "Open"
        ],
        [
         "2016-07-28T04:31:19.000+0000",
         "Close"
        ],
        [
         "2016-07-28T04:31:21.000+0000",
         "Close"
        ],
        [
         "2016-07-28T04:31:23.000+0000",
         "Open"
        ],
        [
         "2016-07-28T04:31:26.000+0000",
         "Open"
        ],
        [
         "2016-07-28T04:31:30.000+0000",
         "Close"
        ],
        [
         "2016-07-28T04:31:31.000+0000",
         "Open"
        ],
        [
         "2016-07-28T04:31:37.000+0000",
         "Close"
        ],
        [
         "2016-07-28T04:31:38.000+0000",
         "Close"
        ],
        [
         "2016-07-28T04:31:39.000+0000",
         "Close"
        ],
        [
         "2016-07-28T04:31:39.000+0000",
         "Open"
        ],
        [
         "2016-07-28T04:31:40.000+0000",
         "Close"
        ],
        [
         "2016-07-28T04:31:40.000+0000",
         "Close"
        ],
        [
         "2016-07-28T04:31:40.000+0000",
         "Open"
        ],
        [
         "2016-07-28T04:31:42.000+0000",
         "Close"
        ],
        [
         "2016-07-28T04:31:42.000+0000",
         "Close"
        ],
        [
         "2016-07-28T04:31:43.000+0000",
         "Close"
        ],
        [
         "2016-07-28T04:31:45.000+0000",
         "Close"
        ],
        [
         "2016-07-28T04:31:45.000+0000",
         "Open"
        ],
        [
         "2016-07-28T04:31:49.000+0000",
         "Close"
        ],
        [
         "2016-07-28T04:31:49.000+0000",
         "Open"
        ],
        [
         "2016-07-28T04:31:53.000+0000",
         "Close"
        ],
        [
         "2016-07-28T04:31:53.000+0000",
         "Open"
        ],
        [
         "2016-07-28T04:32:00.000+0000",
         "Open"
        ],
        [
         "2016-07-28T04:32:01.000+0000",
         "Close"
        ],
        [
         "2016-07-28T04:32:02.000+0000",
         "Close"
        ],
        [
         "2016-07-28T04:32:06.000+0000",
         "Open"
        ],
        [
         "2016-07-28T04:32:07.000+0000",
         "Close"
        ],
        [
         "2016-07-28T04:32:08.000+0000",
         "Close"
        ],
        [
         "2016-07-28T04:32:08.000+0000",
         "Open"
        ],
        [
         "2016-07-28T04:32:11.000+0000",
         "Open"
        ],
        [
         "2016-07-28T04:32:11.000+0000",
         "Open"
        ],
        [
         "2016-07-28T04:32:13.000+0000",
         "Open"
        ],
        [
         "2016-07-28T04:32:14.000+0000",
         "Close"
        ],
        [
         "2016-07-28T04:32:15.000+0000",
         "Close"
        ],
        [
         "2016-07-28T04:32:15.000+0000",
         "Open"
        ],
        [
         "2016-07-28T04:32:16.000+0000",
         "Close"
        ],
        [
         "2016-07-28T04:32:16.000+0000",
         "Close"
        ],
        [
         "2016-07-28T04:32:22.000+0000",
         "Close"
        ],
        [
         "2016-07-28T04:32:22.000+0000",
         "Open"
        ],
        [
         "2016-07-28T04:32:25.000+0000",
         "Open"
        ],
        [
         "2016-07-28T04:32:26.000+0000",
         "Close"
        ],
        [
         "2016-07-28T04:32:26.000+0000",
         "Open"
        ],
        [
         "2016-07-28T04:32:26.000+0000",
         "Open"
        ],
        [
         "2016-07-28T04:32:28.000+0000",
         "Open"
        ],
        [
         "2016-07-28T04:32:30.000+0000",
         "Close"
        ],
        [
         "2016-07-28T04:32:34.000+0000",
         "Open"
        ],
        [
         "2016-07-28T04:32:41.000+0000",
         "Close"
        ],
        [
         "2016-07-28T04:32:44.000+0000",
         "Open"
        ],
        [
         "2016-07-28T04:32:45.000+0000",
         "Open"
        ],
        [
         "2016-07-28T04:32:46.000+0000",
         "Open"
        ],
        [
         "2016-07-28T04:32:47.000+0000",
         "Open"
        ],
        [
         "2016-07-28T04:32:49.000+0000",
         "Close"
        ],
        [
         "2016-07-28T04:32:50.000+0000",
         "Open"
        ],
        [
         "2016-07-28T04:32:52.000+0000",
         "Close"
        ],
        [
         "2016-07-28T04:32:55.000+0000",
         "Open"
        ],
        [
         "2016-07-28T04:32:56.000+0000",
         "Open"
        ],
        [
         "2016-07-28T04:32:57.000+0000",
         "Open"
        ],
        [
         "2016-07-28T04:32:59.000+0000",
         "Close"
        ],
        [
         "2016-07-28T04:32:59.000+0000",
         "Open"
        ],
        [
         "2016-07-28T04:33:00.000+0000",
         "Close"
        ],
        [
         "2016-07-28T04:33:01.000+0000",
         "Close"
        ],
        [
         "2016-07-28T04:33:02.000+0000",
         "Close"
        ],
        [
         "2016-07-28T04:33:02.000+0000",
         "Open"
        ],
        [
         "2016-07-28T04:33:07.000+0000",
         "Close"
        ],
        [
         "2016-07-28T04:33:07.000+0000",
         "Close"
        ],
        [
         "2016-07-28T04:33:07.000+0000",
         "Open"
        ],
        [
         "2016-07-28T04:33:07.000+0000",
         "Open"
        ],
        [
         "2016-07-28T04:33:08.000+0000",
         "Open"
        ],
        [
         "2016-07-28T04:33:09.000+0000",
         "Open"
        ],
        [
         "2016-07-28T04:33:11.000+0000",
         "Close"
        ],
        [
         "2016-07-28T04:33:11.000+0000",
         "Open"
        ],
        [
         "2016-07-28T04:33:13.000+0000",
         "Close"
        ],
        [
         "2016-07-28T04:33:13.000+0000",
         "Close"
        ],
        [
         "2016-07-28T04:33:14.000+0000",
         "Close"
        ],
        [
         "2016-07-28T04:33:19.000+0000",
         "Open"
        ],
        [
         "2016-07-28T04:33:19.000+0000",
         "Open"
        ],
        [
         "2016-07-28T04:33:23.000+0000",
         "Close"
        ],
        [
         "2016-07-28T04:33:25.000+0000",
         "Close"
        ],
        [
         "2016-07-28T04:33:26.000+0000",
         "Close"
        ],
        [
         "2016-07-28T04:33:28.000+0000",
         "Open"
        ],
        [
         "2016-07-28T04:33:29.000+0000",
         "Open"
        ],
        [
         "2016-07-28T04:33:31.000+0000",
         "Close"
        ],
        [
         "2016-07-28T04:33:32.000+0000",
         "Open"
        ],
        [
         "2016-07-28T04:33:34.000+0000",
         "Open"
        ],
        [
         "2016-07-28T04:33:37.000+0000",
         "Close"
        ],
        [
         "2016-07-28T04:33:39.000+0000",
         "Open"
        ],
        [
         "2016-07-28T04:33:40.000+0000",
         "Open"
        ],
        [
         "2016-07-28T04:33:41.000+0000",
         "Open"
        ],
        [
         "2016-07-28T04:33:42.000+0000",
         "Open"
        ],
        [
         "2016-07-28T04:33:45.000+0000",
         "Open"
        ],
        [
         "2016-07-28T04:33:50.000+0000",
         "Open"
        ],
        [
         "2016-07-28T04:34:00.000+0000",
         "Close"
        ],
        [
         "2016-07-28T04:34:05.000+0000",
         "Close"
        ],
        [
         "2016-07-28T04:34:05.000+0000",
         "Open"
        ],
        [
         "2016-07-28T04:34:06.000+0000",
         "Close"
        ],
        [
         "2016-07-28T04:34:08.000+0000",
         "Open"
        ],
        [
         "2016-07-28T04:34:14.000+0000",
         "Open"
        ],
        [
         "2016-07-28T04:34:15.000+0000",
         "Close"
        ],
        [
         "2016-07-28T04:34:17.000+0000",
         "Close"
        ],
        [
         "2016-07-28T04:34:18.000+0000",
         "Close"
        ],
        [
         "2016-07-28T04:34:19.000+0000",
         "Close"
        ],
        [
         "2016-07-28T04:34:20.000+0000",
         "Open"
        ],
        [
         "2016-07-28T04:34:21.000+0000",
         "Close"
        ],
        [
         "2016-07-28T04:34:21.000+0000",
         "Close"
        ],
        [
         "2016-07-28T04:34:28.000+0000",
         "Close"
        ],
        [
         "2016-07-28T04:34:28.000+0000",
         "Close"
        ],
        [
         "2016-07-28T04:34:29.000+0000",
         "Close"
        ],
        [
         "2016-07-28T04:34:29.000+0000",
         "Open"
        ],
        [
         "2016-07-28T04:34:41.000+0000",
         "Open"
        ],
        [
         "2016-07-28T04:34:44.000+0000",
         "Open"
        ],
        [
         "2016-07-28T04:34:46.000+0000",
         "Open"
        ],
        [
         "2016-07-28T04:34:48.000+0000",
         "Close"
        ],
        [
         "2016-07-28T04:34:49.000+0000",
         "Open"
        ],
        [
         "2016-07-28T04:34:51.000+0000",
         "Open"
        ],
        [
         "2016-07-28T04:34:54.000+0000",
         "Close"
        ],
        [
         "2016-07-28T04:34:55.000+0000",
         "Open"
        ],
        [
         "2016-07-28T04:34:56.000+0000",
         "Close"
        ],
        [
         "2016-07-28T04:35:00.000+0000",
         "Open"
        ],
        [
         "2016-07-28T04:35:04.000+0000",
         "Open"
        ],
        [
         "2016-07-28T04:35:07.000+0000",
         "Close"
        ],
        [
         "2016-07-28T04:35:08.000+0000",
         "Open"
        ],
        [
         "2016-07-28T04:35:09.000+0000",
         "Close"
        ],
        [
         "2016-07-28T04:35:15.000+0000",
         "Close"
        ],
        [
         "2016-07-28T04:35:16.000+0000",
         "Open"
        ],
        [
         "2016-07-28T04:35:19.000+0000",
         "Close"
        ],
        [
         "2016-07-28T04:35:20.000+0000",
         "Open"
        ],
        [
         "2016-07-28T04:35:22.000+0000",
         "Open"
        ],
        [
         "2016-07-28T04:35:26.000+0000",
         "Open"
        ],
        [
         "2016-07-28T04:35:28.000+0000",
         "Open"
        ],
        [
         "2016-07-28T04:35:31.000+0000",
         "Close"
        ],
        [
         "2016-07-28T04:35:31.000+0000",
         "Close"
        ],
        [
         "2016-07-28T04:35:31.000+0000",
         "Open"
        ],
        [
         "2016-07-28T04:35:36.000+0000",
         "Open"
        ],
        [
         "2016-07-28T04:35:36.000+0000",
         "Open"
        ],
        [
         "2016-07-28T04:35:37.000+0000",
         "Open"
        ],
        [
         "2016-07-28T04:35:38.000+0000",
         "Close"
        ],
        [
         "2016-07-28T04:35:39.000+0000",
         "Close"
        ],
        [
         "2016-07-28T04:35:45.000+0000",
         "Open"
        ],
        [
         "2016-07-28T04:35:51.000+0000",
         "Close"
        ],
        [
         "2016-07-28T04:35:55.000+0000",
         "Open"
        ],
        [
         "2016-07-28T04:35:59.000+0000",
         "Open"
        ],
        [
         "2016-07-28T04:36:00.000+0000",
         "Close"
        ],
        [
         "2016-07-28T04:36:00.000+0000",
         "Open"
        ],
        [
         "2016-07-28T04:36:02.000+0000",
         "Close"
        ],
        [
         "2016-07-28T04:36:03.000+0000",
         "Close"
        ],
        [
         "2016-07-28T04:36:05.000+0000",
         "Close"
        ],
        [
         "2016-07-28T04:36:05.000+0000",
         "Open"
        ],
        [
         "2016-07-28T04:36:14.000+0000",
         "Open"
        ],
        [
         "2016-07-28T04:36:15.000+0000",
         "Open"
        ],
        [
         "2016-07-28T04:36:16.000+0000",
         "Open"
        ],
        [
         "2016-07-28T04:36:17.000+0000",
         "Open"
        ],
        [
         "2016-07-28T04:36:18.000+0000",
         "Open"
        ],
        [
         "2016-07-28T04:36:23.000+0000",
         "Close"
        ],
        [
         "2016-07-28T04:36:23.000+0000",
         "Open"
        ],
        [
         "2016-07-28T04:36:25.000+0000",
         "Open"
        ],
        [
         "2016-07-28T04:36:29.000+0000",
         "Close"
        ],
        [
         "2016-07-28T04:36:29.000+0000",
         "Open"
        ],
        [
         "2016-07-28T04:36:32.000+0000",
         "Close"
        ],
        [
         "2016-07-28T04:36:33.000+0000",
         "Open"
        ],
        [
         "2016-07-28T04:36:34.000+0000",
         "Open"
        ],
        [
         "2016-07-28T04:36:36.000+0000",
         "Close"
        ],
        [
         "2016-07-28T04:36:36.000+0000",
         "Open"
        ],
        [
         "2016-07-28T04:36:36.000+0000",
         "Open"
        ],
        [
         "2016-07-28T04:36:50.000+0000",
         "Open"
        ],
        [
         "2016-07-28T04:36:50.000+0000",
         "Open"
        ],
        [
         "2016-07-28T04:36:51.000+0000",
         "Close"
        ],
        [
         "2016-07-28T04:36:51.000+0000",
         "Open"
        ],
        [
         "2016-07-28T04:36:53.000+0000",
         "Open"
        ],
        [
         "2016-07-28T04:36:58.000+0000",
         "Close"
        ],
        [
         "2016-07-28T04:37:00.000+0000",
         "Open"
        ],
        [
         "2016-07-28T04:37:01.000+0000",
         "Open"
        ],
        [
         "2016-07-28T04:37:04.000+0000",
         "Close"
        ],
        [
         "2016-07-28T04:37:04.000+0000",
         "Open"
        ],
        [
         "2016-07-28T04:37:06.000+0000",
         "Open"
        ],
        [
         "2016-07-28T04:37:09.000+0000",
         "Close"
        ],
        [
         "2016-07-28T04:37:09.000+0000",
         "Open"
        ],
        [
         "2016-07-28T04:37:11.000+0000",
         "Close"
        ],
        [
         "2016-07-28T04:37:11.000+0000",
         "Close"
        ],
        [
         "2016-07-28T04:37:12.000+0000",
         "Open"
        ],
        [
         "2016-07-28T04:37:16.000+0000",
         "Close"
        ],
        [
         "2016-07-28T04:37:18.000+0000",
         "Close"
        ],
        [
         "2016-07-28T04:37:18.000+0000",
         "Open"
        ],
        [
         "2016-07-28T04:37:19.000+0000",
         "Open"
        ],
        [
         "2016-07-28T04:37:22.000+0000",
         "Close"
        ],
        [
         "2016-07-28T04:37:22.000+0000",
         "Open"
        ],
        [
         "2016-07-28T04:37:24.000+0000",
         "Close"
        ],
        [
         "2016-07-28T04:37:27.000+0000",
         "Close"
        ],
        [
         "2016-07-28T04:37:28.000+0000",
         "Open"
        ],
        [
         "2016-07-28T04:37:32.000+0000",
         "Open"
        ],
        [
         "2016-07-28T04:37:33.000+0000",
         "Close"
        ],
        [
         "2016-07-28T04:37:34.000+0000",
         "Open"
        ],
        [
         "2016-07-28T04:37:34.000+0000",
         "Open"
        ],
        [
         "2016-07-28T04:37:38.000+0000",
         "Close"
        ],
        [
         "2016-07-28T04:37:38.000+0000",
         "Open"
        ],
        [
         "2016-07-28T04:37:41.000+0000",
         "Close"
        ],
        [
         "2016-07-28T04:37:42.000+0000",
         "Close"
        ],
        [
         "2016-07-28T04:37:42.000+0000",
         "Close"
        ],
        [
         "2016-07-28T04:37:42.000+0000",
         "Close"
        ],
        [
         "2016-07-28T04:37:43.000+0000",
         "Open"
        ],
        [
         "2016-07-28T04:37:43.000+0000",
         "Open"
        ],
        [
         "2016-07-28T04:37:44.000+0000",
         "Close"
        ],
        [
         "2016-07-28T04:37:44.000+0000",
         "Close"
        ],
        [
         "2016-07-28T04:37:44.000+0000",
         "Open"
        ],
        [
         "2016-07-28T04:37:47.000+0000",
         "Close"
        ],
        [
         "2016-07-28T04:37:47.000+0000",
         "Close"
        ],
        [
         "2016-07-28T04:37:50.000+0000",
         "Open"
        ],
        [
         "2016-07-28T04:37:54.000+0000",
         "Close"
        ],
        [
         "2016-07-28T04:37:54.000+0000",
         "Open"
        ],
        [
         "2016-07-28T04:37:55.000+0000",
         "Open"
        ],
        [
         "2016-07-28T04:37:56.000+0000",
         "Open"
        ],
        [
         "2016-07-28T04:37:57.000+0000",
         "Close"
        ],
        [
         "2016-07-28T04:37:58.000+0000",
         "Close"
        ],
        [
         "2016-07-28T04:38:04.000+0000",
         "Open"
        ],
        [
         "2016-07-28T04:38:05.000+0000",
         "Close"
        ],
        [
         "2016-07-28T04:38:06.000+0000",
         "Open"
        ],
        [
         "2016-07-28T04:38:07.000+0000",
         "Close"
        ],
        [
         "2016-07-28T04:38:07.000+0000",
         "Open"
        ],
        [
         "2016-07-28T04:38:08.000+0000",
         "Close"
        ],
        [
         "2016-07-28T04:38:11.000+0000",
         "Open"
        ],
        [
         "2016-07-28T04:38:15.000+0000",
         "Close"
        ],
        [
         "2016-07-28T04:38:18.000+0000",
         "Close"
        ],
        [
         "2016-07-28T04:38:19.000+0000",
         "Open"
        ],
        [
         "2016-07-28T04:38:23.000+0000",
         "Open"
        ],
        [
         "2016-07-28T04:38:28.000+0000",
         "Close"
        ],
        [
         "2016-07-28T04:38:28.000+0000",
         "Open"
        ],
        [
         "2016-07-28T04:38:29.000+0000",
         "Close"
        ],
        [
         "2016-07-28T04:38:29.000+0000",
         "Close"
        ],
        [
         "2016-07-28T04:38:31.000+0000",
         "Open"
        ],
        [
         "2016-07-28T04:38:32.000+0000",
         "Open"
        ],
        [
         "2016-07-28T04:38:33.000+0000",
         "Open"
        ],
        [
         "2016-07-28T04:38:34.000+0000",
         "Open"
        ],
        [
         "2016-07-28T04:38:37.000+0000",
         "Open"
        ],
        [
         "2016-07-28T04:38:43.000+0000",
         "Open"
        ],
        [
         "2016-07-28T04:38:47.000+0000",
         "Close"
        ],
        [
         "2016-07-28T04:38:50.000+0000",
         "Close"
        ],
        [
         "2016-07-28T04:38:53.000+0000",
         "Close"
        ],
        [
         "2016-07-28T04:38:53.000+0000",
         "Open"
        ],
        [
         "2016-07-28T04:38:54.000+0000",
         "Close"
        ],
        [
         "2016-07-28T04:38:56.000+0000",
         "Close"
        ],
        [
         "2016-07-28T04:38:57.000+0000",
         "Close"
        ],
        [
         "2016-07-28T04:38:59.000+0000",
         "Open"
        ],
        [
         "2016-07-28T04:39:01.000+0000",
         "Close"
        ],
        [
         "2016-07-28T04:39:02.000+0000",
         "Close"
        ],
        [
         "2016-07-28T04:39:02.000+0000",
         "Close"
        ],
        [
         "2016-07-28T04:39:03.000+0000",
         "Open"
        ],
        [
         "2016-07-28T04:39:05.000+0000",
         "Close"
        ],
        [
         "2016-07-28T04:39:09.000+0000",
         "Open"
        ],
        [
         "2016-07-28T04:39:10.000+0000",
         "Open"
        ],
        [
         "2016-07-28T04:39:11.000+0000",
         "Close"
        ],
        [
         "2016-07-28T04:39:12.000+0000",
         "Close"
        ],
        [
         "2016-07-28T04:39:12.000+0000",
         "Open"
        ],
        [
         "2016-07-28T04:39:14.000+0000",
         "Close"
        ],
        [
         "2016-07-28T04:39:15.000+0000",
         "Close"
        ],
        [
         "2016-07-28T04:39:15.000+0000",
         "Close"
        ],
        [
         "2016-07-28T04:39:17.000+0000",
         "Open"
        ],
        [
         "2016-07-28T04:39:19.000+0000",
         "Close"
        ],
        [
         "2016-07-28T04:39:19.000+0000",
         "Close"
        ],
        [
         "2016-07-28T04:39:21.000+0000",
         "Close"
        ],
        [
         "2016-07-28T04:39:25.000+0000",
         "Close"
        ],
        [
         "2016-07-28T04:39:25.000+0000",
         "Open"
        ],
        [
         "2016-07-28T04:39:26.000+0000",
         "Close"
        ],
        [
         "2016-07-28T04:39:26.000+0000",
         "Close"
        ],
        [
         "2016-07-28T04:39:27.000+0000",
         "Close"
        ],
        [
         "2016-07-28T04:39:28.000+0000",
         "Open"
        ],
        [
         "2016-07-28T04:39:28.000+0000",
         "Open"
        ],
        [
         "2016-07-28T04:39:28.000+0000",
         "Open"
        ],
        [
         "2016-07-28T04:39:31.000+0000",
         "Close"
        ],
        [
         "2016-07-28T04:39:33.000+0000",
         "Open"
        ],
        [
         "2016-07-28T04:39:33.000+0000",
         "Open"
        ],
        [
         "2016-07-28T04:39:38.000+0000",
         "Open"
        ],
        [
         "2016-07-28T04:39:38.000+0000",
         "Open"
        ],
        [
         "2016-07-28T04:39:41.000+0000",
         "Open"
        ],
        [
         "2016-07-28T04:39:41.000+0000",
         "Open"
        ],
        [
         "2016-07-28T04:39:46.000+0000",
         "Close"
        ],
        [
         "2016-07-28T04:39:48.000+0000",
         "Close"
        ],
        [
         "2016-07-28T04:39:51.000+0000",
         "Close"
        ],
        [
         "2016-07-28T04:39:54.000+0000",
         "Open"
        ],
        [
         "2016-07-28T04:39:58.000+0000",
         "Close"
        ],
        [
         "2016-07-28T04:40:03.000+0000",
         "Open"
        ],
        [
         "2016-07-28T04:40:07.000+0000",
         "Close"
        ],
        [
         "2016-07-28T04:40:07.000+0000",
         "Close"
        ],
        [
         "2016-07-28T04:40:07.000+0000",
         "Close"
        ],
        [
         "2016-07-28T04:40:09.000+0000",
         "Close"
        ],
        [
         "2016-07-28T04:40:09.000+0000",
         "Open"
        ],
        [
         "2016-07-28T04:40:11.000+0000",
         "Close"
        ],
        [
         "2016-07-28T04:40:11.000+0000",
         "Close"
        ],
        [
         "2016-07-28T04:40:12.000+0000",
         "Open"
        ],
        [
         "2016-07-28T04:40:12.000+0000",
         "Open"
        ],
        [
         "2016-07-28T04:40:13.000+0000",
         "Open"
        ],
        [
         "2016-07-28T04:40:19.000+0000",
         "Close"
        ],
        [
         "2016-07-28T04:40:22.000+0000",
         "Open"
        ],
        [
         "2016-07-28T04:40:23.000+0000",
         "Close"
        ],
        [
         "2016-07-28T04:40:24.000+0000",
         "Open"
        ],
        [
         "2016-07-28T04:40:25.000+0000",
         "Open"
        ],
        [
         "2016-07-28T04:40:28.000+0000",
         "Close"
        ],
        [
         "2016-07-28T04:40:30.000+0000",
         "Open"
        ],
        [
         "2016-07-28T04:40:36.000+0000",
         "Close"
        ],
        [
         "2016-07-28T04:40:43.000+0000",
         "Close"
        ],
        [
         "2016-07-28T04:40:44.000+0000",
         "Open"
        ],
        [
         "2016-07-28T04:40:46.000+0000",
         "Close"
        ],
        [
         "2016-07-28T04:40:46.000+0000",
         "Close"
        ],
        [
         "2016-07-28T04:40:48.000+0000",
         "Close"
        ],
        [
         "2016-07-28T04:40:50.000+0000",
         "Open"
        ],
        [
         "2016-07-28T04:40:51.000+0000",
         "Open"
        ],
        [
         "2016-07-28T04:40:51.000+0000",
         "Open"
        ],
        [
         "2016-07-28T04:40:52.000+0000",
         "Close"
        ],
        [
         "2016-07-28T04:40:54.000+0000",
         "Open"
        ],
        [
         "2016-07-28T04:40:55.000+0000",
         "Close"
        ],
        [
         "2016-07-28T04:40:57.000+0000",
         "Close"
        ],
        [
         "2016-07-28T04:40:57.000+0000",
         "Close"
        ],
        [
         "2016-07-28T04:40:59.000+0000",
         "Open"
        ],
        [
         "2016-07-28T04:41:01.000+0000",
         "Open"
        ],
        [
         "2016-07-28T04:41:07.000+0000",
         "Open"
        ],
        [
         "2016-07-28T04:41:11.000+0000",
         "Close"
        ],
        [
         "2016-07-28T04:41:11.000+0000",
         "Open"
        ],
        [
         "2016-07-28T04:41:12.000+0000",
         "Open"
        ],
        [
         "2016-07-28T04:41:14.000+0000",
         "Close"
        ],
        [
         "2016-07-28T04:41:15.000+0000",
         "Open"
        ],
        [
         "2016-07-28T04:41:17.000+0000",
         "Close"
        ],
        [
         "2016-07-28T04:41:17.000+0000",
         "Close"
        ],
        [
         "2016-07-28T04:41:18.000+0000",
         "Open"
        ],
        [
         "2016-07-28T04:41:19.000+0000",
         "Open"
        ],
        [
         "2016-07-28T04:41:20.000+0000",
         "Close"
        ],
        [
         "2016-07-28T04:41:21.000+0000",
         "Close"
        ],
        [
         "2016-07-28T04:41:24.000+0000",
         "Close"
        ],
        [
         "2016-07-28T04:41:25.000+0000",
         "Open"
        ],
        [
         "2016-07-28T04:41:26.000+0000",
         "Close"
        ],
        [
         "2016-07-28T04:41:26.000+0000",
         "Open"
        ],
        [
         "2016-07-28T04:41:29.000+0000",
         "Close"
        ],
        [
         "2016-07-28T04:41:29.000+0000",
         "Open"
        ],
        [
         "2016-07-28T04:41:35.000+0000",
         "Close"
        ],
        [
         "2016-07-28T04:41:36.000+0000",
         "Close"
        ],
        [
         "2016-07-28T04:41:37.000+0000",
         "Close"
        ],
        [
         "2016-07-28T04:41:38.000+0000",
         "Open"
        ],
        [
         "2016-07-28T04:41:40.000+0000",
         "Close"
        ],
        [
         "2016-07-28T04:41:40.000+0000",
         "Close"
        ],
        [
         "2016-07-28T04:41:41.000+0000",
         "Open"
        ],
        [
         "2016-07-28T04:41:43.000+0000",
         "Close"
        ],
        [
         "2016-07-28T04:41:44.000+0000",
         "Open"
        ],
        [
         "2016-07-28T04:41:48.000+0000",
         "Open"
        ],
        [
         "2016-07-28T04:41:50.000+0000",
         "Open"
        ],
        [
         "2016-07-28T04:41:50.000+0000",
         "Open"
        ],
        [
         "2016-07-28T04:41:51.000+0000",
         "Open"
        ],
        [
         "2016-07-28T04:41:52.000+0000",
         "Close"
        ],
        [
         "2016-07-28T04:41:52.000+0000",
         "Open"
        ],
        [
         "2016-07-28T04:41:54.000+0000",
         "Open"
        ],
        [
         "2016-07-28T04:42:01.000+0000",
         "Close"
        ],
        [
         "2016-07-28T04:42:05.000+0000",
         "Close"
        ],
        [
         "2016-07-28T04:42:07.000+0000",
         "Open"
        ],
        [
         "2016-07-28T04:42:10.000+0000",
         "Close"
        ],
        [
         "2016-07-28T04:42:11.000+0000",
         "Open"
        ],
        [
         "2016-07-28T04:42:11.000+0000",
         "Open"
        ],
        [
         "2016-07-28T04:42:19.000+0000",
         "Open"
        ],
        [
         "2016-07-28T04:42:21.000+0000",
         "Open"
        ],
        [
         "2016-07-28T04:42:23.000+0000",
         "Close"
        ],
        [
         "2016-07-28T04:42:23.000+0000",
         "Close"
        ],
        [
         "2016-07-28T04:42:23.000+0000",
         "Close"
        ],
        [
         "2016-07-28T04:42:23.000+0000",
         "Open"
        ],
        [
         "2016-07-28T04:42:25.000+0000",
         "Close"
        ],
        [
         "2016-07-28T04:42:27.000+0000",
         "Close"
        ],
        [
         "2016-07-28T04:42:30.000+0000",
         "Open"
        ],
        [
         "2016-07-28T04:42:31.000+0000",
         "Open"
        ],
        [
         "2016-07-28T04:42:33.000+0000",
         "Close"
        ],
        [
         "2016-07-28T04:42:34.000+0000",
         "Close"
        ],
        [
         "2016-07-28T04:42:35.000+0000",
         "Close"
        ],
        [
         "2016-07-28T04:42:38.000+0000",
         "Close"
        ],
        [
         "2016-07-28T04:42:38.000+0000",
         "Open"
        ],
        [
         "2016-07-28T04:42:44.000+0000",
         "Close"
        ],
        [
         "2016-07-28T04:42:44.000+0000",
         "Close"
        ],
        [
         "2016-07-28T04:42:44.000+0000",
         "Open"
        ],
        [
         "2016-07-28T04:42:44.000+0000",
         "Open"
        ],
        [
         "2016-07-28T04:42:48.000+0000",
         "Close"
        ],
        [
         "2016-07-28T04:42:49.000+0000",
         "Open"
        ],
        [
         "2016-07-28T04:42:49.000+0000",
         "Open"
        ],
        [
         "2016-07-28T04:42:49.000+0000",
         "Open"
        ],
        [
         "2016-07-28T04:42:50.000+0000",
         "Open"
        ],
        [
         "2016-07-28T04:42:52.000+0000",
         "Open"
        ],
        [
         "2016-07-28T04:42:53.000+0000",
         "Open"
        ],
        [
         "2016-07-28T04:42:54.000+0000",
         "Close"
        ],
        [
         "2016-07-28T04:42:55.000+0000",
         "Open"
        ],
        [
         "2016-07-28T04:42:56.000+0000",
         "Close"
        ],
        [
         "2016-07-28T04:42:57.000+0000",
         "Close"
        ],
        [
         "2016-07-28T04:43:03.000+0000",
         "Open"
        ],
        [
         "2016-07-28T04:43:05.000+0000",
         "Close"
        ],
        [
         "2016-07-28T04:43:07.000+0000",
         "Open"
        ],
        [
         "2016-07-28T04:43:09.000+0000",
         "Close"
        ],
        [
         "2016-07-28T04:43:11.000+0000",
         "Close"
        ],
        [
         "2016-07-28T04:43:12.000+0000",
         "Open"
        ],
        [
         "2016-07-28T04:43:14.000+0000",
         "Open"
        ],
        [
         "2016-07-28T04:43:15.000+0000",
         "Close"
        ],
        [
         "2016-07-28T04:43:15.000+0000",
         "Open"
        ],
        [
         "2016-07-28T04:43:18.000+0000",
         "Close"
        ],
        [
         "2016-07-28T04:43:21.000+0000",
         "Open"
        ],
        [
         "2016-07-28T04:43:25.000+0000",
         "Close"
        ],
        [
         "2016-07-28T04:43:26.000+0000",
         "Open"
        ],
        [
         "2016-07-28T04:43:31.000+0000",
         "Close"
        ],
        [
         "2016-07-28T04:43:33.000+0000",
         "Open"
        ],
        [
         "2016-07-28T04:43:38.000+0000",
         "Open"
        ],
        [
         "2016-07-28T04:43:39.000+0000",
         "Open"
        ],
        [
         "2016-07-28T04:43:41.000+0000",
         "Close"
        ],
        [
         "2016-07-28T04:43:43.000+0000",
         "Open"
        ],
        [
         "2016-07-28T04:43:43.000+0000",
         "Open"
        ],
        [
         "2016-07-28T04:43:45.000+0000",
         "Open"
        ],
        [
         "2016-07-28T04:43:46.000+0000",
         "Close"
        ],
        [
         "2016-07-28T04:43:46.000+0000",
         "Open"
        ],
        [
         "2016-07-28T04:43:47.000+0000",
         "Close"
        ],
        [
         "2016-07-28T04:43:49.000+0000",
         "Open"
        ],
        [
         "2016-07-28T04:43:50.000+0000",
         "Open"
        ],
        [
         "2016-07-28T04:43:52.000+0000",
         "Open"
        ],
        [
         "2016-07-28T04:43:59.000+0000",
         "Open"
        ],
        [
         "2016-07-28T04:44:00.000+0000",
         "Close"
        ],
        [
         "2016-07-28T04:44:05.000+0000",
         "Close"
        ],
        [
         "2016-07-28T04:44:06.000+0000",
         "Close"
        ],
        [
         "2016-07-28T04:44:12.000+0000",
         "Close"
        ],
        [
         "2016-07-28T04:44:14.000+0000",
         "Open"
        ],
        [
         "2016-07-28T04:44:15.000+0000",
         "Close"
        ],
        [
         "2016-07-28T04:44:16.000+0000",
         "Open"
        ],
        [
         "2016-07-28T04:44:19.000+0000",
         "Close"
        ],
        [
         "2016-07-28T04:44:20.000+0000",
         "Open"
        ],
        [
         "2016-07-28T04:44:22.000+0000",
         "Open"
        ],
        [
         "2016-07-28T04:44:23.000+0000",
         "Open"
        ],
        [
         "2016-07-28T04:44:30.000+0000",
         "Open"
        ],
        [
         "2016-07-28T04:44:30.000+0000",
         "Open"
        ],
        [
         "2016-07-28T04:44:31.000+0000",
         "Close"
        ],
        [
         "2016-07-28T04:44:32.000+0000",
         "Close"
        ],
        [
         "2016-07-28T04:44:34.000+0000",
         "Open"
        ],
        [
         "2016-07-28T04:44:36.000+0000",
         "Close"
        ],
        [
         "2016-07-28T04:44:36.000+0000",
         "Open"
        ],
        [
         "2016-07-28T04:44:38.000+0000",
         "Open"
        ],
        [
         "2016-07-28T04:44:42.000+0000",
         "Close"
        ],
        [
         "2016-07-28T04:44:47.000+0000",
         "Close"
        ],
        [
         "2016-07-28T04:44:48.000+0000",
         "Close"
        ],
        [
         "2016-07-28T04:44:51.000+0000",
         "Open"
        ],
        [
         "2016-07-28T04:44:52.000+0000",
         "Open"
        ],
        [
         "2016-07-28T04:44:53.000+0000",
         "Close"
        ],
        [
         "2016-07-28T04:44:54.000+0000",
         "Open"
        ],
        [
         "2016-07-28T04:44:57.000+0000",
         "Close"
        ],
        [
         "2016-07-28T04:45:03.000+0000",
         "Open"
        ],
        [
         "2016-07-28T04:45:04.000+0000",
         "Open"
        ],
        [
         "2016-07-28T04:45:09.000+0000",
         "Open"
        ],
        [
         "2016-07-28T04:45:10.000+0000",
         "Open"
        ],
        [
         "2016-07-28T04:45:18.000+0000",
         "Close"
        ],
        [
         "2016-07-28T04:45:18.000+0000",
         "Open"
        ],
        [
         "2016-07-28T04:45:18.000+0000",
         "Open"
        ],
        [
         "2016-07-28T04:45:19.000+0000",
         "Close"
        ],
        [
         "2016-07-28T04:45:20.000+0000",
         "Open"
        ],
        [
         "2016-07-28T04:45:21.000+0000",
         "Open"
        ],
        [
         "2016-07-28T04:45:22.000+0000",
         "Close"
        ],
        [
         "2016-07-28T04:45:22.000+0000",
         "Close"
        ],
        [
         "2016-07-28T04:45:31.000+0000",
         "Close"
        ],
        [
         "2016-07-28T04:45:32.000+0000",
         "Open"
        ],
        [
         "2016-07-28T04:45:38.000+0000",
         "Open"
        ],
        [
         "2016-07-28T04:45:39.000+0000",
         "Open"
        ],
        [
         "2016-07-28T04:45:41.000+0000",
         "Close"
        ],
        [
         "2016-07-28T04:45:41.000+0000",
         "Open"
        ],
        [
         "2016-07-28T04:45:44.000+0000",
         "Close"
        ],
        [
         "2016-07-28T04:45:46.000+0000",
         "Close"
        ],
        [
         "2016-07-28T04:45:46.000+0000",
         "Open"
        ],
        [
         "2016-07-28T04:45:52.000+0000",
         "Open"
        ],
        [
         "2016-07-28T04:46:01.000+0000",
         "Close"
        ],
        [
         "2016-07-28T04:46:01.000+0000",
         "Close"
        ],
        [
         "2016-07-28T04:46:01.000+0000",
         "Open"
        ],
        [
         "2016-07-28T04:46:11.000+0000",
         "Close"
        ],
        [
         "2016-07-28T04:46:11.000+0000",
         "Close"
        ],
        [
         "2016-07-28T04:46:15.000+0000",
         "Open"
        ],
        [
         "2016-07-28T04:46:18.000+0000",
         "Close"
        ],
        [
         "2016-07-28T04:46:18.000+0000",
         "Close"
        ],
        [
         "2016-07-28T04:46:24.000+0000",
         "Open"
        ],
        [
         "2016-07-28T04:46:27.000+0000",
         "Close"
        ],
        [
         "2016-07-28T04:46:27.000+0000",
         "Close"
        ],
        [
         "2016-07-28T04:46:30.000+0000",
         "Open"
        ],
        [
         "2016-07-28T04:46:31.000+0000",
         "Open"
        ],
        [
         "2016-07-28T04:46:31.000+0000",
         "Open"
        ],
        [
         "2016-07-28T04:46:33.000+0000",
         "Open"
        ],
        [
         "2016-07-28T04:46:34.000+0000",
         "Close"
        ],
        [
         "2016-07-28T04:46:35.000+0000",
         "Open"
        ],
        [
         "2016-07-28T04:46:37.000+0000",
         "Close"
        ],
        [
         "2016-07-28T04:46:37.000+0000",
         "Close"
        ],
        [
         "2016-07-28T04:46:37.000+0000",
         "Close"
        ],
        [
         "2016-07-28T04:46:39.000+0000",
         "Close"
        ],
        [
         "2016-07-28T04:46:41.000+0000",
         "Open"
        ],
        [
         "2016-07-28T04:46:45.000+0000",
         "Close"
        ],
        [
         "2016-07-28T04:46:48.000+0000",
         "Close"
        ],
        [
         "2016-07-28T04:46:48.000+0000",
         "Open"
        ],
        [
         "2016-07-28T04:46:49.000+0000",
         "Close"
        ],
        [
         "2016-07-28T04:46:51.000+0000",
         "Close"
        ],
        [
         "2016-07-28T04:46:51.000+0000",
         "Open"
        ],
        [
         "2016-07-28T04:46:52.000+0000",
         "Open"
        ],
        [
         "2016-07-28T04:46:53.000+0000",
         "Open"
        ],
        [
         "2016-07-28T04:46:55.000+0000",
         "Open"
        ],
        [
         "2016-07-28T04:46:56.000+0000",
         "Close"
        ],
        [
         "2016-07-28T04:46:57.000+0000",
         "Close"
        ],
        [
         "2016-07-28T04:47:03.000+0000",
         "Close"
        ],
        [
         "2016-07-28T04:47:06.000+0000",
         "Open"
        ],
        [
         "2016-07-28T04:47:09.000+0000",
         "Open"
        ],
        [
         "2016-07-28T04:47:09.000+0000",
         "Open"
        ],
        [
         "2016-07-28T04:47:09.000+0000",
         "Open"
        ],
        [
         "2016-07-28T04:47:11.000+0000",
         "Close"
        ],
        [
         "2016-07-28T04:47:11.000+0000",
         "Close"
        ],
        [
         "2016-07-28T04:47:11.000+0000",
         "Close"
        ],
        [
         "2016-07-28T04:47:22.000+0000",
         "Close"
        ],
        [
         "2016-07-28T04:47:24.000+0000",
         "Close"
        ],
        [
         "2016-07-28T04:47:26.000+0000",
         "Close"
        ],
        [
         "2016-07-28T04:47:26.000+0000",
         "Open"
        ],
        [
         "2016-07-28T04:47:32.000+0000",
         "Close"
        ],
        [
         "2016-07-28T04:47:38.000+0000",
         "Open"
        ],
        [
         "2016-07-28T04:47:40.000+0000",
         "Open"
        ],
        [
         "2016-07-28T04:47:42.000+0000",
         "Close"
        ],
        [
         "2016-07-28T04:47:46.000+0000",
         "Close"
        ],
        [
         "2016-07-28T04:47:47.000+0000",
         "Open"
        ],
        [
         "2016-07-28T04:47:50.000+0000",
         "Close"
        ],
        [
         "2016-07-28T04:47:51.000+0000",
         "Open"
        ],
        [
         "2016-07-28T04:47:55.000+0000",
         "Close"
        ],
        [
         "2016-07-28T04:47:56.000+0000",
         "Open"
        ],
        [
         "2016-07-28T04:47:56.000+0000",
         "Open"
        ],
        [
         "2016-07-28T04:47:58.000+0000",
         "Open"
        ],
        [
         "2016-07-28T04:48:02.000+0000",
         "Close"
        ],
        [
         "2016-07-28T04:48:02.000+0000",
         "Close"
        ],
        [
         "2016-07-28T04:48:05.000+0000",
         "Close"
        ],
        [
         "2016-07-28T04:48:06.000+0000",
         "Close"
        ],
        [
         "2016-07-28T04:48:09.000+0000",
         "Close"
        ],
        [
         "2016-07-28T04:48:09.000+0000",
         "Open"
        ],
        [
         "2016-07-28T04:48:09.000+0000",
         "Open"
        ],
        [
         "2016-07-28T04:48:12.000+0000",
         "Open"
        ],
        [
         "2016-07-28T04:48:16.000+0000",
         "Close"
        ],
        [
         "2016-07-28T04:48:19.000+0000",
         "Close"
        ],
        [
         "2016-07-28T04:48:19.000+0000",
         "Open"
        ],
        [
         "2016-07-28T04:48:21.000+0000",
         "Open"
        ],
        [
         "2016-07-28T04:48:33.000+0000",
         "Close"
        ],
        [
         "2016-07-28T04:48:35.000+0000",
         "Close"
        ],
        [
         "2016-07-28T04:48:35.000+0000",
         "Open"
        ],
        [
         "2016-07-28T04:48:35.000+0000",
         "Open"
        ],
        [
         "2016-07-28T04:48:37.000+0000",
         "Open"
        ],
        [
         "2016-07-28T04:48:38.000+0000",
         "Close"
        ],
        [
         "2016-07-28T04:48:42.000+0000",
         "Close"
        ],
        [
         "2016-07-28T04:48:44.000+0000",
         "Open"
        ],
        [
         "2016-07-28T04:48:45.000+0000",
         "Open"
        ],
        [
         "2016-07-28T04:48:49.000+0000",
         "Close"
        ],
        [
         "2016-07-28T04:48:53.000+0000",
         "Close"
        ],
        [
         "2016-07-28T04:48:56.000+0000",
         "Close"
        ],
        [
         "2016-07-28T04:48:56.000+0000",
         "Close"
        ],
        [
         "2016-07-28T04:48:59.000+0000",
         "Close"
        ],
        [
         "2016-07-28T04:49:00.000+0000",
         "Open"
        ],
        [
         "2016-07-28T04:49:01.000+0000",
         "Open"
        ],
        [
         "2016-07-28T04:49:05.000+0000",
         "Close"
        ],
        [
         "2016-07-28T04:49:08.000+0000",
         "Open"
        ],
        [
         "2016-07-28T04:49:12.000+0000",
         "Close"
        ],
        [
         "2016-07-28T04:49:12.000+0000",
         "Close"
        ],
        [
         "2016-07-28T04:49:16.000+0000",
         "Close"
        ],
        [
         "2016-07-28T04:49:16.000+0000",
         "Close"
        ],
        [
         "2016-07-28T04:49:22.000+0000",
         "Open"
        ],
        [
         "2016-07-28T04:49:24.000+0000",
         "Close"
        ],
        [
         "2016-07-28T04:49:25.000+0000",
         "Open"
        ],
        [
         "2016-07-28T04:49:26.000+0000",
         "Close"
        ],
        [
         "2016-07-28T04:49:30.000+0000",
         "Open"
        ],
        [
         "2016-07-28T04:49:30.000+0000",
         "Open"
        ],
        [
         "2016-07-28T04:49:36.000+0000",
         "Close"
        ],
        [
         "2016-07-28T04:49:36.000+0000",
         "Open"
        ],
        [
         "2016-07-28T04:49:41.000+0000",
         "Close"
        ],
        [
         "2016-07-28T04:49:41.000+0000",
         "Open"
        ],
        [
         "2016-07-28T04:49:44.000+0000",
         "Close"
        ],
        [
         "2016-07-28T04:49:44.000+0000",
         "Close"
        ],
        [
         "2016-07-28T04:49:51.000+0000",
         "Close"
        ],
        [
         "2016-07-28T04:49:52.000+0000",
         "Close"
        ],
        [
         "2016-07-28T04:49:57.000+0000",
         "Close"
        ],
        [
         "2016-07-28T04:50:02.000+0000",
         "Open"
        ],
        [
         "2016-07-28T04:50:13.000+0000",
         "Open"
        ],
        [
         "2016-07-28T04:50:16.000+0000",
         "Open"
        ],
        [
         "2016-07-28T04:50:18.000+0000",
         "Open"
        ],
        [
         "2016-07-28T04:50:21.000+0000",
         "Close"
        ],
        [
         "2016-07-28T04:50:23.000+0000",
         "Close"
        ],
        [
         "2016-07-28T04:50:23.000+0000",
         "Close"
        ],
        [
         "2016-07-28T04:50:23.000+0000",
         "Close"
        ],
        [
         "2016-07-28T04:50:24.000+0000",
         "Open"
        ],
        [
         "2016-07-28T04:50:25.000+0000",
         "Close"
        ],
        [
         "2016-07-28T04:50:28.000+0000",
         "Close"
        ],
        [
         "2016-07-28T04:50:30.000+0000",
         "Close"
        ],
        [
         "2016-07-28T04:50:34.000+0000",
         "Close"
        ],
        [
         "2016-07-28T04:50:34.000+0000",
         "Close"
        ],
        [
         "2016-07-28T04:50:34.000+0000",
         "Open"
        ],
        [
         "2016-07-28T04:50:39.000+0000",
         "Close"
        ],
        [
         "2016-07-28T04:50:39.000+0000",
         "Close"
        ],
        [
         "2016-07-28T04:50:47.000+0000",
         "Close"
        ],
        [
         "2016-07-28T04:50:47.000+0000",
         "Close"
        ],
        [
         "2016-07-28T04:50:49.000+0000",
         "Close"
        ],
        [
         "2016-07-28T04:50:52.000+0000",
         "Open"
        ],
        [
         "2016-07-28T04:50:52.000+0000",
         "Open"
        ],
        [
         "2016-07-28T04:51:03.000+0000",
         "Open"
        ],
        [
         "2016-07-28T04:51:09.000+0000",
         "Close"
        ],
        [
         "2016-07-28T04:51:09.000+0000",
         "Close"
        ],
        [
         "2016-07-28T04:51:11.000+0000",
         "Close"
        ],
        [
         "2016-07-28T04:51:13.000+0000",
         "Open"
        ],
        [
         "2016-07-28T04:51:16.000+0000",
         "Close"
        ],
        [
         "2016-07-28T04:51:19.000+0000",
         "Close"
        ],
        [
         "2016-07-28T04:51:22.000+0000",
         "Close"
        ],
        [
         "2016-07-28T04:51:26.000+0000",
         "Close"
        ],
        [
         "2016-07-28T04:51:29.000+0000",
         "Close"
        ],
        [
         "2016-07-28T04:51:29.000+0000",
         "Close"
        ],
        [
         "2016-07-28T04:51:34.000+0000",
         "Open"
        ],
        [
         "2016-07-28T04:51:39.000+0000",
         "Close"
        ],
        [
         "2016-07-28T04:51:39.000+0000",
         "Close"
        ],
        [
         "2016-07-28T04:51:41.000+0000",
         "Close"
        ],
        [
         "2016-07-28T04:51:41.000+0000",
         "Open"
        ],
        [
         "2016-07-28T04:51:42.000+0000",
         "Open"
        ],
        [
         "2016-07-28T04:51:44.000+0000",
         "Close"
        ],
        [
         "2016-07-28T04:51:50.000+0000",
         "Close"
        ],
        [
         "2016-07-28T04:51:54.000+0000",
         "Close"
        ],
        [
         "2016-07-28T04:51:54.000+0000",
         "Open"
        ],
        [
         "2016-07-28T04:51:57.000+0000",
         "Close"
        ]
       ],
       "datasetInfos": [],
       "dbfsResultPath": null,
       "isJsonSchema": true,
       "metadata": {},
       "overflow": true,
       "plotOptions": {
        "customPlotOptions": {},
        "displayType": "table",
        "pivotAggregation": null,
        "pivotColumns": null,
        "xColumns": null,
        "yColumns": null
       },
       "removedWidgets": [],
       "schema": [
        {
         "metadata": "{}",
         "name": "time",
         "type": "\"timestamp\""
        },
        {
         "metadata": "{}",
         "name": "action",
         "type": "\"string\""
        }
       ],
       "type": "table"
      }
     },
     "output_type": "display_data"
    }
   ],
   "source": [
    "from pyspark.sql.types import *\n",
    "\n",
    "inputPath = \"/databricks-datasets/structured-streaming/events/\"\n",
    "\n",
    "# Since we know the data format already, let's define the schema to speed up processing (no need for Spark to infer schema)\n",
    "jsonSchema = StructType([ \n",
    "  StructField(\"time\", TimestampType(), True), \n",
    "  StructField(\"action\", StringType(), True) \n",
    "])\n",
    "\n",
    "# Static DataFrame representing data in the JSON files\n",
    "staticInputDF = (\n",
    "  spark\n",
    "    .read\n",
    "    .schema(jsonSchema)\n",
    "    .json(inputPath)\n",
    ")\n",
    "\n",
    "display(staticInputDF)"
   ]
  },
  {
   "cell_type": "code",
   "execution_count": 0,
   "metadata": {
    "application/vnd.databricks.v1+cell": {
     "cellMetadata": {},
     "inputWidgets": {},
     "nuid": "0fd99436-aeac-4063-ba35-07e66861bda6",
     "showTitle": false,
     "title": ""
    }
   },
   "outputs": [
    {
     "output_type": "display_data",
     "data": {
      "text/html": [
       "<style scoped>\n",
       "  .ansiout {\n",
       "    display: block;\n",
       "    unicode-bidi: embed;\n",
       "    white-space: pre-wrap;\n",
       "    word-wrap: break-word;\n",
       "    word-break: break-all;\n",
       "    font-family: \"Menlo\", \"Monaco\", \"Consolas\", \"Ubuntu Mono\", \"Source Code Pro\", monospace;\n",
       "    font-size: 13px;\n",
       "    color: #555;\n",
       "    margin-left: 4px;\n",
       "    line-height: 19px;\n",
       "  }\n",
       "</style>\n",
       "<div class=\"ansiout\"></div>"
      ]
     },
     "metadata": {
      "application/vnd.databricks.v1+output": {
       "addedWidgets": {},
       "arguments": {},
       "data": "<div class=\"ansiout\"></div>",
       "datasetInfos": [],
       "metadata": {},
       "removedWidgets": [],
       "type": "html"
      }
     },
     "output_type": "display_data"
    }
   ],
   "source": [
    "from pyspark.sql.functions import *      # for window() function\n",
    "\n",
    "staticCountsDF = (\n",
    "  staticInputDF\n",
    "    .groupBy(\n",
    "       staticInputDF.action, \n",
    "       window(staticInputDF.time, \"1 hour\"))    \n",
    "    .count()\n",
    ")\n",
    "staticCountsDF.cache()\n",
    "\n",
    "# Register the DataFrame as table 'static_counts'\n",
    "staticCountsDF.createOrReplaceTempView(\"static_counts\")"
   ]
  },
  {
   "cell_type": "code",
   "execution_count": 0,
   "metadata": {
    "application/vnd.databricks.v1+cell": {
     "cellMetadata": {},
     "inputWidgets": {},
     "nuid": "1be5cf70-c1cb-4219-98ea-b92948c2df2d",
     "showTitle": false,
     "title": ""
    }
   },
   "outputs": [
    {
     "output_type": "display_data",
     "data": {
      "text/html": [
       "<style scoped>\n",
       "  .table-result-container {\n",
       "    max-height: 300px;\n",
       "    overflow: auto;\n",
       "  }\n",
       "  table, th, td {\n",
       "    border: 1px solid black;\n",
       "    border-collapse: collapse;\n",
       "  }\n",
       "  th, td {\n",
       "    padding: 5px;\n",
       "  }\n",
       "  th {\n",
       "    text-align: left;\n",
       "  }\n",
       "</style><div class='table-result-container'><table class='table-result'><thead style='background-color: white'><tr><th>action</th><th>total_count</th></tr></thead><tbody><tr><td>Open</td><td>50000</td></tr><tr><td>Close</td><td>50000</td></tr></tbody></table></div>"
      ]
     },
     "metadata": {
      "application/vnd.databricks.v1+output": {
       "addedWidgets": {},
       "aggData": [],
       "aggError": "",
       "aggOverflow": false,
       "aggSchema": [],
       "aggSeriesLimitReached": false,
       "aggType": "",
       "arguments": {},
       "columnCustomDisplayInfos": {},
       "data": [
        [
         "Open",
         50000
        ],
        [
         "Close",
         50000
        ]
       ],
       "datasetInfos": [],
       "dbfsResultPath": null,
       "isJsonSchema": true,
       "metadata": {},
       "overflow": false,
       "plotOptions": {
        "customPlotOptions": {},
        "displayType": "plotlyBar",
        "pivotAggregation": null,
        "pivotColumns": null,
        "xColumns": null,
        "yColumns": null
       },
       "removedWidgets": [],
       "schema": [
        {
         "metadata": "{}",
         "name": "action",
         "type": "\"string\""
        },
        {
         "metadata": "{}",
         "name": "total_count",
         "type": "\"long\""
        }
       ],
       "type": "table"
      }
     },
     "output_type": "display_data"
    }
   ],
   "source": [
    "%sql select action, sum(count) as total_count from static_counts group by action"
   ]
  },
  {
   "cell_type": "code",
   "execution_count": 0,
   "metadata": {
    "application/vnd.databricks.v1+cell": {
     "cellMetadata": {},
     "inputWidgets": {},
     "nuid": "3b120e0b-b1ad-46d2-94a2-cf11767123ab",
     "showTitle": false,
     "title": ""
    }
   },
   "outputs": [
    {
     "output_type": "display_data",
     "data": {
      "text/html": [
       "<style scoped>\n",
       "  .ansiout {\n",
       "    display: block;\n",
       "    unicode-bidi: embed;\n",
       "    white-space: pre-wrap;\n",
       "    word-wrap: break-word;\n",
       "    word-break: break-all;\n",
       "    font-family: \"Menlo\", \"Monaco\", \"Consolas\", \"Ubuntu Mono\", \"Source Code Pro\", monospace;\n",
       "    font-size: 13px;\n",
       "    color: #555;\n",
       "    margin-left: 4px;\n",
       "    line-height: 19px;\n",
       "  }\n",
       "</style>\n",
       "<div class=\"ansiout\">Out[23]: True</div>"
      ]
     },
     "metadata": {
      "application/vnd.databricks.v1+output": {
       "addedWidgets": {},
       "arguments": {},
       "data": "<div class=\"ansiout\">Out[23]: True</div>",
       "datasetInfos": [],
       "metadata": {},
       "removedWidgets": [],
       "type": "html"
      }
     },
     "output_type": "display_data"
    }
   ],
   "source": [
    "from pyspark.sql.functions import *\n",
    "\n",
    "# Similar to definition of staticInputDF above, just using `readStream` instead of `read`\n",
    "streamingInputDF = (\n",
    "  spark\n",
    "    .readStream                       \n",
    "    .schema(jsonSchema)               # Set the schema of the JSON data\n",
    "    .option(\"maxFilesPerTrigger\", 1)  # Treat a sequence of files as a stream by picking one file at a time\n",
    "    .json(inputPath)\n",
    ")\n",
    "\n",
    "# Same query as staticInputDF\n",
    "streamingCountsDF = (                 \n",
    "  streamingInputDF\n",
    "    .groupBy(\n",
    "      streamingInputDF.action, \n",
    "      window(streamingInputDF.time, \"1 hour\"))\n",
    "    .count()\n",
    ")\n",
    "\n",
    "# Is this DF actually a streaming DF?\n",
    "streamingCountsDF.isStreaming"
   ]
  },
  {
   "cell_type": "code",
   "execution_count": 0,
   "metadata": {
    "application/vnd.databricks.v1+cell": {
     "cellMetadata": {},
     "inputWidgets": {},
     "nuid": "a4aa6cde-036c-4255-9730-d8665a3ecdab",
     "showTitle": false,
     "title": ""
    }
   },
   "outputs": [
    {
     "output_type": "display_data",
     "data": {
      "text/html": [
       "<style scoped>\n",
       "  .ansiout {\n",
       "    display: block;\n",
       "    unicode-bidi: embed;\n",
       "    white-space: pre-wrap;\n",
       "    word-wrap: break-word;\n",
       "    word-break: break-all;\n",
       "    font-family: \"Menlo\", \"Monaco\", \"Consolas\", \"Ubuntu Mono\", \"Source Code Pro\", monospace;\n",
       "    font-size: 13px;\n",
       "    color: #555;\n",
       "    margin-left: 4px;\n",
       "    line-height: 19px;\n",
       "  }\n",
       "</style>\n",
       "<div class=\"ansiout\"></div>"
      ]
     },
     "metadata": {
      "application/vnd.databricks.v1+output": {
       "addedWidgets": {},
       "arguments": {},
       "data": "<div class=\"ansiout\"></div>",
       "datasetInfos": [],
       "metadata": {},
       "removedWidgets": [],
       "type": "html"
      }
     },
     "output_type": "display_data"
    }
   ],
   "source": [
    "spark.conf.set(\"spark.sql.shuffle.partitions\", \"2\")  # keep the size of shuffles small\n",
    "\n",
    "query = (\n",
    "  streamingCountsDF\n",
    "    .writeStream\n",
    "    .format(\"memory\")        # memory = store in-memory table \n",
    "    .queryName(\"counts\")     # counts = name of the in-memory table\n",
    "    .outputMode(\"complete\")  # complete = all the counts should be in the table\n",
    "    .start()\n",
    ")"
   ]
  },
  {
   "cell_type": "code",
   "execution_count": 0,
   "metadata": {
    "application/vnd.databricks.v1+cell": {
     "cellMetadata": {},
     "inputWidgets": {},
     "nuid": "c56fa6a6-1177-48a9-b6e3-56d42b351b80",
     "showTitle": false,
     "title": ""
    }
   },
   "outputs": [
    {
     "output_type": "display_data",
     "data": {
      "text/html": [
       "<style scoped>\n",
       "  .ansiout {\n",
       "    display: block;\n",
       "    unicode-bidi: embed;\n",
       "    white-space: pre-wrap;\n",
       "    word-wrap: break-word;\n",
       "    word-break: break-all;\n",
       "    font-family: \"Menlo\", \"Monaco\", \"Consolas\", \"Ubuntu Mono\", \"Source Code Pro\", monospace;\n",
       "    font-size: 13px;\n",
       "    color: #555;\n",
       "    margin-left: 4px;\n",
       "    line-height: 19px;\n",
       "  }\n",
       "</style>\n",
       "<div class=\"ansiout\"></div>"
      ]
     },
     "metadata": {
      "application/vnd.databricks.v1+output": {
       "addedWidgets": {},
       "arguments": {},
       "data": "<div class=\"ansiout\"></div>",
       "datasetInfos": [],
       "metadata": {},
       "removedWidgets": [],
       "type": "html"
      }
     },
     "output_type": "display_data"
    }
   ],
   "source": [
    "from time import sleep\n",
    "sleep(5)  # wait a bit for computation to start"
   ]
  },
  {
   "cell_type": "code",
   "execution_count": 0,
   "metadata": {
    "application/vnd.databricks.v1+cell": {
     "cellMetadata": {},
     "inputWidgets": {},
     "nuid": "72509840-83ac-4a5d-ba90-faed0bd5a1cd",
     "showTitle": false,
     "title": ""
    }
   },
   "outputs": [
    {
     "output_type": "display_data",
     "data": {
      "text/html": [
       "<style scoped>\n",
       "  .table-result-container {\n",
       "    max-height: 300px;\n",
       "    overflow: auto;\n",
       "  }\n",
       "  table, th, td {\n",
       "    border: 1px solid black;\n",
       "    border-collapse: collapse;\n",
       "  }\n",
       "  th, td {\n",
       "    padding: 5px;\n",
       "  }\n",
       "  th {\n",
       "    text-align: left;\n",
       "  }\n",
       "</style><div class='table-result-container'><table class='table-result'><thead style='background-color: white'><tr><th>action</th><th>time</th><th>count</th></tr></thead><tbody><tr><td>Close</td><td>Jul-26 03:00</td><td>11</td></tr><tr><td>Open</td><td>Jul-26 03:00</td><td>179</td></tr><tr><td>Close</td><td>Jul-26 04:00</td><td>344</td></tr><tr><td>Open</td><td>Jul-26 04:00</td><td>1001</td></tr><tr><td>Close</td><td>Jul-26 05:00</td><td>815</td></tr><tr><td>Open</td><td>Jul-26 05:00</td><td>999</td></tr><tr><td>Close</td><td>Jul-26 06:00</td><td>1003</td></tr><tr><td>Open</td><td>Jul-26 06:00</td><td>1000</td></tr><tr><td>Close</td><td>Jul-26 07:00</td><td>1011</td></tr><tr><td>Open</td><td>Jul-26 07:00</td><td>993</td></tr><tr><td>Close</td><td>Jul-26 08:00</td><td>989</td></tr><tr><td>Open</td><td>Jul-26 08:00</td><td>1008</td></tr><tr><td>Close</td><td>Jul-26 09:00</td><td>985</td></tr><tr><td>Open</td><td>Jul-26 09:00</td><td>996</td></tr><tr><td>Close</td><td>Jul-26 10:00</td><td>983</td></tr><tr><td>Open</td><td>Jul-26 10:00</td><td>1000</td></tr><tr><td>Close</td><td>Jul-26 11:00</td><td>1022</td></tr><tr><td>Open</td><td>Jul-26 11:00</td><td>1007</td></tr><tr><td>Close</td><td>Jul-26 12:00</td><td>1028</td></tr><tr><td>Open</td><td>Jul-26 12:00</td><td>991</td></tr><tr><td>Close</td><td>Jul-26 13:00</td><td>960</td></tr><tr><td>Open</td><td>Jul-26 13:00</td><td>996</td></tr><tr><td>Close</td><td>Jul-26 14:00</td><td>1028</td></tr><tr><td>Open</td><td>Jul-26 14:00</td><td>1006</td></tr><tr><td>Close</td><td>Jul-26 15:00</td><td>994</td></tr><tr><td>Open</td><td>Jul-26 15:00</td><td>991</td></tr><tr><td>Close</td><td>Jul-26 16:00</td><td>988</td></tr><tr><td>Open</td><td>Jul-26 16:00</td><td>1020</td></tr><tr><td>Close</td><td>Jul-26 17:00</td><td>984</td></tr><tr><td>Open</td><td>Jul-26 17:00</td><td>992</td></tr><tr><td>Close</td><td>Jul-26 18:00</td><td>1036</td></tr><tr><td>Open</td><td>Jul-26 18:00</td><td>990</td></tr><tr><td>Close</td><td>Jul-26 19:00</td><td>1001</td></tr><tr><td>Open</td><td>Jul-26 19:00</td><td>1004</td></tr><tr><td>Close</td><td>Jul-26 20:00</td><td>967</td></tr><tr><td>Open</td><td>Jul-26 20:00</td><td>998</td></tr><tr><td>Close</td><td>Jul-26 21:00</td><td>1035</td></tr><tr><td>Open</td><td>Jul-26 21:00</td><td>1010</td></tr><tr><td>Close</td><td>Jul-26 22:00</td><td>995</td></tr><tr><td>Open</td><td>Jul-26 22:00</td><td>998</td></tr><tr><td>Close</td><td>Jul-26 23:00</td><td>1036</td></tr><tr><td>Open</td><td>Jul-26 23:00</td><td>997</td></tr><tr><td>Close</td><td>Jul-27 00:00</td><td>950</td></tr><tr><td>Open</td><td>Jul-27 00:00</td><td>1000</td></tr><tr><td>Close</td><td>Jul-27 01:00</td><td>1008</td></tr><tr><td>Open</td><td>Jul-27 01:00</td><td>998</td></tr><tr><td>Close</td><td>Jul-27 02:00</td><td>1013</td></tr><tr><td>Open</td><td>Jul-27 02:00</td><td>1004</td></tr><tr><td>Close</td><td>Jul-27 03:00</td><td>971</td></tr><tr><td>Open</td><td>Jul-27 03:00</td><td>992</td></tr><tr><td>Close</td><td>Jul-27 04:00</td><td>1025</td></tr><tr><td>Open</td><td>Jul-27 04:00</td><td>1014</td></tr><tr><td>Close</td><td>Jul-27 05:00</td><td>989</td></tr><tr><td>Open</td><td>Jul-27 05:00</td><td>995</td></tr><tr><td>Close</td><td>Jul-27 06:00</td><td>987</td></tr><tr><td>Open</td><td>Jul-27 06:00</td><td>986</td></tr><tr><td>Close</td><td>Jul-27 07:00</td><td>1026</td></tr><tr><td>Open</td><td>Jul-27 07:00</td><td>1016</td></tr><tr><td>Close</td><td>Jul-27 08:00</td><td>982</td></tr><tr><td>Open</td><td>Jul-27 08:00</td><td>998</td></tr><tr><td>Close</td><td>Jul-27 09:00</td><td>1024</td></tr><tr><td>Open</td><td>Jul-27 09:00</td><td>1002</td></tr><tr><td>Close</td><td>Jul-27 10:00</td><td>990</td></tr><tr><td>Open</td><td>Jul-27 10:00</td><td>992</td></tr><tr><td>Close</td><td>Jul-27 11:00</td><td>1001</td></tr><tr><td>Open</td><td>Jul-27 11:00</td><td>1006</td></tr><tr><td>Close</td><td>Jul-27 12:00</td><td>1006</td></tr><tr><td>Open</td><td>Jul-27 12:00</td><td>998</td></tr><tr><td>Close</td><td>Jul-27 13:00</td><td>1035</td></tr><tr><td>Open</td><td>Jul-27 13:00</td><td>994</td></tr><tr><td>Close</td><td>Jul-27 14:00</td><td>986</td></tr><tr><td>Open</td><td>Jul-27 14:00</td><td>1008</td></tr><tr><td>Close</td><td>Jul-27 15:00</td><td>948</td></tr><tr><td>Open</td><td>Jul-27 15:00</td><td>984</td></tr><tr><td>Close</td><td>Jul-27 16:00</td><td>1018</td></tr><tr><td>Open</td><td>Jul-27 16:00</td><td>1017</td></tr><tr><td>Close</td><td>Jul-27 17:00</td><td>970</td></tr><tr><td>Open</td><td>Jul-27 17:00</td><td>992</td></tr><tr><td>Close</td><td>Jul-27 18:00</td><td>1020</td></tr><tr><td>Open</td><td>Jul-27 18:00</td><td>1007</td></tr><tr><td>Close</td><td>Jul-27 19:00</td><td>1036</td></tr><tr><td>Open</td><td>Jul-27 19:00</td><td>995</td></tr><tr><td>Close</td><td>Jul-27 20:00</td><td>969</td></tr><tr><td>Open</td><td>Jul-27 20:00</td><td>1007</td></tr><tr><td>Close</td><td>Jul-27 21:00</td><td>1025</td></tr><tr><td>Open</td><td>Jul-27 21:00</td><td>1005</td></tr><tr><td>Close</td><td>Jul-27 22:00</td><td>979</td></tr><tr><td>Open</td><td>Jul-27 22:00</td><td>998</td></tr><tr><td>Close</td><td>Jul-27 23:00</td><td>996</td></tr><tr><td>Open</td><td>Jul-27 23:00</td><td>986</td></tr><tr><td>Close</td><td>Jul-28 00:00</td><td>1011</td></tr><tr><td>Open</td><td>Jul-28 00:00</td><td>1008</td></tr><tr><td>Close</td><td>Jul-28 01:00</td><td>988</td></tr><tr><td>Open</td><td>Jul-28 01:00</td><td>1000</td></tr><tr><td>Close</td><td>Jul-28 02:00</td><td>1010</td></tr><tr><td>Open</td><td>Jul-28 02:00</td><td>1001</td></tr><tr><td>Close</td><td>Jul-28 03:00</td><td>1007</td></tr><tr><td>Open</td><td>Jul-28 03:00</td><td>1000</td></tr><tr><td>Close</td><td>Jul-28 04:00</td><td>993</td></tr><tr><td>Open</td><td>Jul-28 04:00</td><td>996</td></tr><tr><td>Close</td><td>Jul-28 05:00</td><td>960</td></tr><tr><td>Open</td><td>Jul-28 05:00</td><td>825</td></tr><tr><td>Close</td><td>Jul-28 06:00</td><td>671</td></tr><tr><td>Close</td><td>Jul-28 07:00</td><td>191</td></tr></tbody></table></div>"
      ]
     },
     "metadata": {
      "application/vnd.databricks.v1+output": {
       "addedWidgets": {},
       "aggData": [],
       "aggError": "",
       "aggOverflow": false,
       "aggSchema": [],
       "aggSeriesLimitReached": false,
       "aggType": "",
       "arguments": {},
       "columnCustomDisplayInfos": {},
       "data": [
        [
         "Close",
         "Jul-26 03:00",
         11
        ],
        [
         "Open",
         "Jul-26 03:00",
         179
        ],
        [
         "Close",
         "Jul-26 04:00",
         344
        ],
        [
         "Open",
         "Jul-26 04:00",
         1001
        ],
        [
         "Close",
         "Jul-26 05:00",
         815
        ],
        [
         "Open",
         "Jul-26 05:00",
         999
        ],
        [
         "Close",
         "Jul-26 06:00",
         1003
        ],
        [
         "Open",
         "Jul-26 06:00",
         1000
        ],
        [
         "Close",
         "Jul-26 07:00",
         1011
        ],
        [
         "Open",
         "Jul-26 07:00",
         993
        ],
        [
         "Close",
         "Jul-26 08:00",
         989
        ],
        [
         "Open",
         "Jul-26 08:00",
         1008
        ],
        [
         "Close",
         "Jul-26 09:00",
         985
        ],
        [
         "Open",
         "Jul-26 09:00",
         996
        ],
        [
         "Close",
         "Jul-26 10:00",
         983
        ],
        [
         "Open",
         "Jul-26 10:00",
         1000
        ],
        [
         "Close",
         "Jul-26 11:00",
         1022
        ],
        [
         "Open",
         "Jul-26 11:00",
         1007
        ],
        [
         "Close",
         "Jul-26 12:00",
         1028
        ],
        [
         "Open",
         "Jul-26 12:00",
         991
        ],
        [
         "Close",
         "Jul-26 13:00",
         960
        ],
        [
         "Open",
         "Jul-26 13:00",
         996
        ],
        [
         "Close",
         "Jul-26 14:00",
         1028
        ],
        [
         "Open",
         "Jul-26 14:00",
         1006
        ],
        [
         "Close",
         "Jul-26 15:00",
         994
        ],
        [
         "Open",
         "Jul-26 15:00",
         991
        ],
        [
         "Close",
         "Jul-26 16:00",
         988
        ],
        [
         "Open",
         "Jul-26 16:00",
         1020
        ],
        [
         "Close",
         "Jul-26 17:00",
         984
        ],
        [
         "Open",
         "Jul-26 17:00",
         992
        ],
        [
         "Close",
         "Jul-26 18:00",
         1036
        ],
        [
         "Open",
         "Jul-26 18:00",
         990
        ],
        [
         "Close",
         "Jul-26 19:00",
         1001
        ],
        [
         "Open",
         "Jul-26 19:00",
         1004
        ],
        [
         "Close",
         "Jul-26 20:00",
         967
        ],
        [
         "Open",
         "Jul-26 20:00",
         998
        ],
        [
         "Close",
         "Jul-26 21:00",
         1035
        ],
        [
         "Open",
         "Jul-26 21:00",
         1010
        ],
        [
         "Close",
         "Jul-26 22:00",
         995
        ],
        [
         "Open",
         "Jul-26 22:00",
         998
        ],
        [
         "Close",
         "Jul-26 23:00",
         1036
        ],
        [
         "Open",
         "Jul-26 23:00",
         997
        ],
        [
         "Close",
         "Jul-27 00:00",
         950
        ],
        [
         "Open",
         "Jul-27 00:00",
         1000
        ],
        [
         "Close",
         "Jul-27 01:00",
         1008
        ],
        [
         "Open",
         "Jul-27 01:00",
         998
        ],
        [
         "Close",
         "Jul-27 02:00",
         1013
        ],
        [
         "Open",
         "Jul-27 02:00",
         1004
        ],
        [
         "Close",
         "Jul-27 03:00",
         971
        ],
        [
         "Open",
         "Jul-27 03:00",
         992
        ],
        [
         "Close",
         "Jul-27 04:00",
         1025
        ],
        [
         "Open",
         "Jul-27 04:00",
         1014
        ],
        [
         "Close",
         "Jul-27 05:00",
         989
        ],
        [
         "Open",
         "Jul-27 05:00",
         995
        ],
        [
         "Close",
         "Jul-27 06:00",
         987
        ],
        [
         "Open",
         "Jul-27 06:00",
         986
        ],
        [
         "Close",
         "Jul-27 07:00",
         1026
        ],
        [
         "Open",
         "Jul-27 07:00",
         1016
        ],
        [
         "Close",
         "Jul-27 08:00",
         982
        ],
        [
         "Open",
         "Jul-27 08:00",
         998
        ],
        [
         "Close",
         "Jul-27 09:00",
         1024
        ],
        [
         "Open",
         "Jul-27 09:00",
         1002
        ],
        [
         "Close",
         "Jul-27 10:00",
         990
        ],
        [
         "Open",
         "Jul-27 10:00",
         992
        ],
        [
         "Close",
         "Jul-27 11:00",
         1001
        ],
        [
         "Open",
         "Jul-27 11:00",
         1006
        ],
        [
         "Close",
         "Jul-27 12:00",
         1006
        ],
        [
         "Open",
         "Jul-27 12:00",
         998
        ],
        [
         "Close",
         "Jul-27 13:00",
         1035
        ],
        [
         "Open",
         "Jul-27 13:00",
         994
        ],
        [
         "Close",
         "Jul-27 14:00",
         986
        ],
        [
         "Open",
         "Jul-27 14:00",
         1008
        ],
        [
         "Close",
         "Jul-27 15:00",
         948
        ],
        [
         "Open",
         "Jul-27 15:00",
         984
        ],
        [
         "Close",
         "Jul-27 16:00",
         1018
        ],
        [
         "Open",
         "Jul-27 16:00",
         1017
        ],
        [
         "Close",
         "Jul-27 17:00",
         970
        ],
        [
         "Open",
         "Jul-27 17:00",
         992
        ],
        [
         "Close",
         "Jul-27 18:00",
         1020
        ],
        [
         "Open",
         "Jul-27 18:00",
         1007
        ],
        [
         "Close",
         "Jul-27 19:00",
         1036
        ],
        [
         "Open",
         "Jul-27 19:00",
         995
        ],
        [
         "Close",
         "Jul-27 20:00",
         969
        ],
        [
         "Open",
         "Jul-27 20:00",
         1007
        ],
        [
         "Close",
         "Jul-27 21:00",
         1025
        ],
        [
         "Open",
         "Jul-27 21:00",
         1005
        ],
        [
         "Close",
         "Jul-27 22:00",
         979
        ],
        [
         "Open",
         "Jul-27 22:00",
         998
        ],
        [
         "Close",
         "Jul-27 23:00",
         996
        ],
        [
         "Open",
         "Jul-27 23:00",
         986
        ],
        [
         "Close",
         "Jul-28 00:00",
         1011
        ],
        [
         "Open",
         "Jul-28 00:00",
         1008
        ],
        [
         "Close",
         "Jul-28 01:00",
         988
        ],
        [
         "Open",
         "Jul-28 01:00",
         1000
        ],
        [
         "Close",
         "Jul-28 02:00",
         1010
        ],
        [
         "Open",
         "Jul-28 02:00",
         1001
        ],
        [
         "Close",
         "Jul-28 03:00",
         1007
        ],
        [
         "Open",
         "Jul-28 03:00",
         1000
        ],
        [
         "Close",
         "Jul-28 04:00",
         993
        ],
        [
         "Open",
         "Jul-28 04:00",
         996
        ],
        [
         "Close",
         "Jul-28 05:00",
         960
        ],
        [
         "Open",
         "Jul-28 05:00",
         825
        ],
        [
         "Close",
         "Jul-28 06:00",
         671
        ],
        [
         "Close",
         "Jul-28 07:00",
         191
        ]
       ],
       "datasetInfos": [],
       "dbfsResultPath": null,
       "isJsonSchema": true,
       "metadata": {},
       "overflow": false,
       "plotOptions": {
        "customPlotOptions": {
         "plotlyBar": [
          {
           "key": "grouped",
           "value": true
          },
          {
           "key": "stacked",
           "value": false
          },
          {
           "key": "100_stacked",
           "value": false
          }
         ]
        },
        "displayType": "plotlyBar",
        "pivotAggregation": "sum",
        "pivotColumns": [
         "action"
        ],
        "xColumns": [
         "time",
         "action"
        ],
        "yColumns": [
         "count"
        ]
       },
       "removedWidgets": [],
       "schema": [
        {
         "metadata": "{}",
         "name": "action",
         "type": "\"string\""
        },
        {
         "metadata": "{}",
         "name": "time",
         "type": "\"string\""
        },
        {
         "metadata": "{}",
         "name": "count",
         "type": "\"long\""
        }
       ],
       "type": "table"
      }
     },
     "output_type": "display_data"
    }
   ],
   "source": [
    "%sql select action, date_format(window.end, \"MMM-dd HH:mm\") as time, count from counts order by time, action"
   ]
  },
  {
   "cell_type": "code",
   "execution_count": 0,
   "metadata": {
    "application/vnd.databricks.v1+cell": {
     "cellMetadata": {},
     "inputWidgets": {},
     "nuid": "8158a487-ac4f-4154-9c81-010a3aac7917",
     "showTitle": false,
     "title": ""
    }
   },
   "outputs": [
    {
     "output_type": "display_data",
     "data": {
      "text/html": [
       "<style scoped>\n",
       "  .ansiout {\n",
       "    display: block;\n",
       "    unicode-bidi: embed;\n",
       "    white-space: pre-wrap;\n",
       "    word-wrap: break-word;\n",
       "    word-break: break-all;\n",
       "    font-family: \"Menlo\", \"Monaco\", \"Consolas\", \"Ubuntu Mono\", \"Source Code Pro\", monospace;\n",
       "    font-size: 13px;\n",
       "    color: #555;\n",
       "    margin-left: 4px;\n",
       "    line-height: 19px;\n",
       "  }\n",
       "</style>\n",
       "<div class=\"ansiout\"></div>"
      ]
     },
     "metadata": {
      "application/vnd.databricks.v1+output": {
       "addedWidgets": {},
       "arguments": {},
       "data": "<div class=\"ansiout\"></div>",
       "datasetInfos": [],
       "metadata": {},
       "removedWidgets": [],
       "type": "html"
      }
     },
     "output_type": "display_data"
    }
   ],
   "source": [
    "query.stop()"
   ]
  }
 ],
 "metadata": {
  "application/vnd.databricks.v1+notebook": {
   "dashboards": [],
   "language": "python",
   "notebookMetadata": {
    "pythonIndentUnit": 2
   },
   "notebookName": "Streaming",
   "widgets": {}
  }
 },
 "nbformat": 4,
 "nbformat_minor": 0
}
